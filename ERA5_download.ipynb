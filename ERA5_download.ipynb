{
 "cells": [
  {
   "cell_type": "markdown",
   "metadata": {},
   "source": [
    "# Winds and MSLP for fluxes"
   ]
  },
  {
   "cell_type": "code",
   "execution_count": 1,
   "metadata": {},
   "outputs": [],
   "source": [
    "import os\n",
    "import datetime\n",
    "from pathlib import Path\n",
    "from collections import defaultdict\n",
    "import scipy\n",
    "import random\n",
    "import numpy as np\n",
    "import xarray as xr\n",
    "import pandas as pd\n",
    "import joblib\n",
    "import pickle\n",
    "import xesmf as xe\n",
    "\n",
    "import seaborn as sns\n",
    "import cmocean as cm            # really nice colorbars\n",
    "import matplotlib.pyplot as plt\n",
    "from sklearn.linear_model import LinearRegression\n",
    "from scipy import stats\n",
    "\n",
    "import PyCO2SYS as pyco2"
   ]
  },
  {
   "cell_type": "code",
   "execution_count": 3,
   "metadata": {},
   "outputs": [],
   "source": [
    "import cdsapi"
   ]
  },
  {
   "cell_type": "code",
   "execution_count": 11,
   "metadata": {},
   "outputs": [
    {
     "name": "stdout",
     "output_type": "stream",
     "text": [
      "100955.484\n",
      "100987.4\n"
     ]
    }
   ],
   "source": []
  },
  {
   "cell_type": "code",
   "execution_count": 2,
   "metadata": {},
   "outputs": [
    {
     "name": "stderr",
     "output_type": "stream",
     "text": [
      "2021-09-09 21:15:14,035 INFO Welcome to the CDS\n",
      "2021-09-09 21:15:14,036 INFO Sending request to https://cds.climate.copernicus.eu/api/v2/resources/reanalysis-era5-single-levels\n",
      "2021-09-09 21:15:14,114 INFO Request is queued\n"
     ]
    },
    {
     "name": "stdout",
     "output_type": "stream",
     "text": [
      "1979\n",
      "month =  01\n"
     ]
    },
    {
     "name": "stderr",
     "output_type": "stream",
     "text": [
      "2021-09-09 21:15:15,190 INFO Request is running\n",
      "2021-09-09 21:18:06,016 INFO Request is completed\n",
      "2021-09-09 21:18:06,017 INFO Downloading https://download-0014.copernicus-climate.eu/cache-compute-0014/cache/data9/adaptor.mars.internal-1631236566.1848493-5367-19-cadc135a-50d6-46a9-ade1-eb14e3e9e42b.nc to /data/artemis/observations/ERA5/Winds_1979-01.nc (2.9G)\n",
      "2021-09-09 21:40:10,332 INFO Download rate 2.2M/s    \n",
      "2021-09-09 21:40:10,707 INFO Welcome to the CDS\n",
      "2021-09-09 21:40:10,708 INFO Sending request to https://cds.climate.copernicus.eu/api/v2/resources/reanalysis-era5-single-levels\n",
      "2021-09-09 21:40:10,790 INFO Request is queued\n"
     ]
    },
    {
     "name": "stdout",
     "output_type": "stream",
     "text": [
      "1979\n",
      "month =  02\n"
     ]
    },
    {
     "name": "stderr",
     "output_type": "stream",
     "text": [
      "2021-09-09 21:40:11,868 INFO Request is running\n",
      "2021-09-09 21:42:04,974 INFO Request is completed\n",
      "2021-09-09 21:42:04,975 INFO Downloading https://download-0003.copernicus-climate.eu/cache-compute-0003/cache/data0/adaptor.mars.internal-1631238062.9956787-19040-17-bcc33e7a-c990-4edf-b9e8-386d3eed681c.nc to /data/artemis/observations/ERA5/Winds_1979-02.nc (2.6G)\n",
      "2021-09-09 21:51:43,924 INFO Download rate 4.6M/s    \n",
      "2021-09-09 21:51:44,296 INFO Welcome to the CDS\n",
      "2021-09-09 21:51:44,297 INFO Sending request to https://cds.climate.copernicus.eu/api/v2/resources/reanalysis-era5-single-levels\n",
      "2021-09-09 21:51:44,375 INFO Request is queued\n"
     ]
    },
    {
     "name": "stdout",
     "output_type": "stream",
     "text": [
      "1979\n",
      "month =  03\n"
     ]
    },
    {
     "name": "stderr",
     "output_type": "stream",
     "text": [
      "2021-09-09 21:51:45,451 INFO Request is running\n",
      "2021-09-09 21:53:38,560 INFO Request is completed\n",
      "2021-09-09 21:53:38,561 INFO Downloading https://download-0006.copernicus-climate.eu/cache-compute-0006/cache/data7/adaptor.mars.internal-1631238758.6565347-20176-9-32022987-8ece-461f-b7f7-9dea24dd0c7d.nc to /data/artemis/observations/ERA5/Winds_1979-03.nc (2.9G)\n",
      "2021-09-09 22:06:47,711 INFO Download rate 3.7M/s    \n",
      "2021-09-09 22:06:48,078 INFO Welcome to the CDS\n",
      "2021-09-09 22:06:48,079 INFO Sending request to https://cds.climate.copernicus.eu/api/v2/resources/reanalysis-era5-single-levels\n",
      "2021-09-09 22:06:48,158 INFO Request is queued\n"
     ]
    },
    {
     "name": "stdout",
     "output_type": "stream",
     "text": [
      "1979\n",
      "month =  04\n"
     ]
    },
    {
     "name": "stderr",
     "output_type": "stream",
     "text": [
      "2021-09-09 22:06:53,135 INFO Request is running\n",
      "2021-09-09 22:09:40,316 INFO Request is completed\n",
      "2021-09-09 22:09:40,317 INFO Downloading https://download-0003.copernicus-climate.eu/cache-compute-0003/cache/data7/adaptor.mars.internal-1631239669.4667287-4848-15-64fb3f23-4100-4e5b-a961-73c32a50ff3f.nc to /data/artemis/observations/ERA5/Winds_1979-04.nc (2.8G)\n",
      "2021-09-09 22:30:43,464 INFO Download rate 2.3M/s    \n",
      "2021-09-09 22:30:43,843 INFO Welcome to the CDS\n",
      "2021-09-09 22:30:43,843 INFO Sending request to https://cds.climate.copernicus.eu/api/v2/resources/reanalysis-era5-single-levels\n",
      "2021-09-09 22:30:43,925 INFO Request is queued\n"
     ]
    },
    {
     "name": "stdout",
     "output_type": "stream",
     "text": [
      "1979\n",
      "month =  05\n"
     ]
    },
    {
     "name": "stderr",
     "output_type": "stream",
     "text": [
      "2021-09-09 22:31:05,192 INFO Request is running\n",
      "2021-09-09 22:33:35,905 INFO Request is completed\n",
      "2021-09-09 22:33:35,905 INFO Downloading https://download-0014.copernicus-climate.eu/cache-compute-0014/cache/data6/adaptor.mars.internal-1631241116.2065382-14965-3-dddb8714-ba63-47e5-b193-77631c86c2ad.nc to /data/artemis/observations/ERA5/Winds_1979-05.nc (2.9G)\n",
      "2021-09-09 22:41:41,168 INFO Download rate 6.1M/s    \n",
      "2021-09-09 22:41:41,536 INFO Welcome to the CDS\n",
      "2021-09-09 22:41:41,537 INFO Sending request to https://cds.climate.copernicus.eu/api/v2/resources/reanalysis-era5-single-levels\n",
      "2021-09-09 22:41:41,617 INFO Request is queued\n"
     ]
    },
    {
     "name": "stdout",
     "output_type": "stream",
     "text": [
      "1979\n",
      "month =  06\n"
     ]
    },
    {
     "name": "stderr",
     "output_type": "stream",
     "text": [
      "2021-09-09 22:41:42,695 INFO Request is running\n",
      "2021-09-09 22:43:35,821 INFO Request is completed\n",
      "2021-09-09 22:43:35,822 INFO Downloading https://download-0011.copernicus-climate.eu/cache-compute-0011/cache/data3/adaptor.mars.internal-1631241760.6185935-16475-4-348a56cc-28b9-495d-9a44-3b29ae773491.nc to /data/artemis/observations/ERA5/Winds_1979-06.nc (2.8G)\n",
      "2021-09-09 22:53:51,646 INFO Download rate 4.6M/s    \n",
      "2021-09-09 22:53:52,014 INFO Welcome to the CDS\n",
      "2021-09-09 22:53:52,015 INFO Sending request to https://cds.climate.copernicus.eu/api/v2/resources/reanalysis-era5-single-levels\n",
      "2021-09-09 22:53:52,101 INFO Request is queued\n"
     ]
    },
    {
     "name": "stdout",
     "output_type": "stream",
     "text": [
      "1979\n",
      "month =  07\n"
     ]
    },
    {
     "name": "stderr",
     "output_type": "stream",
     "text": [
      "2021-09-09 22:53:53,180 INFO Request is running\n",
      "2021-09-09 22:56:44,257 INFO Request is completed\n",
      "2021-09-09 22:56:44,258 INFO Downloading https://download-0001.copernicus-climate.eu/cache-compute-0001/cache/data3/adaptor.mars.internal-1631242492.9965065-26475-19-00e7269f-c3ee-406a-8a67-89729d14bc89.nc to /data/artemis/observations/ERA5/Winds_1979-07.nc (2.9G)\n",
      "2021-09-09 23:06:52,165 INFO Download rate 4.8M/s    \n",
      "2021-09-09 23:06:52,536 INFO Welcome to the CDS\n",
      "2021-09-09 23:06:52,536 INFO Sending request to https://cds.climate.copernicus.eu/api/v2/resources/reanalysis-era5-single-levels\n",
      "2021-09-09 23:06:52,614 INFO Request is queued\n"
     ]
    },
    {
     "name": "stdout",
     "output_type": "stream",
     "text": [
      "1979\n",
      "month =  08\n"
     ]
    },
    {
     "name": "stderr",
     "output_type": "stream",
     "text": [
      "2021-09-09 23:06:53,691 INFO Request is running\n",
      "2021-09-09 23:09:44,603 INFO Request is completed\n",
      "2021-09-09 23:09:44,603 INFO Downloading https://download-0009.copernicus-climate.eu/cache-compute-0009/cache/data5/adaptor.mars.internal-1631243269.8478208-21633-16-56db40d2-d538-4341-9bfd-758e33c61960.nc to /data/artemis/observations/ERA5/Winds_1979-08.nc (2.9G)\n",
      "2021-09-09 23:44:27,863 INFO Download rate 1.4M/s    \n",
      "2021-09-09 23:44:28,239 INFO Welcome to the CDS\n",
      "2021-09-09 23:44:28,239 INFO Sending request to https://cds.climate.copernicus.eu/api/v2/resources/reanalysis-era5-single-levels\n",
      "2021-09-09 23:44:28,319 INFO Request is queued\n"
     ]
    },
    {
     "name": "stdout",
     "output_type": "stream",
     "text": [
      "1979\n",
      "month =  09\n"
     ]
    },
    {
     "name": "stderr",
     "output_type": "stream",
     "text": [
      "2021-09-09 23:44:29,395 INFO Request is running\n",
      "2021-09-09 23:47:20,316 INFO Request is completed\n",
      "2021-09-09 23:47:20,317 INFO Downloading https://download-0011.copernicus-climate.eu/cache-compute-0011/cache/data3/adaptor.mars.internal-1631245532.9644482-14496-4-62192051-2baf-43d6-a9ef-9866d2b44a94.nc to /data/artemis/observations/ERA5/Winds_1979-09.nc (2.8G)\n",
      "2021-09-10 00:07:06,128 INFO Download rate 2.4M/s    \n",
      "2021-09-10 00:07:06,496 INFO Welcome to the CDS\n",
      "2021-09-10 00:07:06,497 INFO Sending request to https://cds.climate.copernicus.eu/api/v2/resources/reanalysis-era5-single-levels\n",
      "2021-09-10 00:07:06,576 INFO Request is queued\n"
     ]
    },
    {
     "name": "stdout",
     "output_type": "stream",
     "text": [
      "1979\n",
      "month =  10\n"
     ]
    },
    {
     "name": "stderr",
     "output_type": "stream",
     "text": [
      "2021-09-10 00:07:07,652 INFO Request is running\n",
      "2021-09-10 00:09:58,550 INFO Request is completed\n",
      "2021-09-10 00:09:58,551 INFO Downloading https://download-0007.copernicus-climate.eu/cache-compute-0007/cache/data2/adaptor.mars.internal-1631246881.0557199-4980-12-14fef34d-bbca-40af-9005-65b3faba5d07.nc to /data/artemis/observations/ERA5/Winds_1979-10.nc (2.9G)\n",
      "2021-09-10 00:26:03,612 INFO Download rate 3.1M/s    \n",
      "2021-09-10 00:26:03,984 INFO Welcome to the CDS\n",
      "2021-09-10 00:26:03,984 INFO Sending request to https://cds.climate.copernicus.eu/api/v2/resources/reanalysis-era5-single-levels\n",
      "2021-09-10 00:26:04,066 INFO Request is queued\n"
     ]
    },
    {
     "name": "stdout",
     "output_type": "stream",
     "text": [
      "1979\n",
      "month =  11\n"
     ]
    },
    {
     "name": "stderr",
     "output_type": "stream",
     "text": [
      "2021-09-10 00:26:05,142 INFO Request is running\n",
      "2021-09-10 00:28:56,025 INFO Request is completed\n",
      "2021-09-10 00:28:56,026 INFO Downloading https://download-0000.copernicus-climate.eu/cache-compute-0000/cache/data8/adaptor.mars.internal-1631248019.5969734-13559-5-901cb21b-acda-4187-b86b-26d9ed6c8e54.nc to /data/artemis/observations/ERA5/Winds_1979-11.nc (2.8G)\n",
      "2021-09-10 00:40:08,083 INFO Download rate 4.2M/s    \n",
      "2021-09-10 00:40:08,453 INFO Welcome to the CDS\n",
      "2021-09-10 00:40:08,453 INFO Sending request to https://cds.climate.copernicus.eu/api/v2/resources/reanalysis-era5-single-levels\n",
      "2021-09-10 00:40:08,535 INFO Request is queued\n"
     ]
    },
    {
     "name": "stdout",
     "output_type": "stream",
     "text": [
      "1979\n",
      "month =  12\n"
     ]
    },
    {
     "name": "stderr",
     "output_type": "stream",
     "text": [
      "2021-09-10 00:40:09,613 INFO Request is running\n",
      "2021-09-10 00:43:00,521 INFO Request is completed\n",
      "2021-09-10 00:43:00,522 INFO Downloading https://download-0012.copernicus-climate.eu/cache-compute-0012/cache/data3/adaptor.mars.internal-1631248866.0378816-23729-7-87a2495d-05fb-438f-9b1f-9af541fbb1af.nc to /data/artemis/observations/ERA5/Winds_1979-12.nc (2.9G)\n",
      "2021-09-10 01:02:15,975 INFO Download rate 2.6M/s    \n",
      "2021-09-10 01:02:16,348 INFO Welcome to the CDS\n",
      "2021-09-10 01:02:16,348 INFO Sending request to https://cds.climate.copernicus.eu/api/v2/resources/reanalysis-era5-single-levels\n"
     ]
    },
    {
     "name": "stdout",
     "output_type": "stream",
     "text": [
      "1980\n",
      "month =  01\n"
     ]
    },
    {
     "name": "stderr",
     "output_type": "stream",
     "text": [
      "2021-09-10 01:02:16,481 INFO Request is queued\n",
      "2021-09-10 01:02:17,559 INFO Request is running\n",
      "2021-09-10 01:05:08,413 INFO Request is completed\n",
      "2021-09-10 01:05:08,414 INFO Downloading https://download-0000.copernicus-climate.eu/cache-compute-0000/cache/data1/adaptor.mars.internal-1631250213.9331746-3924-7-863cabbb-4641-43ae-b6e6-210c552b12f6.nc to /data/artemis/observations/ERA5/Winds_1980-01.nc (2.9G)\n",
      "2021-09-10 01:20:28,156 INFO Download rate 3.2M/s    \n",
      "2021-09-10 01:20:28,526 INFO Welcome to the CDS\n",
      "2021-09-10 01:20:28,526 INFO Sending request to https://cds.climate.copernicus.eu/api/v2/resources/reanalysis-era5-single-levels\n",
      "2021-09-10 01:20:28,604 INFO Request is queued\n"
     ]
    },
    {
     "name": "stdout",
     "output_type": "stream",
     "text": [
      "1980\n",
      "month =  02\n"
     ]
    },
    {
     "name": "stderr",
     "output_type": "stream",
     "text": [
      "2021-09-10 01:20:29,682 INFO Request is running\n",
      "2021-09-10 01:23:20,731 INFO Request is completed\n",
      "2021-09-10 01:23:20,732 INFO Downloading https://download-0010.copernicus-climate.eu/cache-compute-0010/cache/data3/adaptor.mars.internal-1631251308.6201699-11679-3-509ade8c-bf93-45fb-b7b0-761025a74ace.nc to /data/artemis/observations/ERA5/Winds_1980-02.nc (2.7G)\n",
      "2021-09-10 01:46:45,540 INFO Download rate 2M/s      \n",
      "2021-09-10 01:46:45,910 INFO Welcome to the CDS\n",
      "2021-09-10 01:46:45,910 INFO Sending request to https://cds.climate.copernicus.eu/api/v2/resources/reanalysis-era5-single-levels\n",
      "2021-09-10 01:46:45,991 INFO Request is queued\n"
     ]
    },
    {
     "name": "stdout",
     "output_type": "stream",
     "text": [
      "1980\n",
      "month =  03\n"
     ]
    },
    {
     "name": "stderr",
     "output_type": "stream",
     "text": [
      "2021-09-10 01:46:47,068 INFO Request is running\n",
      "2021-09-10 01:49:37,942 INFO Request is completed\n",
      "2021-09-10 01:49:37,943 INFO Downloading https://download-0006.copernicus-climate.eu/cache-compute-0006/cache/data9/adaptor.mars.internal-1631252864.8982067-5500-12-652d9922-3e29-4107-a872-f2d4aeac3f76.nc to /data/artemis/observations/ERA5/Winds_1980-03.nc (2.9G)\n",
      "2021-09-10 01:55:51,810 ERROR Download incomplete, downloaded 1517056000 byte(s) out of 3089815192\n",
      "2021-09-10 01:55:51,811 WARNING Sleeping 10 seconds\n",
      "2021-09-10 01:56:01,820 WARNING Resuming download at byte 1517056000\n",
      "2021-09-10 02:04:10,311 INFO Download rate 3.4M/s   \n",
      "2021-09-10 02:04:10,682 INFO Welcome to the CDS\n",
      "2021-09-10 02:04:10,682 INFO Sending request to https://cds.climate.copernicus.eu/api/v2/resources/reanalysis-era5-single-levels\n",
      "2021-09-10 02:04:10,762 INFO Request is queued\n"
     ]
    },
    {
     "name": "stdout",
     "output_type": "stream",
     "text": [
      "1980\n",
      "month =  04\n"
     ]
    },
    {
     "name": "stderr",
     "output_type": "stream",
     "text": [
      "2021-09-10 02:07:02,691 INFO Request is running\n",
      "2021-09-10 02:20:31,653 INFO Request is completed\n",
      "2021-09-10 02:20:31,653 INFO Downloading https://download-0000.copernicus-climate.eu/cache-compute-0000/cache/data8/adaptor.mars.internal-1631254549.4506512-28415-19-86a1c476-d24e-4dee-bf96-e0f4210b6f8d.nc to /data/artemis/observations/ERA5/Winds_1980-04.nc (2.8G)\n",
      "2021-09-10 02:27:57,646 INFO Download rate 6.4M/s    \n",
      "2021-09-10 02:27:58,011 INFO Welcome to the CDS\n",
      "2021-09-10 02:27:58,011 INFO Sending request to https://cds.climate.copernicus.eu/api/v2/resources/reanalysis-era5-single-levels\n",
      "2021-09-10 02:27:58,092 INFO Request is queued\n"
     ]
    },
    {
     "name": "stdout",
     "output_type": "stream",
     "text": [
      "1980\n",
      "month =  05\n"
     ]
    },
    {
     "name": "stderr",
     "output_type": "stream",
     "text": [
      "2021-09-10 02:28:00,743 INFO Request is running\n",
      "2021-09-10 02:30:50,088 INFO Request is completed\n",
      "2021-09-10 02:30:50,089 INFO Downloading https://download-0012.copernicus-climate.eu/cache-compute-0012/cache/data7/adaptor.mars.internal-1631255366.5460236-5751-8-92e3a177-03de-46d5-b864-01c469cc87fc.nc to /data/artemis/observations/ERA5/Winds_1980-05.nc (2.9G)\n",
      "2021-09-10 02:41:01,996 INFO Download rate 4.8M/s    \n",
      "2021-09-10 02:41:02,366 INFO Welcome to the CDS\n",
      "2021-09-10 02:41:02,366 INFO Sending request to https://cds.climate.copernicus.eu/api/v2/resources/reanalysis-era5-single-levels\n",
      "2021-09-10 02:41:02,446 INFO Request is queued\n"
     ]
    },
    {
     "name": "stdout",
     "output_type": "stream",
     "text": [
      "1980\n",
      "month =  06\n"
     ]
    },
    {
     "name": "stderr",
     "output_type": "stream",
     "text": [
      "2021-09-10 02:41:03,524 INFO Request is running\n",
      "2021-09-10 02:43:54,427 INFO Request is completed\n",
      "2021-09-10 02:43:54,428 INFO Downloading https://download-0000.copernicus-climate.eu/cache-compute-0000/cache/data7/adaptor.mars.internal-1631256131.528895-7591-10-fe9e348e-8fa7-45c3-9dee-8e73bfbf1f6d.nc to /data/artemis/observations/ERA5/Winds_1980-06.nc (2.8G)\n",
      "2021-09-10 02:52:37,236 INFO Download rate 5.5M/s    \n",
      "2021-09-10 02:52:37,603 INFO Welcome to the CDS\n",
      "2021-09-10 02:52:37,603 INFO Sending request to https://cds.climate.copernicus.eu/api/v2/resources/reanalysis-era5-single-levels\n",
      "2021-09-10 02:52:37,682 INFO Request is queued\n"
     ]
    },
    {
     "name": "stdout",
     "output_type": "stream",
     "text": [
      "1980\n",
      "month =  07\n"
     ]
    },
    {
     "name": "stderr",
     "output_type": "stream",
     "text": [
      "2021-09-10 02:53:10,413 INFO Request is running\n",
      "2021-09-10 02:56:56,479 INFO Request is completed\n",
      "2021-09-10 02:56:56,480 INFO Downloading https://download-0005.copernicus-climate.eu/cache-compute-0005/cache/data6/adaptor.mars.internal-1631256852.865702-11169-10-0325641d-cd6a-432f-843f-b70cd620aef2.nc to /data/artemis/observations/ERA5/Winds_1980-07.nc (2.9G)\n",
      "2021-09-10 03:03:37,942 INFO Download rate 7.3M/s    \n",
      "2021-09-10 03:03:38,309 INFO Welcome to the CDS\n",
      "2021-09-10 03:03:38,309 INFO Sending request to https://cds.climate.copernicus.eu/api/v2/resources/reanalysis-era5-single-levels\n",
      "2021-09-10 03:03:38,388 INFO Request is queued\n"
     ]
    },
    {
     "name": "stdout",
     "output_type": "stream",
     "text": [
      "1980\n",
      "month =  08\n"
     ]
    },
    {
     "name": "stderr",
     "output_type": "stream",
     "text": [
      "2021-09-10 03:04:54,006 INFO Request is running\n",
      "2021-09-10 03:09:57,609 INFO Request is completed\n",
      "2021-09-10 03:09:57,609 INFO Downloading https://download-0008.copernicus-climate.eu/cache-compute-0008/cache/data0/adaptor.mars.internal-1631257541.4496248-14195-1-80754fa2-ccca-49e9-9b62-b537645949d3.nc to /data/artemis/observations/ERA5/Winds_1980-08.nc (2.9G)\n",
      "2021-09-10 03:14:01,484 INFO Download rate 12.1M/s   \n",
      "2021-09-10 03:14:01,847 INFO Welcome to the CDS\n",
      "2021-09-10 03:14:01,848 INFO Sending request to https://cds.climate.copernicus.eu/api/v2/resources/reanalysis-era5-single-levels\n",
      "2021-09-10 03:14:01,927 INFO Request is queued\n"
     ]
    },
    {
     "name": "stdout",
     "output_type": "stream",
     "text": [
      "1980\n",
      "month =  09\n"
     ]
    },
    {
     "name": "stderr",
     "output_type": "stream",
     "text": [
      "2021-09-10 03:14:51,844 INFO Request is running\n",
      "2021-09-10 03:18:20,789 INFO Request is completed\n",
      "2021-09-10 03:18:20,789 INFO Downloading https://download-0007.copernicus-climate.eu/cache-compute-0007/cache/data7/adaptor.mars.internal-1631258142.297543-20092-18-6a8d5c48-57c7-49c4-8e3b-5f8c2dfa00ed.nc to /data/artemis/observations/ERA5/Winds_1980-09.nc (2.8G)\n",
      "2021-09-10 03:23:30,454 INFO Download rate 9.2M/s    \n",
      "2021-09-10 03:23:30,826 INFO Welcome to the CDS\n",
      "2021-09-10 03:23:30,826 INFO Sending request to https://cds.climate.copernicus.eu/api/v2/resources/reanalysis-era5-single-levels\n",
      "2021-09-10 03:23:30,910 INFO Request is queued\n"
     ]
    },
    {
     "name": "stdout",
     "output_type": "stream",
     "text": [
      "1980\n",
      "month =  10\n"
     ]
    },
    {
     "name": "stderr",
     "output_type": "stream",
     "text": [
      "2021-09-10 03:23:33,564 INFO Request is running\n",
      "2021-09-10 03:27:49,712 INFO Request is completed\n",
      "2021-09-10 03:27:49,713 INFO Downloading https://download-0014.copernicus-climate.eu/cache-compute-0014/cache/data3/adaptor.mars.internal-1631258671.81452-8564-12-15082d6d-9f92-433a-a420-5c1881b4814d.nc to /data/artemis/observations/ERA5/Winds_1980-10.nc (2.9G)\n",
      "2021-09-10 03:31:56,598 INFO Download rate 11.9M/s   \n",
      "2021-09-10 03:31:56,964 INFO Welcome to the CDS\n",
      "2021-09-10 03:31:56,964 INFO Sending request to https://cds.climate.copernicus.eu/api/v2/resources/reanalysis-era5-single-levels\n",
      "2021-09-10 03:31:57,047 INFO Request is queued\n"
     ]
    },
    {
     "name": "stdout",
     "output_type": "stream",
     "text": [
      "1980\n",
      "month =  11\n"
     ]
    },
    {
     "name": "stderr",
     "output_type": "stream",
     "text": [
      "2021-09-10 03:34:48,963 INFO Request is running\n",
      "2021-09-10 03:38:16,186 INFO Request is completed\n",
      "2021-09-10 03:38:16,187 INFO Downloading https://download-0012.copernicus-climate.eu/cache-compute-0012/cache/data7/adaptor.mars.internal-1631259338.1167781-4014-6-4a5d3a54-a19d-4562-a62d-393162589ba5.nc to /data/artemis/observations/ERA5/Winds_1980-11.nc (2.8G)\n",
      "2021-09-10 03:43:31,433 INFO Download rate 9M/s      \n",
      "2021-09-10 03:43:31,800 INFO Welcome to the CDS\n",
      "2021-09-10 03:43:31,800 INFO Sending request to https://cds.climate.copernicus.eu/api/v2/resources/reanalysis-era5-single-levels\n",
      "2021-09-10 03:43:31,880 INFO Request is queued\n"
     ]
    },
    {
     "name": "stdout",
     "output_type": "stream",
     "text": [
      "1980\n",
      "month =  12\n"
     ]
    },
    {
     "name": "stderr",
     "output_type": "stream",
     "text": [
      "2021-09-10 03:43:53,125 INFO Request is running\n",
      "2021-09-10 03:47:50,679 INFO Request is completed\n",
      "2021-09-10 03:47:50,680 INFO Downloading https://download-0006.copernicus-climate.eu/cache-compute-0006/cache/data4/adaptor.mars.internal-1631259891.2281654-7963-15-adc0d935-951f-4c0d-8f7a-7dfbfd17fc21.nc to /data/artemis/observations/ERA5/Winds_1980-12.nc (2.9G)\n",
      "2021-09-10 03:54:02,034 INFO Download rate 7.9M/s    \n",
      "2021-09-10 03:54:02,404 INFO Welcome to the CDS\n",
      "2021-09-10 03:54:02,404 INFO Sending request to https://cds.climate.copernicus.eu/api/v2/resources/reanalysis-era5-single-levels\n",
      "2021-09-10 03:54:02,484 INFO Request is queued\n"
     ]
    },
    {
     "name": "stdout",
     "output_type": "stream",
     "text": [
      "1981\n",
      "month =  01\n"
     ]
    },
    {
     "name": "stderr",
     "output_type": "stream",
     "text": [
      "2021-09-10 03:54:03,560 INFO Request is running\n",
      "2021-09-10 03:56:54,426 INFO Request is completed\n",
      "2021-09-10 03:56:54,427 INFO Downloading https://download-0012.copernicus-climate.eu/cache-compute-0012/cache/data9/adaptor.mars.internal-1631260504.9340372-3427-4-8e480e6f-87ed-410c-9530-012f3af0cbc1.nc to /data/artemis/observations/ERA5/Winds_1981-01.nc (2.9G)\n",
      "2021-09-10 04:02:31,490 INFO Download rate 8.7M/s    \n",
      "2021-09-10 04:02:31,857 INFO Welcome to the CDS\n",
      "2021-09-10 04:02:31,857 INFO Sending request to https://cds.climate.copernicus.eu/api/v2/resources/reanalysis-era5-single-levels\n",
      "2021-09-10 04:02:31,937 INFO Request is queued\n"
     ]
    },
    {
     "name": "stdout",
     "output_type": "stream",
     "text": [
      "1981\n",
      "month =  02\n"
     ]
    },
    {
     "name": "stderr",
     "output_type": "stream",
     "text": [
      "2021-09-10 04:04:26,132 INFO Request is running\n",
      "2021-09-10 04:08:51,208 INFO Request is completed\n",
      "2021-09-10 04:08:51,209 INFO Downloading https://download-0003.copernicus-climate.eu/cache-compute-0003/cache/data7/adaptor.mars.internal-1631261135.3752184-5195-9-aac986ca-e1d7-471e-b40b-da8f221aaa95.nc to /data/artemis/observations/ERA5/Winds_1981-02.nc (2.6G)\n",
      "2021-09-10 04:13:01,943 INFO Download rate 10.6M/s   \n",
      "2021-09-10 04:13:02,314 INFO Welcome to the CDS\n",
      "2021-09-10 04:13:02,314 INFO Sending request to https://cds.climate.copernicus.eu/api/v2/resources/reanalysis-era5-single-levels\n",
      "2021-09-10 04:13:02,396 INFO Request is queued\n"
     ]
    },
    {
     "name": "stdout",
     "output_type": "stream",
     "text": [
      "1981\n",
      "month =  03\n"
     ]
    },
    {
     "name": "stderr",
     "output_type": "stream",
     "text": [
      "2021-09-10 04:15:54,331 INFO Request is running\n",
      "2021-09-10 04:21:21,878 INFO Request is completed\n",
      "2021-09-10 04:21:21,879 INFO Downloading https://download-0009.copernicus-climate.eu/cache-compute-0009/cache/data8/adaptor.mars.internal-1631261824.2408433-10901-15-6831e49c-b59e-4c61-a40d-e9ee346b48d4.nc to /data/artemis/observations/ERA5/Winds_1981-03.nc (2.9G)\n",
      "2021-09-10 04:30:16,411 INFO Download rate 5.5M/s    \n",
      "2021-09-10 04:30:16,780 INFO Welcome to the CDS\n",
      "2021-09-10 04:30:16,780 INFO Sending request to https://cds.climate.copernicus.eu/api/v2/resources/reanalysis-era5-single-levels\n",
      "2021-09-10 04:30:16,859 INFO Request is queued\n"
     ]
    },
    {
     "name": "stdout",
     "output_type": "stream",
     "text": [
      "1981\n",
      "month =  04\n"
     ]
    },
    {
     "name": "stderr",
     "output_type": "stream",
     "text": [
      "2021-09-10 04:34:35,644 INFO Request is running\n",
      "2021-09-10 04:36:36,009 INFO Request is completed\n",
      "2021-09-10 04:36:36,009 INFO Downloading https://download-0012.copernicus-climate.eu/cache-compute-0012/cache/data2/adaptor.mars.internal-1631262886.4971087-29130-14-dd7f836f-6164-4c94-b038-77d5d8c5fd9e.nc to /data/artemis/observations/ERA5/Winds_1981-04.nc (2.8G)\n",
      "2021-09-10 04:43:13,563 INFO Download rate 7.2M/s    \n",
      "2021-09-10 04:43:13,931 INFO Welcome to the CDS\n",
      "2021-09-10 04:43:13,931 INFO Sending request to https://cds.climate.copernicus.eu/api/v2/resources/reanalysis-era5-single-levels\n",
      "2021-09-10 04:43:14,010 INFO Request is queued\n"
     ]
    },
    {
     "name": "stdout",
     "output_type": "stream",
     "text": [
      "1981\n",
      "month =  05\n"
     ]
    },
    {
     "name": "stderr",
     "output_type": "stream",
     "text": [
      "2021-09-10 04:46:05,963 INFO Request is running\n",
      "2021-09-10 04:49:33,192 INFO Request is completed\n",
      "2021-09-10 04:49:33,193 INFO Downloading https://download-0001.copernicus-climate.eu/cache-compute-0001/cache/data9/adaptor.mars.internal-1631263627.2537801-13830-8-97b624b3-d7a5-4c8c-b568-e3df13185b6b.nc to /data/artemis/observations/ERA5/Winds_1981-05.nc (2.9G)\n",
      "2021-09-10 04:55:05,739 INFO Download rate 8.9M/s    \n",
      "2021-09-10 04:55:06,106 INFO Welcome to the CDS\n",
      "2021-09-10 04:55:06,106 INFO Sending request to https://cds.climate.copernicus.eu/api/v2/resources/reanalysis-era5-single-levels\n",
      "2021-09-10 04:55:06,188 INFO Request is queued\n"
     ]
    },
    {
     "name": "stdout",
     "output_type": "stream",
     "text": [
      "1981\n",
      "month =  06\n"
     ]
    },
    {
     "name": "stderr",
     "output_type": "stream",
     "text": [
      "2021-09-10 04:57:58,137 INFO Request is running\n",
      "2021-09-10 05:01:25,347 INFO Request is completed\n",
      "2021-09-10 05:01:25,348 INFO Downloading https://download-0002.copernicus-climate.eu/cache-compute-0002/cache/data4/adaptor.mars.internal-1631264355.4436202-31166-18-ee187872-4cdb-401b-98bd-5eb6b542ceb0.nc to /data/artemis/observations/ERA5/Winds_1981-06.nc (2.8G)\n",
      "2021-09-10 05:05:32,000 INFO Download rate 11.6M/s   \n",
      "2021-09-10 05:05:32,367 INFO Welcome to the CDS\n",
      "2021-09-10 05:05:32,367 INFO Sending request to https://cds.climate.copernicus.eu/api/v2/resources/reanalysis-era5-single-levels\n",
      "2021-09-10 05:05:32,449 INFO Request is queued\n"
     ]
    },
    {
     "name": "stdout",
     "output_type": "stream",
     "text": [
      "1981\n",
      "month =  07\n"
     ]
    },
    {
     "name": "stderr",
     "output_type": "stream",
     "text": [
      "2021-09-10 05:09:51,226 INFO Request is running\n",
      "2021-09-10 05:11:51,602 INFO Request is completed\n",
      "2021-09-10 05:11:51,603 INFO Downloading https://download-0005.copernicus-climate.eu/cache-compute-0005/cache/data7/adaptor.mars.internal-1631265023.0772989-4113-5-ee81c908-347a-4b87-8cfb-168609bd885e.nc to /data/artemis/observations/ERA5/Winds_1981-07.nc (2.9G)\n",
      "2021-09-10 05:15:40,577 INFO Download rate 12.9M/s   \n",
      "2021-09-10 05:15:40,946 INFO Welcome to the CDS\n",
      "2021-09-10 05:15:40,947 INFO Sending request to https://cds.climate.copernicus.eu/api/v2/resources/reanalysis-era5-single-levels\n",
      "2021-09-10 05:15:41,029 INFO Request is queued\n"
     ]
    },
    {
     "name": "stdout",
     "output_type": "stream",
     "text": [
      "1981\n",
      "month =  08\n"
     ]
    },
    {
     "name": "stderr",
     "output_type": "stream",
     "text": [
      "2021-09-10 05:22:00,191 INFO Request is running\n",
      "2021-09-10 05:24:00,525 INFO Request is completed\n",
      "2021-09-10 05:24:00,526 INFO Downloading https://download-0002.copernicus-climate.eu/cache-compute-0002/cache/data7/adaptor.mars.internal-1631265727.558646-29086-3-bf1b42b5-4005-4f9e-bf95-0c4396900e0a.nc to /data/artemis/observations/ERA5/Winds_1981-08.nc (2.9G)\n",
      "2021-09-10 05:28:39,298 INFO Download rate 10.6M/s   \n",
      "2021-09-10 05:28:39,668 INFO Welcome to the CDS\n",
      "2021-09-10 05:28:39,668 INFO Sending request to https://cds.climate.copernicus.eu/api/v2/resources/reanalysis-era5-single-levels\n",
      "2021-09-10 05:28:39,749 INFO Request is queued\n"
     ]
    },
    {
     "name": "stdout",
     "output_type": "stream",
     "text": [
      "1981\n",
      "month =  09\n"
     ]
    },
    {
     "name": "stderr",
     "output_type": "stream",
     "text": [
      "2021-09-10 05:43:00,479 INFO Request is running\n",
      "2021-09-10 05:45:00,870 INFO Request is completed\n",
      "2021-09-10 05:45:00,871 INFO Downloading https://download-0002.copernicus-climate.eu/cache-compute-0002/cache/data6/adaptor.mars.internal-1631266963.4968333-7146-1-6d15ad87-e8dc-4cba-9b1a-eecdcc17b1a1.nc to /data/artemis/observations/ERA5/Winds_1981-09.nc (2.8G)\n",
      "2021-09-10 05:52:34,230 INFO Download rate 6.3M/s    \n",
      "2021-09-10 05:52:34,601 INFO Welcome to the CDS\n",
      "2021-09-10 05:52:34,602 INFO Sending request to https://cds.climate.copernicus.eu/api/v2/resources/reanalysis-era5-single-levels\n",
      "2021-09-10 05:52:34,681 INFO Request is queued\n"
     ]
    },
    {
     "name": "stdout",
     "output_type": "stream",
     "text": [
      "1981\n",
      "month =  10\n"
     ]
    },
    {
     "name": "stderr",
     "output_type": "stream",
     "text": [
      "2021-09-10 06:06:55,405 INFO Request is running\n",
      "2021-09-10 06:08:55,717 INFO Request is completed\n",
      "2021-09-10 06:08:55,718 INFO Downloading https://download-0009.copernicus-climate.eu/cache-compute-0009/cache/data7/adaptor.mars.internal-1631268440.4045284-19702-4-bac4f3ef-86c1-47d3-8f84-9995986c3ece.nc to /data/artemis/observations/ERA5/Winds_1981-10.nc (2.9G)\n",
      "2021-09-10 06:12:10,240 INFO Download rate 15.1M/s   \n",
      "2021-09-10 06:12:10,613 INFO Welcome to the CDS\n",
      "2021-09-10 06:12:10,614 INFO Sending request to https://cds.climate.copernicus.eu/api/v2/resources/reanalysis-era5-single-levels\n",
      "2021-09-10 06:12:10,693 INFO Request is queued\n"
     ]
    },
    {
     "name": "stdout",
     "output_type": "stream",
     "text": [
      "1981\n",
      "month =  11\n"
     ]
    },
    {
     "name": "stderr",
     "output_type": "stream",
     "text": [
      "2021-09-10 06:26:31,319 INFO Request is running\n",
      "2021-09-10 06:28:31,650 INFO Request is completed\n",
      "2021-09-10 06:28:31,650 INFO Downloading https://download-0002.copernicus-climate.eu/cache-compute-0002/cache/data6/adaptor.mars.internal-1631269602.8792543-19953-5-bbaccba0-6b87-4112-8eaa-4b5e3354afbf.nc to /data/artemis/observations/ERA5/Winds_1981-11.nc (2.8G)\n",
      "2021-09-10 06:33:14,419 INFO Download rate 10.1M/s   \n",
      "2021-09-10 06:33:14,788 INFO Welcome to the CDS\n",
      "2021-09-10 06:33:14,788 INFO Sending request to https://cds.climate.copernicus.eu/api/v2/resources/reanalysis-era5-single-levels\n",
      "2021-09-10 06:33:14,869 INFO Request is queued\n"
     ]
    },
    {
     "name": "stdout",
     "output_type": "stream",
     "text": [
      "1981\n",
      "month =  12\n"
     ]
    },
    {
     "name": "stderr",
     "output_type": "stream",
     "text": [
      "2021-09-10 06:45:35,097 INFO Request is running\n",
      "2021-09-10 06:49:35,834 INFO Request is completed\n",
      "2021-09-10 06:49:35,835 INFO Downloading https://download-0015.copernicus-climate.eu/cache-compute-0015/cache/data0/adaptor.mars.internal-1631270715.5765758-10527-9-e5ab3cd9-18dc-4ac9-9353-19dffbdac70f.nc to /data/artemis/observations/ERA5/Winds_1981-12.nc (2.9G)\n",
      "2021-09-10 06:57:29,883 INFO Download rate 6.2M/s    \n"
     ]
    }
   ],
   "source": [
    "import cdsapi\n",
    "\n",
    "\n",
    "for year in ['1979','1980','1981']:\n",
    "    \n",
    "    for month in ['01','02','03','04','05','06','07','08','09','10','11','12']:\n",
    "    \n",
    "        print(year)\n",
    "        print(\"month = \",month)\n",
    "    \n",
    "        c = cdsapi.Client()\n",
    "\n",
    "        c.retrieve(\n",
    "            'reanalysis-era5-single-levels',\n",
    "            {\n",
    "                'product_type': 'reanalysis',\n",
    "                'variable': [\n",
    "                    '10m_u_component_of_wind', '10m_v_component_of_wind',\n",
    "                ],\n",
    "                'year': [\n",
    "                    year\n",
    "                ],\n",
    "                'month': [\n",
    "                    month\n",
    "                ],\n",
    "                'day': [\n",
    "                    '01', '02', '03',\n",
    "                    '04', '05', '06',\n",
    "                    '07', '08', '09',\n",
    "                    '10', '11', '12',\n",
    "                    '13', '14', '15',\n",
    "                    '16', '17', '18',\n",
    "                    '19', '20', '21',\n",
    "                    '22', '23', '24',\n",
    "                    '25', '26', '27',\n",
    "                    '28', '29', '30',\n",
    "                    '31',\n",
    "                ],\n",
    "                'time': [\n",
    "                    '00:00', '01:00', '02:00',\n",
    "                    '03:00', '04:00', '05:00',\n",
    "                    '06:00', '07:00', '08:00',\n",
    "                    '09:00', '10:00', '11:00',\n",
    "                    '12:00', '13:00', '14:00',\n",
    "                    '15:00', '16:00', '17:00',\n",
    "                    '18:00', '19:00', '20:00',\n",
    "                    '21:00', '22:00', '23:00',\n",
    "                ],\n",
    "                'format': 'netcdf',\n",
    "            },\n",
    "            f'/data/artemis/observations/ERA5/Winds_{year}-{month}.nc')"
   ]
  },
  {
   "cell_type": "code",
   "execution_count": 4,
   "metadata": {},
   "outputs": [
    {
     "name": "stdout",
     "output_type": "stream",
     "text": [
      "1968\n",
      "month =  01\n"
     ]
    },
    {
     "name": "stderr",
     "output_type": "stream",
     "text": [
      "2021-09-11 17:01:41,067 INFO Welcome to the CDS\n",
      "2021-09-11 17:01:41,069 INFO Sending request to https://cds.climate.copernicus.eu/api/v2/resources/reanalysis-era5-single-levels-preliminary-back-extension\n",
      "2021-09-11 17:01:41,176 INFO Request is completed\n",
      "2021-09-11 17:01:41,176 INFO Downloading https://download-0009.copernicus-climate.eu/cache-compute-0009/cache/data1/adaptor.mars.internal-1631386241.1577702-25018-1-3b709eff-495d-44c1-b57f-5adf720d2cbb.nc to /data/artemis/observations/ERA5/Winds_1968-01.nc (2.9G)\n",
      "2021-09-11 17:27:59,443 INFO Download rate 1.9M/s    \n",
      "2021-09-11 17:27:59,825 INFO Welcome to the CDS\n",
      "2021-09-11 17:27:59,825 INFO Sending request to https://cds.climate.copernicus.eu/api/v2/resources/reanalysis-era5-single-levels-preliminary-back-extension\n"
     ]
    },
    {
     "name": "stdout",
     "output_type": "stream",
     "text": [
      "1968\n",
      "month =  02\n"
     ]
    },
    {
     "name": "stderr",
     "output_type": "stream",
     "text": [
      "2021-09-11 17:28:00,135 INFO Request is completed\n",
      "2021-09-11 17:28:00,136 INFO Downloading https://download-0009.copernicus-climate.eu/cache-compute-0009/cache/data7/adaptor.mars.internal-1631387224.8316872-1464-14-18633a73-ec9e-4d4f-8154-0f9b07f19a78.nc to /data/artemis/observations/ERA5/Winds_1968-02.nc (2.7G)\n",
      "2021-09-11 17:43:49,639 INFO Download rate 2.9M/s    \n",
      "2021-09-11 17:43:50,010 INFO Welcome to the CDS\n",
      "2021-09-11 17:43:50,011 INFO Sending request to https://cds.climate.copernicus.eu/api/v2/resources/reanalysis-era5-single-levels-preliminary-back-extension\n"
     ]
    },
    {
     "name": "stdout",
     "output_type": "stream",
     "text": [
      "1968\n",
      "month =  03\n"
     ]
    },
    {
     "name": "stderr",
     "output_type": "stream",
     "text": [
      "2021-09-11 17:43:50,143 INFO Request is completed\n",
      "2021-09-11 17:43:50,143 INFO Downloading https://download-0002.copernicus-climate.eu/cache-compute-0002/cache/data7/adaptor.mars.internal-1631388463.5838337-31843-5-e5ef86f9-baa9-4f26-8fd6-27cd424a3c4f.nc to /data/artemis/observations/ERA5/Winds_1968-03.nc (2.9G)\n",
      "2021-09-11 18:07:33,617 INFO Download rate 2.1M/s    \n",
      "2021-09-11 18:07:33,989 INFO Welcome to the CDS\n",
      "2021-09-11 18:07:33,989 INFO Sending request to https://cds.climate.copernicus.eu/api/v2/resources/reanalysis-era5-single-levels-preliminary-back-extension\n"
     ]
    },
    {
     "name": "stdout",
     "output_type": "stream",
     "text": [
      "1968\n",
      "month =  04\n"
     ]
    },
    {
     "name": "stderr",
     "output_type": "stream",
     "text": [
      "2021-09-11 18:07:34,131 INFO Request is completed\n",
      "2021-09-11 18:07:34,132 INFO Downloading https://download-0010.copernicus-climate.eu/cache-compute-0010/cache/data3/adaptor.mars.internal-1631389882.3155282-20582-6-39d4ee4e-c561-4c85-8585-b2c22fd71714.nc to /data/artemis/observations/ERA5/Winds_1968-04.nc (2.8G)\n",
      "2021-09-11 18:33:38,179 INFO Download rate 1.8M/s    \n",
      "2021-09-11 18:33:38,545 INFO Welcome to the CDS\n",
      "2021-09-11 18:33:38,546 INFO Sending request to https://cds.climate.copernicus.eu/api/v2/resources/reanalysis-era5-single-levels-preliminary-back-extension\n"
     ]
    },
    {
     "name": "stdout",
     "output_type": "stream",
     "text": [
      "1968\n",
      "month =  05\n"
     ]
    },
    {
     "name": "stderr",
     "output_type": "stream",
     "text": [
      "2021-09-11 18:33:38,688 INFO Request is completed\n",
      "2021-09-11 18:33:38,689 INFO Downloading https://download-0014.copernicus-climate.eu/cache-compute-0014/cache/data7/adaptor.mars.internal-1631390768.0859776-7843-17-4529e471-a029-44ea-8cc5-c555a609c7f6.nc to /data/artemis/observations/ERA5/Winds_1968-05.nc (2.9G)\n",
      "2021-09-11 18:53:06,870 INFO Download rate 2.5M/s    \n",
      "2021-09-11 18:53:07,241 INFO Welcome to the CDS\n",
      "2021-09-11 18:53:07,242 INFO Sending request to https://cds.climate.copernicus.eu/api/v2/resources/reanalysis-era5-single-levels-preliminary-back-extension\n"
     ]
    },
    {
     "name": "stdout",
     "output_type": "stream",
     "text": [
      "1968\n",
      "month =  06\n"
     ]
    },
    {
     "name": "stderr",
     "output_type": "stream",
     "text": [
      "2021-09-11 18:53:08,177 INFO Request is completed\n",
      "2021-09-11 18:53:08,178 INFO Downloading https://download-0002.copernicus-climate.eu/cache-compute-0002/cache/data8/adaptor.mars.internal-1631392260.7085364-2988-9-1ba56de3-c1c0-4626-bfca-6f0c2c999b79.nc to /data/artemis/observations/ERA5/Winds_1968-06.nc (2.8G)\n",
      "2021-09-11 19:04:18,239 INFO Download rate 4.3M/s    \n",
      "2021-09-11 19:04:18,606 INFO Welcome to the CDS\n",
      "2021-09-11 19:04:18,607 INFO Sending request to https://cds.climate.copernicus.eu/api/v2/resources/reanalysis-era5-single-levels-preliminary-back-extension\n"
     ]
    },
    {
     "name": "stdout",
     "output_type": "stream",
     "text": [
      "1968\n",
      "month =  07\n"
     ]
    },
    {
     "name": "stderr",
     "output_type": "stream",
     "text": [
      "2021-09-11 19:04:18,762 INFO Request is completed\n",
      "2021-09-11 19:04:18,762 INFO Downloading https://download-0011.copernicus-climate.eu/cache-compute-0011/cache/data9/adaptor.mars.internal-1631393417.856702-21053-15-4b71f755-9d4e-4551-948b-52ea53140afc.nc to /data/artemis/observations/ERA5/Winds_1968-07.nc (2.9G)\n",
      "2021-09-11 19:15:49,642 INFO Download rate 4.3M/s    \n",
      "2021-09-11 19:15:50,014 INFO Welcome to the CDS\n",
      "2021-09-11 19:15:50,014 INFO Sending request to https://cds.climate.copernicus.eu/api/v2/resources/reanalysis-era5-single-levels-preliminary-back-extension\n",
      "2021-09-11 19:15:50,094 INFO Request is queued\n"
     ]
    },
    {
     "name": "stdout",
     "output_type": "stream",
     "text": [
      "1968\n",
      "month =  08\n"
     ]
    },
    {
     "name": "stderr",
     "output_type": "stream",
     "text": [
      "2021-09-11 19:15:51,170 INFO Request is running\n",
      "2021-09-11 19:20:08,965 INFO Request is completed\n",
      "2021-09-11 19:20:08,965 INFO Downloading https://download-0006.copernicus-climate.eu/cache-compute-0006/cache/data1/adaptor.mars.internal-1631402256.9351904-20492-11-6f28f9e5-e582-4407-aa17-8412387088cf.nc to /data/artemis/observations/ERA5/Winds_1968-08.nc (2.9G)\n",
      "2021-09-11 19:33:06,484 INFO Download rate 3.8M/s    \n",
      "2021-09-11 19:33:06,851 INFO Welcome to the CDS\n",
      "2021-09-11 19:33:06,852 INFO Sending request to https://cds.climate.copernicus.eu/api/v2/resources/reanalysis-era5-single-levels-preliminary-back-extension\n",
      "2021-09-11 19:33:06,929 INFO Request is queued\n"
     ]
    },
    {
     "name": "stdout",
     "output_type": "stream",
     "text": [
      "1968\n",
      "month =  09\n"
     ]
    },
    {
     "name": "stderr",
     "output_type": "stream",
     "text": [
      "2021-09-11 19:33:08,007 INFO Request is running\n",
      "2021-09-11 19:35:58,927 INFO Request is completed\n",
      "2021-09-11 19:35:58,928 INFO Downloading https://download-0005.copernicus-climate.eu/cache-compute-0005/cache/data7/adaptor.mars.internal-1631403289.0408366-1224-19-9d5a3b56-2552-44a4-aaeb-1187186bc6ff.nc to /data/artemis/observations/ERA5/Winds_1968-09.nc (2.8G)\n",
      "2021-09-11 19:53:21,600 INFO Download rate 2.7M/s    \n",
      "2021-09-11 19:53:21,972 INFO Welcome to the CDS\n",
      "2021-09-11 19:53:21,973 INFO Sending request to https://cds.climate.copernicus.eu/api/v2/resources/reanalysis-era5-single-levels-preliminary-back-extension\n",
      "2021-09-11 19:53:22,056 INFO Request is queued\n"
     ]
    },
    {
     "name": "stdout",
     "output_type": "stream",
     "text": [
      "1968\n",
      "month =  10\n"
     ]
    },
    {
     "name": "stderr",
     "output_type": "stream",
     "text": [
      "2021-09-11 19:53:23,134 INFO Request is running\n",
      "2021-09-11 19:57:40,881 INFO Request is completed\n",
      "2021-09-11 19:57:40,882 INFO Downloading https://download-0006.copernicus-climate.eu/cache-compute-0006/cache/data8/adaptor.mars.internal-1631404516.5257785-12992-4-baadfbd4-4ad0-4f4c-808b-36dc995f79a5.nc to /data/artemis/observations/ERA5/Winds_1968-10.nc (2.9G)\n",
      "2021-09-11 20:13:54,858 INFO Download rate 3M/s      \n",
      "2021-09-11 20:13:55,225 INFO Welcome to the CDS\n",
      "2021-09-11 20:13:55,225 INFO Sending request to https://cds.climate.copernicus.eu/api/v2/resources/reanalysis-era5-single-levels-preliminary-back-extension\n",
      "2021-09-11 20:13:55,316 INFO Request is queued\n"
     ]
    },
    {
     "name": "stdout",
     "output_type": "stream",
     "text": [
      "1968\n",
      "month =  11\n"
     ]
    },
    {
     "name": "stderr",
     "output_type": "stream",
     "text": [
      "2021-09-11 20:13:56,393 INFO Request is running\n",
      "2021-09-11 20:18:14,150 INFO Request is completed\n",
      "2021-09-11 20:18:14,151 INFO Downloading https://download-0004.copernicus-climate.eu/cache-compute-0004/cache/data7/adaptor.mars.internal-1631405729.7030528-20982-8-30299386-f651-40f6-93fd-37ad88be793a.nc to /data/artemis/observations/ERA5/Winds_1968-11.nc (2.8G)\n",
      "2021-09-11 20:32:42,750 INFO Download rate 3.3M/s    \n",
      "2021-09-11 20:32:43,118 INFO Welcome to the CDS\n",
      "2021-09-11 20:32:43,119 INFO Sending request to https://cds.climate.copernicus.eu/api/v2/resources/reanalysis-era5-single-levels-preliminary-back-extension\n",
      "2021-09-11 20:32:43,197 INFO Request is queued\n"
     ]
    },
    {
     "name": "stdout",
     "output_type": "stream",
     "text": [
      "1968\n",
      "month =  12\n"
     ]
    },
    {
     "name": "stderr",
     "output_type": "stream",
     "text": [
      "2021-09-11 20:32:44,274 INFO Request is running\n",
      "2021-09-11 20:37:01,983 INFO Request is completed\n",
      "2021-09-11 20:37:01,984 INFO Downloading https://download-0011.copernicus-climate.eu/cache-compute-0011/cache/data1/adaptor.mars.internal-1631406868.812456-7895-4-20294a05-f89f-45d1-aed9-423e80148986.nc to /data/artemis/observations/ERA5/Winds_1968-12.nc (2.9G)\n",
      "2021-09-11 20:51:40,371 INFO Download rate 3.4M/s    \n",
      "2021-09-11 20:51:40,741 INFO Welcome to the CDS\n",
      "2021-09-11 20:51:40,741 INFO Sending request to https://cds.climate.copernicus.eu/api/v2/resources/reanalysis-era5-single-levels-preliminary-back-extension\n",
      "2021-09-11 20:51:40,820 INFO Request is queued\n"
     ]
    },
    {
     "name": "stdout",
     "output_type": "stream",
     "text": [
      "1969\n",
      "month =  01\n"
     ]
    },
    {
     "name": "stderr",
     "output_type": "stream",
     "text": [
      "2021-09-11 20:51:41,896 INFO Request is running\n",
      "2021-09-11 20:54:32,782 INFO Request is completed\n",
      "2021-09-11 20:54:32,783 INFO Downloading https://download-0011.copernicus-climate.eu/cache-compute-0011/cache/data7/adaptor.mars.internal-1631408010.2149737-15758-5-752ae4b1-09e0-4a5b-95a8-d7c2f399c0d0.nc to /data/artemis/observations/ERA5/Winds_1969-01.nc (2.9G)\n",
      "2021-09-11 21:09:50,534 INFO Download rate 3.2M/s    \n",
      "2021-09-11 21:09:50,904 INFO Welcome to the CDS\n",
      "2021-09-11 21:09:50,904 INFO Sending request to https://cds.climate.copernicus.eu/api/v2/resources/reanalysis-era5-single-levels-preliminary-back-extension\n",
      "2021-09-11 21:09:51,004 INFO Request is queued\n"
     ]
    },
    {
     "name": "stdout",
     "output_type": "stream",
     "text": [
      "1969\n",
      "month =  02\n"
     ]
    },
    {
     "name": "stderr",
     "output_type": "stream",
     "text": [
      "2021-09-11 21:09:52,081 INFO Request is running\n",
      "2021-09-11 21:14:09,832 INFO Request is completed\n",
      "2021-09-11 21:14:09,833 INFO Downloading https://download-0015.copernicus-climate.eu/cache-compute-0015/cache/data4/adaptor.mars.internal-1631409090.848528-29362-10-17921d5d-602d-494f-83c0-03843df50825.nc to /data/artemis/observations/ERA5/Winds_1969-02.nc (2.6G)\n",
      "2021-09-11 21:24:49,669 INFO Download rate 4.2M/s    \n",
      "2021-09-11 21:24:50,035 INFO Welcome to the CDS\n",
      "2021-09-11 21:24:50,036 INFO Sending request to https://cds.climate.copernicus.eu/api/v2/resources/reanalysis-era5-single-levels-preliminary-back-extension\n",
      "2021-09-11 21:24:50,114 INFO Request is queued\n"
     ]
    },
    {
     "name": "stdout",
     "output_type": "stream",
     "text": [
      "1969\n",
      "month =  03\n"
     ]
    },
    {
     "name": "stderr",
     "output_type": "stream",
     "text": [
      "2021-09-11 21:24:51,190 INFO Request is running\n",
      "2021-09-11 21:29:08,949 INFO Request is completed\n",
      "2021-09-11 21:29:08,950 INFO Downloading https://download-0015.copernicus-climate.eu/cache-compute-0015/cache/data7/adaptor.mars.internal-1631409990.9002786-8874-15-3b51aaf8-b068-4985-a1fe-bb2fd64e5918.nc to /data/artemis/observations/ERA5/Winds_1969-03.nc (2.9G)\n",
      "2021-09-11 21:38:54,218 INFO Download rate 5M/s      \n",
      "2021-09-11 21:38:54,588 INFO Welcome to the CDS\n",
      "2021-09-11 21:38:54,588 INFO Sending request to https://cds.climate.copernicus.eu/api/v2/resources/reanalysis-era5-single-levels-preliminary-back-extension\n",
      "2021-09-11 21:38:54,672 INFO Request is queued\n"
     ]
    },
    {
     "name": "stdout",
     "output_type": "stream",
     "text": [
      "1969\n",
      "month =  04\n"
     ]
    },
    {
     "name": "stderr",
     "output_type": "stream",
     "text": [
      "2021-09-11 21:38:55,752 INFO Request is running\n",
      "2021-09-11 21:43:13,528 INFO Request is completed\n",
      "2021-09-11 21:43:13,529 INFO Downloading https://download-0015.copernicus-climate.eu/cache-compute-0015/cache/data2/adaptor.mars.internal-1631410844.577714-14639-9-a3f43ddf-9e97-4536-8190-6f917011c7e3.nc to /data/artemis/observations/ERA5/Winds_1969-04.nc (2.8G)\n",
      "2021-09-11 21:51:38,229 INFO Download rate 5.7M/s    \n",
      "2021-09-11 21:51:38,594 INFO Welcome to the CDS\n",
      "2021-09-11 21:51:38,595 INFO Sending request to https://cds.climate.copernicus.eu/api/v2/resources/reanalysis-era5-single-levels-preliminary-back-extension\n",
      "2021-09-11 21:51:38,674 INFO Request is queued\n"
     ]
    },
    {
     "name": "stdout",
     "output_type": "stream",
     "text": [
      "1969\n",
      "month =  05\n"
     ]
    },
    {
     "name": "stderr",
     "output_type": "stream",
     "text": [
      "2021-09-11 21:51:39,752 INFO Request is running\n",
      "2021-09-11 21:54:30,660 INFO Request is completed\n",
      "2021-09-11 21:54:30,660 INFO Downloading https://download-0007.copernicus-climate.eu/cache-compute-0007/cache/data4/adaptor.mars.internal-1631411600.8418546-30193-7-786b1be7-3820-42ca-89d5-90ead8b5dcbd.nc to /data/artemis/observations/ERA5/Winds_1969-05.nc (2.9G)\n",
      "2021-09-11 22:05:10,391 INFO Download rate 4.6M/s    \n",
      "2021-09-11 22:05:10,758 INFO Welcome to the CDS\n",
      "2021-09-11 22:05:10,758 INFO Sending request to https://cds.climate.copernicus.eu/api/v2/resources/reanalysis-era5-single-levels-preliminary-back-extension\n",
      "2021-09-11 22:05:10,837 INFO Request is queued\n"
     ]
    },
    {
     "name": "stdout",
     "output_type": "stream",
     "text": [
      "1969\n",
      "month =  06\n"
     ]
    },
    {
     "name": "stderr",
     "output_type": "stream",
     "text": [
      "2021-09-11 22:05:11,914 INFO Request is running\n",
      "2021-09-11 22:09:29,624 INFO Request is completed\n",
      "2021-09-11 22:09:29,625 INFO Downloading https://download-0008.copernicus-climate.eu/cache-compute-0008/cache/data7/adaptor.mars.internal-1631412411.1256392-27924-3-a4c026fb-866f-4f81-b5e9-004cd33434b1.nc to /data/artemis/observations/ERA5/Winds_1969-06.nc (2.8G)\n",
      "2021-09-11 22:33:25,152 INFO Download rate 2M/s      \n",
      "2021-09-11 22:33:25,526 INFO Welcome to the CDS\n",
      "2021-09-11 22:33:25,526 INFO Sending request to https://cds.climate.copernicus.eu/api/v2/resources/reanalysis-era5-single-levels-preliminary-back-extension\n",
      "2021-09-11 22:33:25,609 INFO Request is queued\n"
     ]
    },
    {
     "name": "stdout",
     "output_type": "stream",
     "text": [
      "1969\n",
      "month =  07\n"
     ]
    },
    {
     "name": "stderr",
     "output_type": "stream",
     "text": [
      "2021-09-11 22:33:26,687 INFO Request is running\n",
      "2021-09-11 22:36:17,619 INFO Request is completed\n",
      "2021-09-11 22:36:17,620 INFO Downloading https://download-0003.copernicus-climate.eu/cache-compute-0003/cache/data4/adaptor.mars.internal-1631414103.7343118-5902-4-ca78417a-5131-4e99-9a81-86cec43e905a.nc to /data/artemis/observations/ERA5/Winds_1969-07.nc (2.9G)\n",
      "2021-09-11 22:50:19,131 INFO Download rate 3.5M/s    \n",
      "2021-09-11 22:50:19,499 INFO Welcome to the CDS\n",
      "2021-09-11 22:50:19,500 INFO Sending request to https://cds.climate.copernicus.eu/api/v2/resources/reanalysis-era5-single-levels-preliminary-back-extension\n",
      "2021-09-11 22:50:19,579 INFO Request is queued\n"
     ]
    },
    {
     "name": "stdout",
     "output_type": "stream",
     "text": [
      "1969\n",
      "month =  08\n"
     ]
    },
    {
     "name": "stderr",
     "output_type": "stream",
     "text": [
      "2021-09-11 22:50:20,656 INFO Request is running\n",
      "2021-09-11 22:53:11,534 INFO Request is completed\n",
      "2021-09-11 22:53:11,536 INFO Downloading https://download-0000.copernicus-climate.eu/cache-compute-0000/cache/data1/adaptor.mars.internal-1631415116.701343-30744-13-cdbad163-c1b0-4da3-a0e9-fd5b5a46532a.nc to /data/artemis/observations/ERA5/Winds_1969-08.nc (2.9G)\n",
      "2021-09-11 23:16:00,766 INFO Download rate 2.2M/s    \n",
      "2021-09-11 23:16:01,132 INFO Welcome to the CDS\n",
      "2021-09-11 23:16:01,133 INFO Sending request to https://cds.climate.copernicus.eu/api/v2/resources/reanalysis-era5-single-levels-preliminary-back-extension\n",
      "2021-09-11 23:16:01,214 INFO Request is queued\n"
     ]
    },
    {
     "name": "stdout",
     "output_type": "stream",
     "text": [
      "1969\n",
      "month =  09\n"
     ]
    },
    {
     "name": "stderr",
     "output_type": "stream",
     "text": [
      "2021-09-11 23:16:02,291 INFO Request is running\n",
      "2021-09-11 23:18:53,205 INFO Request is completed\n",
      "2021-09-11 23:18:53,207 INFO Downloading https://download-0004.copernicus-climate.eu/cache-compute-0004/cache/data5/adaptor.mars.internal-1631416663.0897617-23537-6-dd8d97b0-846e-4337-bfac-cb80250ec0e1.nc to /data/artemis/observations/ERA5/Winds_1969-09.nc (2.8G)\n",
      "2021-09-11 23:29:20,704 INFO Download rate 4.5M/s    \n",
      "2021-09-11 23:29:21,070 INFO Welcome to the CDS\n",
      "2021-09-11 23:29:21,071 INFO Sending request to https://cds.climate.copernicus.eu/api/v2/resources/reanalysis-era5-single-levels-preliminary-back-extension\n",
      "2021-09-11 23:29:21,150 INFO Request is queued\n"
     ]
    },
    {
     "name": "stdout",
     "output_type": "stream",
     "text": [
      "1969\n",
      "month =  10\n"
     ]
    },
    {
     "name": "stderr",
     "output_type": "stream",
     "text": [
      "2021-09-11 23:29:22,229 INFO Request is running\n",
      "2021-09-11 23:33:40,025 INFO Request is completed\n",
      "2021-09-11 23:33:40,026 INFO Downloading https://download-0012.copernicus-climate.eu/cache-compute-0012/cache/data5/adaptor.mars.internal-1631417465.2764397-22906-14-54a44279-99c7-46b6-bcba-80a23ff77b60.nc to /data/artemis/observations/ERA5/Winds_1969-10.nc (2.9G)\n",
      "2021-09-11 23:45:50,211 INFO Download rate 4M/s      \n",
      "2021-09-11 23:45:50,580 INFO Welcome to the CDS\n",
      "2021-09-11 23:45:50,580 INFO Sending request to https://cds.climate.copernicus.eu/api/v2/resources/reanalysis-era5-single-levels-preliminary-back-extension\n",
      "2021-09-11 23:45:50,658 INFO Request is queued\n"
     ]
    },
    {
     "name": "stdout",
     "output_type": "stream",
     "text": [
      "1969\n",
      "month =  11\n"
     ]
    },
    {
     "name": "stderr",
     "output_type": "stream",
     "text": [
      "2021-09-11 23:45:51,733 INFO Request is running\n",
      "2021-09-11 23:50:09,461 INFO Request is completed\n",
      "2021-09-11 23:50:09,462 INFO Downloading https://download-0015.copernicus-climate.eu/cache-compute-0015/cache/data1/adaptor.mars.internal-1631418455.162255-15943-6-e90dd19b-aa88-41b0-8581-10e8369f5b61.nc to /data/artemis/observations/ERA5/Winds_1969-11.nc (2.8G)\n",
      "2021-09-12 00:01:30,421 INFO Download rate 4.2M/s    \n",
      "2021-09-12 00:01:30,790 INFO Welcome to the CDS\n",
      "2021-09-12 00:01:30,790 INFO Sending request to https://cds.climate.copernicus.eu/api/v2/resources/reanalysis-era5-single-levels-preliminary-back-extension\n",
      "2021-09-12 00:01:30,871 INFO Request is queued\n"
     ]
    },
    {
     "name": "stdout",
     "output_type": "stream",
     "text": [
      "1969\n",
      "month =  12\n"
     ]
    },
    {
     "name": "stderr",
     "output_type": "stream",
     "text": [
      "2021-09-12 00:01:31,950 INFO Request is running\n",
      "2021-09-12 00:04:22,872 INFO Request is completed\n",
      "2021-09-12 00:04:22,872 INFO Downloading https://download-0003.copernicus-climate.eu/cache-compute-0003/cache/data4/adaptor.mars.internal-1631419395.45935-20932-18-65f232a3-c396-4040-bca9-62dba999d7de.nc to /data/artemis/observations/ERA5/Winds_1969-12.nc (2.9G)\n",
      "2021-09-12 00:14:33,096 INFO Download rate 4.8M/s    \n",
      "2021-09-12 00:14:33,466 INFO Welcome to the CDS\n",
      "2021-09-12 00:14:33,467 INFO Sending request to https://cds.climate.copernicus.eu/api/v2/resources/reanalysis-era5-single-levels-preliminary-back-extension\n",
      "2021-09-12 00:14:33,547 INFO Request is queued\n"
     ]
    },
    {
     "name": "stdout",
     "output_type": "stream",
     "text": [
      "1970\n",
      "month =  01\n"
     ]
    },
    {
     "name": "stderr",
     "output_type": "stream",
     "text": [
      "2021-09-12 00:14:34,626 INFO Request is running\n",
      "2021-09-12 00:18:52,427 INFO Request is completed\n",
      "2021-09-12 00:18:52,428 INFO Downloading https://download-0015.copernicus-climate.eu/cache-compute-0015/cache/data9/adaptor.mars.internal-1631420187.7935288-30470-4-f31421de-2fec-4fd3-99b3-1f1279c452dd.nc to /data/artemis/observations/ERA5/Winds_1970-01.nc (2.9G)\n",
      "2021-09-12 00:31:22,843 INFO Download rate 3.9M/s    \n",
      "2021-09-12 00:31:23,210 INFO Welcome to the CDS\n",
      "2021-09-12 00:31:23,210 INFO Sending request to https://cds.climate.copernicus.eu/api/v2/resources/reanalysis-era5-single-levels-preliminary-back-extension\n",
      "2021-09-12 00:31:23,296 INFO Request is queued\n"
     ]
    },
    {
     "name": "stdout",
     "output_type": "stream",
     "text": [
      "1970\n",
      "month =  02\n"
     ]
    },
    {
     "name": "stderr",
     "output_type": "stream",
     "text": [
      "2021-09-12 00:31:24,372 INFO Request is running\n",
      "2021-09-12 00:34:15,296 INFO Request is completed\n",
      "2021-09-12 00:34:15,296 INFO Downloading https://download-0004.copernicus-climate.eu/cache-compute-0004/cache/data1/adaptor.mars.internal-1631421162.9171379-376-2-99b071d3-2258-45d5-a4a8-6b2d1a2ea7c7.nc to /data/artemis/observations/ERA5/Winds_1970-02.nc (2.6G)\n",
      "2021-09-12 00:42:41,599 INFO Download rate 5.3M/s    \n",
      "2021-09-12 00:42:41,974 INFO Welcome to the CDS\n",
      "2021-09-12 00:42:41,974 INFO Sending request to https://cds.climate.copernicus.eu/api/v2/resources/reanalysis-era5-single-levels-preliminary-back-extension\n",
      "2021-09-12 00:42:42,057 INFO Request is queued\n"
     ]
    },
    {
     "name": "stdout",
     "output_type": "stream",
     "text": [
      "1970\n",
      "month =  03\n"
     ]
    },
    {
     "name": "stderr",
     "output_type": "stream",
     "text": [
      "2021-09-12 00:42:43,133 INFO Request is running\n",
      "2021-09-12 00:45:34,238 INFO Request is completed\n",
      "2021-09-12 00:45:34,238 INFO Downloading https://download-0006.copernicus-climate.eu/cache-compute-0006/cache/data0/adaptor.mars.internal-1631421863.4217732-5756-14-7c4ad481-d1ab-4ced-82ee-e84f8005e1f9.nc to /data/artemis/observations/ERA5/Winds_1970-03.nc (2.9G)\n",
      "2021-09-12 00:54:00,377 INFO Download rate 5.8M/s    \n",
      "2021-09-12 00:54:00,744 INFO Welcome to the CDS\n",
      "2021-09-12 00:54:00,745 INFO Sending request to https://cds.climate.copernicus.eu/api/v2/resources/reanalysis-era5-single-levels-preliminary-back-extension\n",
      "2021-09-12 00:54:00,827 INFO Request is queued\n"
     ]
    },
    {
     "name": "stdout",
     "output_type": "stream",
     "text": [
      "1970\n",
      "month =  04\n"
     ]
    },
    {
     "name": "stderr",
     "output_type": "stream",
     "text": [
      "2021-09-12 00:54:01,906 INFO Request is running\n",
      "2021-09-12 00:56:52,797 INFO Request is completed\n",
      "2021-09-12 00:56:52,798 INFO Downloading https://download-0008.copernicus-climate.eu/cache-compute-0008/cache/data4/adaptor.mars.internal-1631422535.2061167-20183-12-ad286e39-b044-4aae-8284-a5085220dada.nc to /data/artemis/observations/ERA5/Winds_1970-04.nc (2.8G)\n",
      "2021-09-12 01:07:18,704 INFO Download rate 4.6M/s    \n",
      "2021-09-12 01:07:19,074 INFO Welcome to the CDS\n",
      "2021-09-12 01:07:19,075 INFO Sending request to https://cds.climate.copernicus.eu/api/v2/resources/reanalysis-era5-single-levels-preliminary-back-extension\n",
      "2021-09-12 01:07:19,154 INFO Request is queued\n"
     ]
    },
    {
     "name": "stdout",
     "output_type": "stream",
     "text": [
      "1970\n",
      "month =  05\n"
     ]
    },
    {
     "name": "stderr",
     "output_type": "stream",
     "text": [
      "2021-09-12 01:07:20,231 INFO Request is running\n",
      "2021-09-12 01:11:37,967 INFO Request is completed\n",
      "2021-09-12 01:11:37,968 INFO Downloading https://download-0001.copernicus-climate.eu/cache-compute-0001/cache/data2/adaptor.mars.internal-1631423345.824299-639-1-8c02719b-384a-4ba3-970f-2126785343f6.nc to /data/artemis/observations/ERA5/Winds_1970-05.nc (2.9G)\n",
      "2021-09-12 01:22:21,639 INFO Download rate 4.6M/s    \n",
      "2021-09-12 01:22:22,006 INFO Welcome to the CDS\n",
      "2021-09-12 01:22:22,006 INFO Sending request to https://cds.climate.copernicus.eu/api/v2/resources/reanalysis-era5-single-levels-preliminary-back-extension\n",
      "2021-09-12 01:22:22,087 INFO Request is queued\n"
     ]
    },
    {
     "name": "stdout",
     "output_type": "stream",
     "text": [
      "1970\n",
      "month =  06\n"
     ]
    },
    {
     "name": "stderr",
     "output_type": "stream",
     "text": [
      "2021-09-12 01:22:23,163 INFO Request is running\n",
      "2021-09-12 01:25:14,057 INFO Request is completed\n",
      "2021-09-12 01:25:14,058 INFO Downloading https://download-0002.copernicus-climate.eu/cache-compute-0002/cache/data3/adaptor.mars.internal-1631424238.423327-6949-18-9878ba76-f2ed-4bfe-9c62-efdb9d2f9fed.nc to /data/artemis/observations/ERA5/Winds_1970-06.nc (2.8G)\n",
      "2021-09-12 01:35:37,310 INFO Download rate 4.6M/s    \n",
      "2021-09-12 01:35:37,679 INFO Welcome to the CDS\n",
      "2021-09-12 01:35:37,679 INFO Sending request to https://cds.climate.copernicus.eu/api/v2/resources/reanalysis-era5-single-levels-preliminary-back-extension\n",
      "2021-09-12 01:35:37,757 INFO Request is queued\n"
     ]
    },
    {
     "name": "stdout",
     "output_type": "stream",
     "text": [
      "1970\n",
      "month =  07\n"
     ]
    },
    {
     "name": "stderr",
     "output_type": "stream",
     "text": [
      "2021-09-12 01:35:38,835 INFO Request is running\n",
      "2021-09-12 01:38:29,757 INFO Request is completed\n",
      "2021-09-12 01:38:29,758 INFO Downloading https://download-0014.copernicus-climate.eu/cache-compute-0014/cache/data8/adaptor.mars.internal-1631425046.153712-7920-13-ae1e40dc-97c8-4ac2-920c-993b0bd07811.nc to /data/artemis/observations/ERA5/Winds_1970-07.nc (2.9G)\n",
      "2021-09-12 01:48:37,198 INFO Download rate 4.9M/s    \n",
      "2021-09-12 01:48:37,570 INFO Welcome to the CDS\n",
      "2021-09-12 01:48:37,570 INFO Sending request to https://cds.climate.copernicus.eu/api/v2/resources/reanalysis-era5-single-levels-preliminary-back-extension\n",
      "2021-09-12 01:48:37,648 INFO Request is queued\n"
     ]
    },
    {
     "name": "stdout",
     "output_type": "stream",
     "text": [
      "1970\n",
      "month =  08\n"
     ]
    },
    {
     "name": "stderr",
     "output_type": "stream",
     "text": [
      "2021-09-12 01:48:38,727 INFO Request is running\n",
      "2021-09-12 01:52:56,415 INFO Request is completed\n",
      "2021-09-12 01:52:56,416 INFO Downloading https://download-0014.copernicus-climate.eu/cache-compute-0014/cache/data9/adaptor.mars.internal-1631425823.6404052-14682-4-9968a28c-cb93-4034-b484-bdf773e60f60.nc to /data/artemis/observations/ERA5/Winds_1970-08.nc (2.9G)\n",
      "2021-09-12 02:03:16,067 INFO Download rate 4.8M/s    \n",
      "2021-09-12 02:03:16,437 INFO Welcome to the CDS\n",
      "2021-09-12 02:03:16,437 INFO Sending request to https://cds.climate.copernicus.eu/api/v2/resources/reanalysis-era5-single-levels-preliminary-back-extension\n",
      "2021-09-12 02:03:16,518 INFO Request is queued\n"
     ]
    },
    {
     "name": "stdout",
     "output_type": "stream",
     "text": [
      "1970\n",
      "month =  09\n"
     ]
    },
    {
     "name": "stderr",
     "output_type": "stream",
     "text": [
      "2021-09-12 02:03:17,596 INFO Request is running\n",
      "2021-09-12 02:07:35,351 INFO Request is completed\n",
      "2021-09-12 02:07:35,352 INFO Downloading https://download-0007.copernicus-climate.eu/cache-compute-0007/cache/data7/adaptor.mars.internal-1631426704.562905-23012-8-3a15d699-9815-4f2a-acf2-19b8faa7156a.nc to /data/artemis/observations/ERA5/Winds_1970-09.nc (2.8G)\n",
      "2021-09-12 02:16:17,936 INFO Download rate 5.5M/s    \n",
      "2021-09-12 02:16:18,305 INFO Welcome to the CDS\n",
      "2021-09-12 02:16:18,305 INFO Sending request to https://cds.climate.copernicus.eu/api/v2/resources/reanalysis-era5-single-levels-preliminary-back-extension\n",
      "2021-09-12 02:16:18,405 INFO Request is queued\n"
     ]
    },
    {
     "name": "stdout",
     "output_type": "stream",
     "text": [
      "1970\n",
      "month =  10\n"
     ]
    },
    {
     "name": "stderr",
     "output_type": "stream",
     "text": [
      "2021-09-12 02:16:19,481 INFO Request is running\n",
      "2021-09-12 02:20:37,190 INFO Request is completed\n",
      "2021-09-12 02:20:37,191 INFO Downloading https://download-0010.copernicus-climate.eu/cache-compute-0010/cache/data5/adaptor.mars.internal-1631427491.5383031-5440-1-a679aafa-a597-4165-9bbe-a4bf94ca2b8e.nc to /data/artemis/observations/ERA5/Winds_1970-10.nc (2.9G)\n",
      "2021-09-12 02:31:48,362 INFO Download rate 4.4M/s    \n",
      "2021-09-12 02:31:48,733 INFO Welcome to the CDS\n",
      "2021-09-12 02:31:48,733 INFO Sending request to https://cds.climate.copernicus.eu/api/v2/resources/reanalysis-era5-single-levels-preliminary-back-extension\n",
      "2021-09-12 02:31:48,825 INFO Request is queued\n"
     ]
    },
    {
     "name": "stdout",
     "output_type": "stream",
     "text": [
      "1970\n",
      "month =  11\n"
     ]
    },
    {
     "name": "stderr",
     "output_type": "stream",
     "text": [
      "2021-09-12 02:31:49,901 INFO Request is running\n",
      "2021-09-12 02:36:07,663 INFO Request is completed\n",
      "2021-09-12 02:36:07,664 INFO Downloading https://download-0008.copernicus-climate.eu/cache-compute-0008/cache/data6/adaptor.mars.internal-1631428415.881612-7580-18-20f011a0-a59f-45c9-894f-03bb331f2ac5.nc to /data/artemis/observations/ERA5/Winds_1970-11.nc (2.8G)\n",
      "2021-09-12 02:43:17,561 INFO Download rate 6.6M/s    \n",
      "2021-09-12 02:43:17,929 INFO Welcome to the CDS\n",
      "2021-09-12 02:43:17,930 INFO Sending request to https://cds.climate.copernicus.eu/api/v2/resources/reanalysis-era5-single-levels-preliminary-back-extension\n",
      "2021-09-12 02:43:18,009 INFO Request is queued\n"
     ]
    },
    {
     "name": "stdout",
     "output_type": "stream",
     "text": [
      "1970\n",
      "month =  12\n"
     ]
    },
    {
     "name": "stderr",
     "output_type": "stream",
     "text": [
      "2021-09-12 02:43:19,086 INFO Request is running\n",
      "2021-09-12 02:47:36,818 INFO Request is completed\n",
      "2021-09-12 02:47:36,819 INFO Downloading https://download-0012.copernicus-climate.eu/cache-compute-0012/cache/data1/adaptor.mars.internal-1631429110.7185032-22909-13-99fa72e2-d035-43d4-80e7-bad24a581d07.nc to /data/artemis/observations/ERA5/Winds_1970-12.nc (2.9G)\n",
      "2021-09-12 03:00:30,172 INFO Download rate 3.8M/s    \n",
      "2021-09-12 03:00:30,543 INFO Welcome to the CDS\n",
      "2021-09-12 03:00:30,543 INFO Sending request to https://cds.climate.copernicus.eu/api/v2/resources/reanalysis-era5-single-levels-preliminary-back-extension\n",
      "2021-09-12 03:00:30,620 INFO Request is queued\n"
     ]
    },
    {
     "name": "stdout",
     "output_type": "stream",
     "text": [
      "1971\n",
      "month =  01\n"
     ]
    },
    {
     "name": "stderr",
     "output_type": "stream",
     "text": [
      "2021-09-12 03:00:31,696 INFO Request is running\n",
      "2021-09-12 03:04:49,467 INFO Request is completed\n",
      "2021-09-12 03:04:49,467 INFO Downloading https://download-0010.copernicus-climate.eu/cache-compute-0010/cache/data0/adaptor.mars.internal-1631430148.4716918-24602-9-2b5fd99d-5005-4d9a-b9f1-ce790dff85b7.nc to /data/artemis/observations/ERA5/Winds_1971-01.nc (2.9G)\n",
      "2021-09-12 03:13:47,215 INFO Download rate 5.5M/s    \n",
      "2021-09-12 03:13:47,586 INFO Welcome to the CDS\n",
      "2021-09-12 03:13:47,586 INFO Sending request to https://cds.climate.copernicus.eu/api/v2/resources/reanalysis-era5-single-levels-preliminary-back-extension\n",
      "2021-09-12 03:13:47,667 INFO Request is queued\n"
     ]
    },
    {
     "name": "stdout",
     "output_type": "stream",
     "text": [
      "1971\n",
      "month =  02\n"
     ]
    },
    {
     "name": "stderr",
     "output_type": "stream",
     "text": [
      "2021-09-12 03:13:48,745 INFO Request is running\n",
      "2021-09-12 03:16:39,649 INFO Request is completed\n",
      "2021-09-12 03:16:39,649 INFO Downloading https://download-0003.copernicus-climate.eu/cache-compute-0003/cache/data8/adaptor.mars.internal-1631430932.40741-25345-16-dc5ca19f-c750-4a0d-9c2e-5334170b156d.nc to /data/artemis/observations/ERA5/Winds_1971-02.nc (2.6G)\n",
      "2021-09-12 03:23:21,207 INFO Download rate 6.6M/s    \n",
      "2021-09-12 03:23:21,573 INFO Welcome to the CDS\n",
      "2021-09-12 03:23:21,573 INFO Sending request to https://cds.climate.copernicus.eu/api/v2/resources/reanalysis-era5-single-levels-preliminary-back-extension\n",
      "2021-09-12 03:23:21,651 INFO Request is queued\n"
     ]
    },
    {
     "name": "stdout",
     "output_type": "stream",
     "text": [
      "1971\n",
      "month =  03\n"
     ]
    },
    {
     "name": "stderr",
     "output_type": "stream",
     "text": [
      "2021-09-12 03:23:22,728 INFO Request is running\n",
      "2021-09-12 03:26:13,633 INFO Request is completed\n",
      "2021-09-12 03:26:13,634 INFO Downloading https://download-0010.copernicus-climate.eu/cache-compute-0010/cache/data2/adaptor.mars.internal-1631431505.016978-7118-7-7a1bc44f-8f57-44da-a659-6e8a47e5bf10.nc to /data/artemis/observations/ERA5/Winds_1971-03.nc (2.9G)\n",
      "2021-09-12 03:40:57,448 INFO Download rate 3.3M/s    \n",
      "2021-09-12 03:40:57,817 INFO Welcome to the CDS\n",
      "2021-09-12 03:40:57,817 INFO Sending request to https://cds.climate.copernicus.eu/api/v2/resources/reanalysis-era5-single-levels-preliminary-back-extension\n",
      "2021-09-12 03:40:57,899 INFO Request is queued\n"
     ]
    },
    {
     "name": "stdout",
     "output_type": "stream",
     "text": [
      "1971\n",
      "month =  04\n"
     ]
    },
    {
     "name": "stderr",
     "output_type": "stream",
     "text": [
      "2021-09-12 03:40:58,975 INFO Request is running\n",
      "2021-09-12 03:43:49,888 INFO Request is completed\n",
      "2021-09-12 03:43:49,889 INFO Downloading https://download-0003.copernicus-climate.eu/cache-compute-0003/cache/data2/adaptor.mars.internal-1631432560.913684-8709-10-9af7283a-a3da-4e82-a971-83221274f0cc.nc to /data/artemis/observations/ERA5/Winds_1971-04.nc (2.8G)\n",
      "2021-09-12 03:53:56,707 INFO Download rate 4.7M/s    \n",
      "2021-09-12 03:53:57,073 INFO Welcome to the CDS\n",
      "2021-09-12 03:53:57,074 INFO Sending request to https://cds.climate.copernicus.eu/api/v2/resources/reanalysis-era5-single-levels-preliminary-back-extension\n",
      "2021-09-12 03:53:57,152 INFO Request is queued\n"
     ]
    },
    {
     "name": "stdout",
     "output_type": "stream",
     "text": [
      "1971\n",
      "month =  05\n"
     ]
    },
    {
     "name": "stderr",
     "output_type": "stream",
     "text": [
      "2021-09-12 03:53:58,227 INFO Request is running\n",
      "2021-09-12 03:58:15,889 INFO Request is completed\n",
      "2021-09-12 03:58:15,890 INFO Downloading https://download-0009.copernicus-climate.eu/cache-compute-0009/cache/data4/adaptor.mars.internal-1631433352.0877354-11818-19-3c6eca04-7075-4ec8-ac9c-6bf9658753c6.nc to /data/artemis/observations/ERA5/Winds_1971-05.nc (2.9G)\n",
      "2021-09-12 04:07:24,394 INFO Download rate 5.4M/s    \n",
      "2021-09-12 04:07:24,766 INFO Welcome to the CDS\n",
      "2021-09-12 04:07:24,766 INFO Sending request to https://cds.climate.copernicus.eu/api/v2/resources/reanalysis-era5-single-levels-preliminary-back-extension\n",
      "2021-09-12 04:07:24,844 INFO Request is queued\n"
     ]
    },
    {
     "name": "stdout",
     "output_type": "stream",
     "text": [
      "1971\n",
      "month =  06\n"
     ]
    },
    {
     "name": "stderr",
     "output_type": "stream",
     "text": [
      "2021-09-12 04:07:25,920 INFO Request is running\n",
      "2021-09-12 04:11:43,597 INFO Request is completed\n",
      "2021-09-12 04:11:43,598 INFO Downloading https://download-0008.copernicus-climate.eu/cache-compute-0008/cache/data0/adaptor.mars.internal-1631434157.805296-23457-5-7e1fb1d9-02cf-4977-a755-df54b661925c.nc to /data/artemis/observations/ERA5/Winds_1971-06.nc (2.8G)\n",
      "2021-09-12 04:21:56,923 INFO Download rate 4.6M/s    \n",
      "2021-09-12 04:21:57,294 INFO Welcome to the CDS\n",
      "2021-09-12 04:21:57,295 INFO Sending request to https://cds.climate.copernicus.eu/api/v2/resources/reanalysis-era5-single-levels-preliminary-back-extension\n",
      "2021-09-12 04:21:57,372 INFO Request is queued\n"
     ]
    },
    {
     "name": "stdout",
     "output_type": "stream",
     "text": [
      "1971\n",
      "month =  07\n"
     ]
    },
    {
     "name": "stderr",
     "output_type": "stream",
     "text": [
      "2021-09-12 04:21:58,449 INFO Request is running\n",
      "2021-09-12 04:26:16,194 INFO Request is completed\n",
      "2021-09-12 04:26:16,195 INFO Downloading https://download-0003.copernicus-climate.eu/cache-compute-0003/cache/data7/adaptor.mars.internal-1631435031.0235207-1170-12-7d535b06-1094-4e58-a5a1-0273c2e22caf.nc to /data/artemis/observations/ERA5/Winds_1971-07.nc (2.9G)\n",
      "2021-09-12 04:34:11,518 INFO Download rate 6.2M/s    \n",
      "2021-09-12 04:34:11,887 INFO Welcome to the CDS\n",
      "2021-09-12 04:34:11,887 INFO Sending request to https://cds.climate.copernicus.eu/api/v2/resources/reanalysis-era5-single-levels-preliminary-back-extension\n",
      "2021-09-12 04:34:11,967 INFO Request is queued\n"
     ]
    },
    {
     "name": "stdout",
     "output_type": "stream",
     "text": [
      "1971\n",
      "month =  08\n"
     ]
    },
    {
     "name": "stderr",
     "output_type": "stream",
     "text": [
      "2021-09-12 04:34:13,044 INFO Request is running\n",
      "2021-09-12 04:38:30,755 INFO Request is completed\n",
      "2021-09-12 04:38:30,756 INFO Downloading https://download-0012.copernicus-climate.eu/cache-compute-0012/cache/data5/adaptor.mars.internal-1631435761.560438-16445-15-dffa08e1-d42e-4ee3-ad1b-34483b579f9f.nc to /data/artemis/observations/ERA5/Winds_1971-08.nc (2.9G)\n",
      "2021-09-12 04:48:12,426 INFO Download rate 5.1M/s    \n",
      "2021-09-12 04:48:12,797 INFO Welcome to the CDS\n",
      "2021-09-12 04:48:12,798 INFO Sending request to https://cds.climate.copernicus.eu/api/v2/resources/reanalysis-era5-single-levels-preliminary-back-extension\n",
      "2021-09-12 04:48:12,923 INFO Request is queued\n"
     ]
    },
    {
     "name": "stdout",
     "output_type": "stream",
     "text": [
      "1971\n",
      "month =  09\n"
     ]
    },
    {
     "name": "stderr",
     "output_type": "stream",
     "text": [
      "2021-09-12 04:48:14,003 INFO Request is running\n",
      "2021-09-12 04:52:31,785 INFO Request is completed\n",
      "2021-09-12 04:52:31,786 INFO Downloading https://download-0008.copernicus-climate.eu/cache-compute-0008/cache/data6/adaptor.mars.internal-1631436607.4521663-12985-18-3c73fbaf-0d86-46c6-8110-61a116a9a7ad.nc to /data/artemis/observations/ERA5/Winds_1971-09.nc (2.8G)\n",
      "2021-09-12 05:00:58,885 INFO Download rate 5.6M/s    \n",
      "2021-09-12 05:00:59,254 INFO Welcome to the CDS\n",
      "2021-09-12 05:00:59,255 INFO Sending request to https://cds.climate.copernicus.eu/api/v2/resources/reanalysis-era5-single-levels-preliminary-back-extension\n",
      "2021-09-12 05:00:59,335 INFO Request is queued\n"
     ]
    },
    {
     "name": "stdout",
     "output_type": "stream",
     "text": [
      "1971\n",
      "month =  10\n"
     ]
    },
    {
     "name": "stderr",
     "output_type": "stream",
     "text": [
      "2021-09-12 05:01:00,410 INFO Request is running\n",
      "2021-09-12 05:05:18,134 INFO Request is completed\n",
      "2021-09-12 05:05:18,135 INFO Downloading https://download-0009.copernicus-climate.eu/cache-compute-0009/cache/data2/adaptor.mars.internal-1631437382.0808609-18513-15-e966d86a-bda8-4104-89d3-c1e8e9ceca05.nc to /data/artemis/observations/ERA5/Winds_1971-10.nc (2.9G)\n",
      "2021-09-12 05:14:01,759 INFO Download rate 5.6M/s    \n",
      "2021-09-12 05:14:02,132 INFO Welcome to the CDS\n",
      "2021-09-12 05:14:02,133 INFO Sending request to https://cds.climate.copernicus.eu/api/v2/resources/reanalysis-era5-single-levels-preliminary-back-extension\n",
      "2021-09-12 05:14:02,211 INFO Request is queued\n"
     ]
    },
    {
     "name": "stdout",
     "output_type": "stream",
     "text": [
      "1971\n",
      "month =  11\n"
     ]
    },
    {
     "name": "stderr",
     "output_type": "stream",
     "text": [
      "2021-09-12 05:14:03,287 INFO Request is running\n",
      "2021-09-12 05:18:21,006 INFO Request is completed\n",
      "2021-09-12 05:18:21,007 INFO Downloading https://download-0015.copernicus-climate.eu/cache-compute-0015/cache/data4/adaptor.mars.internal-1631438178.5590932-21914-5-242cc193-d437-4e48-bd27-7b62c85b5048.nc to /data/artemis/observations/ERA5/Winds_1971-11.nc (2.8G)\n",
      "2021-09-12 05:27:08,371 INFO Download rate 5.4M/s    \n",
      "2021-09-12 05:27:08,739 INFO Welcome to the CDS\n",
      "2021-09-12 05:27:08,739 INFO Sending request to https://cds.climate.copernicus.eu/api/v2/resources/reanalysis-era5-single-levels-preliminary-back-extension\n",
      "2021-09-12 05:27:08,816 INFO Request is queued\n"
     ]
    },
    {
     "name": "stdout",
     "output_type": "stream",
     "text": [
      "1971\n",
      "month =  12\n"
     ]
    },
    {
     "name": "stderr",
     "output_type": "stream",
     "text": [
      "2021-09-12 05:27:09,891 INFO Request is running\n",
      "2021-09-12 05:31:27,569 INFO Request is completed\n",
      "2021-09-12 05:31:27,569 INFO Downloading https://download-0010.copernicus-climate.eu/cache-compute-0010/cache/data3/adaptor.mars.internal-1631438947.213341-6847-8-1248fd29-8048-4165-ab32-7bbafd9d393c.nc to /data/artemis/observations/ERA5/Winds_1971-12.nc (2.9G)\n",
      "2021-09-12 05:38:30,356 INFO Download rate 7M/s      \n",
      "2021-09-12 05:38:30,724 INFO Welcome to the CDS\n",
      "2021-09-12 05:38:30,724 INFO Sending request to https://cds.climate.copernicus.eu/api/v2/resources/reanalysis-era5-single-levels-preliminary-back-extension\n",
      "2021-09-12 05:38:30,805 INFO Request is queued\n"
     ]
    },
    {
     "name": "stdout",
     "output_type": "stream",
     "text": [
      "1972\n",
      "month =  01\n"
     ]
    },
    {
     "name": "stderr",
     "output_type": "stream",
     "text": [
      "2021-09-12 05:38:31,884 INFO Request is running\n",
      "2021-09-12 05:42:49,645 INFO Request is completed\n",
      "2021-09-12 05:42:49,646 INFO Downloading https://download-0010.copernicus-climate.eu/cache-compute-0010/cache/data6/adaptor.mars.internal-1631439617.9309247-9308-14-785a74ba-7bf3-4317-95a4-78a72c7e908a.nc to /data/artemis/observations/ERA5/Winds_1972-01.nc (2.9G)\n",
      "2021-09-12 05:49:41,364 INFO Download rate 7.2M/s    \n",
      "2021-09-12 05:49:41,732 INFO Welcome to the CDS\n",
      "2021-09-12 05:49:41,732 INFO Sending request to https://cds.climate.copernicus.eu/api/v2/resources/reanalysis-era5-single-levels-preliminary-back-extension\n",
      "2021-09-12 05:49:41,810 INFO Request is queued\n"
     ]
    },
    {
     "name": "stdout",
     "output_type": "stream",
     "text": [
      "1972\n",
      "month =  02\n"
     ]
    },
    {
     "name": "stderr",
     "output_type": "stream",
     "text": [
      "2021-09-12 05:49:42,885 INFO Request is running\n",
      "2021-09-12 05:54:00,640 INFO Request is completed\n",
      "2021-09-12 05:54:00,641 INFO Downloading https://download-0009.copernicus-climate.eu/cache-compute-0009/cache/data7/adaptor.mars.internal-1631440293.7067533-10256-14-2dd09311-3e88-4341-a2d4-df61c33c8fff.nc to /data/artemis/observations/ERA5/Winds_1972-02.nc (2.7G)\n",
      "2021-09-12 06:00:56,722 INFO Download rate 6.6M/s    \n",
      "2021-09-12 06:00:57,089 INFO Welcome to the CDS\n",
      "2021-09-12 06:00:57,089 INFO Sending request to https://cds.climate.copernicus.eu/api/v2/resources/reanalysis-era5-single-levels-preliminary-back-extension\n",
      "2021-09-12 06:00:57,168 INFO Request is queued\n"
     ]
    },
    {
     "name": "stdout",
     "output_type": "stream",
     "text": [
      "1972\n",
      "month =  03\n"
     ]
    },
    {
     "name": "stderr",
     "output_type": "stream",
     "text": [
      "2021-09-12 06:00:58,243 INFO Request is running\n",
      "2021-09-12 06:05:15,972 INFO Request is completed\n",
      "2021-09-12 06:05:15,973 INFO Downloading https://download-0008.copernicus-climate.eu/cache-compute-0008/cache/data1/adaptor.mars.internal-1631440968.2548795-22059-4-056f99ba-0758-4286-8f01-c24796e230fa.nc to /data/artemis/observations/ERA5/Winds_1972-03.nc (2.9G)\n",
      "2021-09-12 06:13:25,618 INFO Download rate 6M/s      \n",
      "2021-09-12 06:13:25,989 INFO Welcome to the CDS\n",
      "2021-09-12 06:13:25,990 INFO Sending request to https://cds.climate.copernicus.eu/api/v2/resources/reanalysis-era5-single-levels-preliminary-back-extension\n",
      "2021-09-12 06:13:26,071 INFO Request is queued\n"
     ]
    },
    {
     "name": "stdout",
     "output_type": "stream",
     "text": [
      "1972\n",
      "month =  04\n"
     ]
    },
    {
     "name": "stderr",
     "output_type": "stream",
     "text": [
      "2021-09-12 06:13:27,147 INFO Request is running\n",
      "2021-09-12 06:17:44,893 INFO Request is completed\n",
      "2021-09-12 06:17:44,894 INFO Downloading https://download-0002.copernicus-climate.eu/cache-compute-0002/cache/data8/adaptor.mars.internal-1631441710.2729342-771-3-e46772e1-5bf2-48ce-bb48-127c409e990e.nc to /data/artemis/observations/ERA5/Winds_1972-04.nc (2.8G)\n",
      "2021-09-12 06:24:45,804 INFO Download rate 6.8M/s    \n",
      "2021-09-12 06:24:46,175 INFO Welcome to the CDS\n",
      "2021-09-12 06:24:46,176 INFO Sending request to https://cds.climate.copernicus.eu/api/v2/resources/reanalysis-era5-single-levels-preliminary-back-extension\n",
      "2021-09-12 06:24:46,255 INFO Request is queued\n"
     ]
    },
    {
     "name": "stdout",
     "output_type": "stream",
     "text": [
      "1972\n",
      "month =  05\n"
     ]
    },
    {
     "name": "stderr",
     "output_type": "stream",
     "text": [
      "2021-09-12 06:24:47,331 INFO Request is running\n",
      "2021-09-12 06:29:05,089 INFO Request is completed\n",
      "2021-09-12 06:29:05,090 INFO Downloading https://download-0003.copernicus-climate.eu/cache-compute-0003/cache/data4/adaptor.mars.internal-1631442396.9157114-26958-11-5502c762-43fe-473c-b5c2-ae948c84eec4.nc to /data/artemis/observations/ERA5/Winds_1972-05.nc (2.9G)\n",
      "2021-09-12 06:35:13,927 INFO Download rate 8M/s      \n",
      "2021-09-12 06:35:14,296 INFO Welcome to the CDS\n",
      "2021-09-12 06:35:14,297 INFO Sending request to https://cds.climate.copernicus.eu/api/v2/resources/reanalysis-era5-single-levels-preliminary-back-extension\n",
      "2021-09-12 06:35:14,389 INFO Request is queued\n"
     ]
    },
    {
     "name": "stdout",
     "output_type": "stream",
     "text": [
      "1972\n",
      "month =  06\n"
     ]
    },
    {
     "name": "stderr",
     "output_type": "stream",
     "text": [
      "2021-09-12 06:35:15,467 INFO Request is running\n",
      "2021-09-12 06:39:33,242 INFO Request is completed\n",
      "2021-09-12 06:39:33,243 INFO Downloading https://download-0014.copernicus-climate.eu/cache-compute-0014/cache/data0/adaptor.mars.internal-1631443021.7654593-3186-15-5db7fd68-f0c9-4317-a6dd-f5a9fc2850ab.nc to /data/artemis/observations/ERA5/Winds_1972-06.nc (2.8G)\n",
      "2021-09-12 06:45:24,173 INFO Download rate 8.1M/s    \n",
      "2021-09-12 06:45:24,541 INFO Welcome to the CDS\n",
      "2021-09-12 06:45:24,541 INFO Sending request to https://cds.climate.copernicus.eu/api/v2/resources/reanalysis-era5-single-levels-preliminary-back-extension\n",
      "2021-09-12 06:45:24,620 INFO Request is queued\n"
     ]
    },
    {
     "name": "stdout",
     "output_type": "stream",
     "text": [
      "1972\n",
      "month =  07\n"
     ]
    },
    {
     "name": "stderr",
     "output_type": "stream",
     "text": [
      "2021-09-12 06:45:27,274 INFO Request is running\n",
      "2021-09-12 06:49:43,449 INFO Request is completed\n",
      "2021-09-12 06:49:43,450 INFO Downloading https://download-0014.copernicus-climate.eu/cache-compute-0014/cache/data8/adaptor.mars.internal-1631443638.849895-6595-8-2a3feff3-f073-4fdb-8f51-9440f0f38905.nc to /data/artemis/observations/ERA5/Winds_1972-07.nc (2.9G)\n",
      "2021-09-12 06:57:08,636 INFO Download rate 6.6M/s    \n",
      "2021-09-12 06:57:09,004 INFO Welcome to the CDS\n",
      "2021-09-12 06:57:09,005 INFO Sending request to https://cds.climate.copernicus.eu/api/v2/resources/reanalysis-era5-single-levels-preliminary-back-extension\n",
      "2021-09-12 06:57:09,086 INFO Request is queued\n"
     ]
    },
    {
     "name": "stdout",
     "output_type": "stream",
     "text": [
      "1972\n",
      "month =  08\n"
     ]
    },
    {
     "name": "stderr",
     "output_type": "stream",
     "text": [
      "2021-09-12 06:57:10,163 INFO Request is running\n",
      "2021-09-12 07:01:27,925 INFO Request is completed\n",
      "2021-09-12 07:01:27,926 INFO Downloading https://download-0012.copernicus-climate.eu/cache-compute-0012/cache/data8/adaptor.mars.internal-1631444345.9492757-27867-2-fa1c949f-0cd4-4bce-b4e9-e76046324085.nc to /data/artemis/observations/ERA5/Winds_1972-08.nc (2.9G)\n",
      "2021-09-12 07:10:04,552 INFO Download rate 5.7M/s    \n",
      "2021-09-12 07:10:04,920 INFO Welcome to the CDS\n",
      "2021-09-12 07:10:04,920 INFO Sending request to https://cds.climate.copernicus.eu/api/v2/resources/reanalysis-era5-single-levels-preliminary-back-extension\n",
      "2021-09-12 07:10:05,000 INFO Request is queued\n"
     ]
    },
    {
     "name": "stdout",
     "output_type": "stream",
     "text": [
      "1972\n",
      "month =  09\n"
     ]
    },
    {
     "name": "stderr",
     "output_type": "stream",
     "text": [
      "2021-09-12 07:10:06,077 INFO Request is running\n",
      "2021-09-12 07:14:23,811 INFO Request is completed\n",
      "2021-09-12 07:14:23,812 INFO Downloading https://download-0010.copernicus-climate.eu/cache-compute-0010/cache/data6/adaptor.mars.internal-1631445109.9720492-23108-14-ddf685ae-18a0-4356-b116-9f9f13ca1f24.nc to /data/artemis/observations/ERA5/Winds_1972-09.nc (2.8G)\n",
      "2021-09-12 07:22:08,627 INFO Download rate 6.1M/s    \n",
      "2021-09-12 07:22:09,004 INFO Welcome to the CDS\n",
      "2021-09-12 07:22:09,004 INFO Sending request to https://cds.climate.copernicus.eu/api/v2/resources/reanalysis-era5-single-levels-preliminary-back-extension\n",
      "2021-09-12 07:22:09,084 INFO Request is queued\n"
     ]
    },
    {
     "name": "stdout",
     "output_type": "stream",
     "text": [
      "1972\n",
      "month =  10\n"
     ]
    },
    {
     "name": "stderr",
     "output_type": "stream",
     "text": [
      "2021-09-12 07:22:10,162 INFO Request is running\n",
      "2021-09-12 07:26:27,981 INFO Request is completed\n",
      "2021-09-12 07:26:27,983 INFO Downloading https://download-0001.copernicus-climate.eu/cache-compute-0001/cache/data8/adaptor.mars.internal-1631445826.7112176-29104-17-f4e010ea-6173-41ca-9369-95d9e813d995.nc to /data/artemis/observations/ERA5/Winds_1972-10.nc (2.9G)\n",
      "2021-09-12 07:31:20,432 INFO Download rate 10.1M/s   \n",
      "2021-09-12 07:31:20,800 INFO Welcome to the CDS\n",
      "2021-09-12 07:31:20,801 INFO Sending request to https://cds.climate.copernicus.eu/api/v2/resources/reanalysis-era5-single-levels-preliminary-back-extension\n",
      "2021-09-12 07:31:20,879 INFO Request is queued\n"
     ]
    },
    {
     "name": "stdout",
     "output_type": "stream",
     "text": [
      "1972\n",
      "month =  11\n"
     ]
    },
    {
     "name": "stderr",
     "output_type": "stream",
     "text": [
      "2021-09-12 07:31:21,955 INFO Request is running\n",
      "2021-09-12 07:34:12,861 INFO Request is completed\n",
      "2021-09-12 07:34:12,862 INFO Downloading https://download-0003.copernicus-climate.eu/cache-compute-0003/cache/data2/adaptor.mars.internal-1631446386.8552067-28573-9-67678980-f342-409c-8866-defa0ac9c1e2.nc to /data/artemis/observations/ERA5/Winds_1972-11.nc (2.8G)\n",
      "2021-09-12 07:40:03,722 INFO Download rate 8.1M/s    \n",
      "2021-09-12 07:40:04,090 INFO Welcome to the CDS\n",
      "2021-09-12 07:40:04,090 INFO Sending request to https://cds.climate.copernicus.eu/api/v2/resources/reanalysis-era5-single-levels-preliminary-back-extension\n",
      "2021-09-12 07:40:04,170 INFO Request is queued\n"
     ]
    },
    {
     "name": "stdout",
     "output_type": "stream",
     "text": [
      "1972\n",
      "month =  12\n"
     ]
    },
    {
     "name": "stderr",
     "output_type": "stream",
     "text": [
      "2021-09-12 07:40:05,246 INFO Request is running\n",
      "2021-09-12 07:44:22,977 INFO Request is completed\n",
      "2021-09-12 07:44:22,978 INFO Downloading https://download-0015.copernicus-climate.eu/cache-compute-0015/cache/data4/adaptor.mars.internal-1631446906.8269153-29927-1-25beddf6-be4e-4d43-ba03-0a0aa5a2f02a.nc to /data/artemis/observations/ERA5/Winds_1972-12.nc (2.9G)\n",
      "2021-09-12 07:52:05,665 INFO Download rate 6.4M/s    \n",
      "2021-09-12 07:52:06,034 INFO Welcome to the CDS\n",
      "2021-09-12 07:52:06,034 INFO Sending request to https://cds.climate.copernicus.eu/api/v2/resources/reanalysis-era5-single-levels-preliminary-back-extension\n",
      "2021-09-12 07:52:06,114 INFO Request is queued\n"
     ]
    },
    {
     "name": "stdout",
     "output_type": "stream",
     "text": [
      "1973\n",
      "month =  01\n"
     ]
    },
    {
     "name": "stderr",
     "output_type": "stream",
     "text": [
      "2021-09-12 07:52:07,190 INFO Request is running\n",
      "2021-09-12 07:56:24,830 INFO Request is completed\n",
      "2021-09-12 07:56:24,832 INFO Downloading https://download-0014.copernicus-climate.eu/cache-compute-0014/cache/data8/adaptor.mars.internal-1631447639.2398388-12528-1-ad4f9429-b9a4-496f-8000-518b369d86af.nc to /data/artemis/observations/ERA5/Winds_1973-01.nc (2.9G)\n",
      "2021-09-12 08:05:28,024 INFO Download rate 5.4M/s    \n",
      "2021-09-12 08:05:28,392 INFO Welcome to the CDS\n",
      "2021-09-12 08:05:28,393 INFO Sending request to https://cds.climate.copernicus.eu/api/v2/resources/reanalysis-era5-single-levels-preliminary-back-extension\n",
      "2021-09-12 08:05:28,476 INFO Request is queued\n"
     ]
    },
    {
     "name": "stdout",
     "output_type": "stream",
     "text": [
      "1973\n",
      "month =  02\n"
     ]
    },
    {
     "name": "stderr",
     "output_type": "stream",
     "text": [
      "2021-09-12 08:05:29,552 INFO Request is running\n",
      "2021-09-12 08:09:47,312 INFO Request is completed\n",
      "2021-09-12 08:09:47,313 INFO Downloading https://download-0012.copernicus-climate.eu/cache-compute-0012/cache/data2/adaptor.mars.internal-1631448431.1437535-27752-1-b49025af-c14f-4d2e-9c14-6551b087862d.nc to /data/artemis/observations/ERA5/Winds_1973-02.nc (2.6G)\n",
      "2021-09-12 08:15:57,262 INFO Download rate 7.2M/s    \n",
      "2021-09-12 08:15:57,632 INFO Welcome to the CDS\n",
      "2021-09-12 08:15:57,632 INFO Sending request to https://cds.climate.copernicus.eu/api/v2/resources/reanalysis-era5-single-levels-preliminary-back-extension\n",
      "2021-09-12 08:15:57,714 INFO Request is queued\n"
     ]
    },
    {
     "name": "stdout",
     "output_type": "stream",
     "text": [
      "1973\n",
      "month =  03\n"
     ]
    },
    {
     "name": "stderr",
     "output_type": "stream",
     "text": [
      "2021-09-12 08:15:58,794 INFO Request is running\n",
      "2021-09-12 08:18:49,647 INFO Request is completed\n",
      "2021-09-12 08:18:49,648 INFO Downloading https://download-0001.copernicus-climate.eu/cache-compute-0001/cache/data7/adaptor.mars.internal-1631449066.0625358-19829-4-9a91242c-4d8d-4219-bade-8145203551c1.nc to /data/artemis/observations/ERA5/Winds_1973-03.nc (2.9G)\n",
      "2021-09-12 08:26:24,056 INFO Download rate 6.5M/s    \n",
      "2021-09-12 08:26:24,427 INFO Welcome to the CDS\n",
      "2021-09-12 08:26:24,427 INFO Sending request to https://cds.climate.copernicus.eu/api/v2/resources/reanalysis-era5-single-levels-preliminary-back-extension\n",
      "2021-09-12 08:26:24,509 INFO Request is queued\n"
     ]
    },
    {
     "name": "stdout",
     "output_type": "stream",
     "text": [
      "1973\n",
      "month =  04\n"
     ]
    },
    {
     "name": "stderr",
     "output_type": "stream",
     "text": [
      "2021-09-12 08:26:25,587 INFO Request is running\n",
      "2021-09-12 08:30:43,307 INFO Request is completed\n",
      "2021-09-12 08:30:43,308 INFO Downloading https://download-0014.copernicus-climate.eu/cache-compute-0014/cache/data0/adaptor.mars.internal-1631449691.6032133-16442-14-c9bff5ea-290b-4f34-8d21-47a99c44d1d2.nc to /data/artemis/observations/ERA5/Winds_1973-04.nc (2.8G)\n",
      "2021-09-12 08:38:25,916 INFO Download rate 6.2M/s    \n",
      "2021-09-12 08:38:26,283 INFO Welcome to the CDS\n",
      "2021-09-12 08:38:26,283 INFO Sending request to https://cds.climate.copernicus.eu/api/v2/resources/reanalysis-era5-single-levels-preliminary-back-extension\n",
      "2021-09-12 08:38:26,361 INFO Request is queued\n"
     ]
    },
    {
     "name": "stdout",
     "output_type": "stream",
     "text": [
      "1973\n",
      "month =  05\n"
     ]
    },
    {
     "name": "stderr",
     "output_type": "stream",
     "text": [
      "2021-09-12 08:38:27,436 INFO Request is running\n",
      "2021-09-12 08:42:45,228 INFO Request is completed\n",
      "2021-09-12 08:42:45,229 INFO Downloading https://download-0006.copernicus-climate.eu/cache-compute-0006/cache/data8/adaptor.mars.internal-1631450430.4219701-28121-4-e64f9401-f612-4d81-bb0b-2fc5e98e11cc.nc to /data/artemis/observations/ERA5/Winds_1973-05.nc (2.9G)\n",
      "2021-09-12 08:49:51,181 INFO Download rate 6.9M/s    \n",
      "2021-09-12 08:49:51,549 INFO Welcome to the CDS\n",
      "2021-09-12 08:49:51,550 INFO Sending request to https://cds.climate.copernicus.eu/api/v2/resources/reanalysis-era5-single-levels-preliminary-back-extension\n",
      "2021-09-12 08:49:51,629 INFO Request is queued\n"
     ]
    },
    {
     "name": "stdout",
     "output_type": "stream",
     "text": [
      "1973\n",
      "month =  06\n"
     ]
    },
    {
     "name": "stderr",
     "output_type": "stream",
     "text": [
      "2021-09-12 08:49:52,705 INFO Request is running\n",
      "2021-09-12 08:52:43,621 INFO Request is completed\n",
      "2021-09-12 08:52:43,622 INFO Downloading https://download-0000.copernicus-climate.eu/cache-compute-0000/cache/data1/adaptor.mars.internal-1631451099.1941445-23850-7-62c8ba7c-88a3-40ae-ac8e-915dcf8905a2.nc to /data/artemis/observations/ERA5/Winds_1973-06.nc (2.8G)\n",
      "2021-09-12 08:57:49,931 INFO Download rate 9.3M/s    \n",
      "2021-09-12 08:57:50,301 INFO Welcome to the CDS\n",
      "2021-09-12 08:57:50,301 INFO Sending request to https://cds.climate.copernicus.eu/api/v2/resources/reanalysis-era5-single-levels-preliminary-back-extension\n",
      "2021-09-12 08:57:50,383 INFO Request is queued\n"
     ]
    },
    {
     "name": "stdout",
     "output_type": "stream",
     "text": [
      "1973\n",
      "month =  07\n"
     ]
    },
    {
     "name": "stderr",
     "output_type": "stream",
     "text": [
      "2021-09-12 08:57:51,459 INFO Request is running\n",
      "2021-09-12 09:02:09,200 INFO Request is completed\n",
      "2021-09-12 09:02:09,201 INFO Downloading https://download-0011.copernicus-climate.eu/cache-compute-0011/cache/data3/adaptor.mars.internal-1631451587.1238096-5814-14-e5c27099-7349-4342-a66e-1e241912726f.nc to /data/artemis/observations/ERA5/Winds_1973-07.nc (2.9G)\n",
      "2021-09-12 09:08:08,517 INFO Download rate 8.2M/s    \n",
      "2021-09-12 09:08:08,893 INFO Welcome to the CDS\n",
      "2021-09-12 09:08:08,894 INFO Sending request to https://cds.climate.copernicus.eu/api/v2/resources/reanalysis-era5-single-levels-preliminary-back-extension\n",
      "2021-09-12 09:08:08,972 INFO Request is queued\n"
     ]
    },
    {
     "name": "stdout",
     "output_type": "stream",
     "text": [
      "1973\n",
      "month =  08\n"
     ]
    },
    {
     "name": "stderr",
     "output_type": "stream",
     "text": [
      "2021-09-12 09:08:10,049 INFO Request is running\n",
      "2021-09-12 09:11:00,912 INFO Request is completed\n",
      "2021-09-12 09:11:00,913 INFO Downloading https://download-0005.copernicus-climate.eu/cache-compute-0005/cache/data5/adaptor.mars.internal-1631452203.0465746-11107-5-1cf707d4-5d16-42a9-99d7-86f32767aeee.nc to /data/artemis/observations/ERA5/Winds_1973-08.nc (2.9G)\n",
      "2021-09-12 09:16:53,738 INFO Download rate 8.4M/s    \n",
      "2021-09-12 09:16:54,107 INFO Welcome to the CDS\n",
      "2021-09-12 09:16:54,108 INFO Sending request to https://cds.climate.copernicus.eu/api/v2/resources/reanalysis-era5-single-levels-preliminary-back-extension\n",
      "2021-09-12 09:16:54,187 INFO Request is queued\n"
     ]
    },
    {
     "name": "stdout",
     "output_type": "stream",
     "text": [
      "1973\n",
      "month =  09\n"
     ]
    },
    {
     "name": "stderr",
     "output_type": "stream",
     "text": [
      "2021-09-12 09:16:55,263 INFO Request is running\n",
      "2021-09-12 09:21:12,972 INFO Request is completed\n",
      "2021-09-12 09:21:12,973 INFO Downloading https://download-0008.copernicus-climate.eu/cache-compute-0008/cache/data3/adaptor.mars.internal-1631452728.4391837-14105-15-f57327cd-c06d-45ac-bfa9-b96f82180d4c.nc to /data/artemis/observations/ERA5/Winds_1973-09.nc (2.8G)\n",
      "2021-09-12 09:26:38,620 INFO Download rate 8.8M/s    \n",
      "2021-09-12 09:26:38,994 INFO Welcome to the CDS\n",
      "2021-09-12 09:26:38,995 INFO Sending request to https://cds.climate.copernicus.eu/api/v2/resources/reanalysis-era5-single-levels-preliminary-back-extension\n",
      "2021-09-12 09:26:39,075 INFO Request is queued\n"
     ]
    },
    {
     "name": "stdout",
     "output_type": "stream",
     "text": [
      "1973\n",
      "month =  10\n"
     ]
    },
    {
     "name": "stderr",
     "output_type": "stream",
     "text": [
      "2021-09-12 09:26:40,151 INFO Request is running\n",
      "2021-09-12 09:30:57,872 INFO Request is completed\n",
      "2021-09-12 09:30:57,873 INFO Downloading https://download-0010.copernicus-climate.eu/cache-compute-0010/cache/data4/adaptor.mars.internal-1631453312.061265-2026-3-d0e89342-411b-4efa-bee4-26c209234957.nc to /data/artemis/observations/ERA5/Winds_1973-10.nc (2.9G)\n",
      "2021-09-12 09:37:08,041 INFO Download rate 8M/s      \n",
      "2021-09-12 09:37:08,409 INFO Welcome to the CDS\n",
      "2021-09-12 09:37:08,409 INFO Sending request to https://cds.climate.copernicus.eu/api/v2/resources/reanalysis-era5-single-levels-preliminary-back-extension\n",
      "2021-09-12 09:37:08,489 INFO Request is queued\n"
     ]
    },
    {
     "name": "stdout",
     "output_type": "stream",
     "text": [
      "1973\n",
      "month =  11\n"
     ]
    },
    {
     "name": "stderr",
     "output_type": "stream",
     "text": [
      "2021-09-12 09:37:09,564 INFO Request is running\n",
      "2021-09-12 09:41:27,256 INFO Request is completed\n",
      "2021-09-12 09:41:27,257 INFO Downloading https://download-0007.copernicus-climate.eu/cache-compute-0007/cache/data0/adaptor.mars.internal-1631453915.6031888-18712-20-3bd01b44-0b41-4d40-bcfd-a495044cc226.nc to /data/artemis/observations/ERA5/Winds_1973-11.nc (2.8G)\n",
      "2021-09-12 09:48:07,678 INFO Download rate 7.1M/s    \n",
      "2021-09-12 09:48:08,045 INFO Welcome to the CDS\n",
      "2021-09-12 09:48:08,046 INFO Sending request to https://cds.climate.copernicus.eu/api/v2/resources/reanalysis-era5-single-levels-preliminary-back-extension\n",
      "2021-09-12 09:48:08,127 INFO Request is queued\n"
     ]
    },
    {
     "name": "stdout",
     "output_type": "stream",
     "text": [
      "1973\n",
      "month =  12\n"
     ]
    },
    {
     "name": "stderr",
     "output_type": "stream",
     "text": [
      "2021-09-12 09:48:09,205 INFO Request is running\n",
      "2021-09-12 09:52:26,994 INFO Request is completed\n",
      "2021-09-12 09:52:26,995 INFO Downloading https://download-0011.copernicus-climate.eu/cache-compute-0011/cache/data3/adaptor.mars.internal-1631454588.922613-588-12-e4597cdd-e920-4e36-ae1f-75f0504fb4f2.nc to /data/artemis/observations/ERA5/Winds_1973-12.nc (2.9G)\n",
      "2021-09-12 10:01:00,188 INFO Download rate 5.7M/s    \n",
      "2021-09-12 10:01:00,557 INFO Welcome to the CDS\n",
      "2021-09-12 10:01:00,558 INFO Sending request to https://cds.climate.copernicus.eu/api/v2/resources/reanalysis-era5-single-levels-preliminary-back-extension\n",
      "2021-09-12 10:01:00,641 INFO Request is queued\n"
     ]
    },
    {
     "name": "stdout",
     "output_type": "stream",
     "text": [
      "1974\n",
      "month =  01\n"
     ]
    },
    {
     "name": "stderr",
     "output_type": "stream",
     "text": [
      "2021-09-12 10:01:01,719 INFO Request is running\n",
      "2021-09-12 10:05:19,438 INFO Request is completed\n",
      "2021-09-12 10:05:19,439 INFO Downloading https://download-0001.copernicus-climate.eu/cache-compute-0001/cache/data5/adaptor.mars.internal-1631455369.0570688-1852-11-cfd45a0f-9f51-4cca-be8b-8222241a3c05.nc to /data/artemis/observations/ERA5/Winds_1974-01.nc (2.9G)\n",
      "2021-09-12 10:14:04,784 INFO Download rate 5.6M/s    \n",
      "2021-09-12 10:14:05,153 INFO Welcome to the CDS\n",
      "2021-09-12 10:14:05,154 INFO Sending request to https://cds.climate.copernicus.eu/api/v2/resources/reanalysis-era5-single-levels-preliminary-back-extension\n",
      "2021-09-12 10:14:05,232 INFO Request is queued\n"
     ]
    },
    {
     "name": "stdout",
     "output_type": "stream",
     "text": [
      "1974\n",
      "month =  02\n"
     ]
    },
    {
     "name": "stderr",
     "output_type": "stream",
     "text": [
      "2021-09-12 10:14:06,310 INFO Request is running\n",
      "2021-09-12 10:16:57,211 INFO Request is completed\n",
      "2021-09-12 10:16:57,212 INFO Downloading https://download-0000.copernicus-climate.eu/cache-compute-0000/cache/data6/adaptor.mars.internal-1631456139.7925878-970-15-a6e13acb-cf54-4cd0-bc44-627b716f8db2.nc to /data/artemis/observations/ERA5/Winds_1974-02.nc (2.6G)\n",
      "2021-09-12 10:22:09,343 INFO Download rate 8.5M/s    \n",
      "2021-09-12 10:22:09,710 INFO Welcome to the CDS\n",
      "2021-09-12 10:22:09,711 INFO Sending request to https://cds.climate.copernicus.eu/api/v2/resources/reanalysis-era5-single-levels-preliminary-back-extension\n",
      "2021-09-12 10:22:09,792 INFO Request is queued\n"
     ]
    },
    {
     "name": "stdout",
     "output_type": "stream",
     "text": [
      "1974\n",
      "month =  03\n"
     ]
    },
    {
     "name": "stderr",
     "output_type": "stream",
     "text": [
      "2021-09-12 10:22:10,869 INFO Request is running\n",
      "2021-09-12 10:26:28,825 INFO Request is completed\n",
      "2021-09-12 10:26:28,826 INFO Downloading https://download-0009.copernicus-climate.eu/cache-compute-0009/cache/data5/adaptor.mars.internal-1631456637.2904966-30414-1-dbe17ff4-7fb6-4ebe-b36e-b60a037b09c3.nc to /data/artemis/observations/ERA5/Winds_1974-03.nc (2.9G)\n",
      "2021-09-12 10:34:31,835 INFO Download rate 6.1M/s    \n",
      "2021-09-12 10:34:32,207 INFO Welcome to the CDS\n",
      "2021-09-12 10:34:32,207 INFO Sending request to https://cds.climate.copernicus.eu/api/v2/resources/reanalysis-era5-single-levels-preliminary-back-extension\n",
      "2021-09-12 10:34:32,289 INFO Request is queued\n"
     ]
    },
    {
     "name": "stdout",
     "output_type": "stream",
     "text": [
      "1974\n",
      "month =  04\n"
     ]
    },
    {
     "name": "stderr",
     "output_type": "stream",
     "text": [
      "2021-09-12 10:34:33,364 INFO Request is running\n",
      "2021-09-12 10:37:24,278 INFO Request is completed\n",
      "2021-09-12 10:37:24,279 INFO Downloading https://download-0015.copernicus-climate.eu/cache-compute-0015/cache/data0/adaptor.mars.internal-1631457371.6337855-21930-2-724418eb-a399-4b3f-8c2d-3b3b7e1e3db8.nc to /data/artemis/observations/ERA5/Winds_1974-04.nc (2.8G)\n",
      "2021-09-12 10:46:55,410 INFO Download rate 5M/s      \n",
      "2021-09-12 10:46:55,779 INFO Welcome to the CDS\n",
      "2021-09-12 10:46:55,779 INFO Sending request to https://cds.climate.copernicus.eu/api/v2/resources/reanalysis-era5-single-levels-preliminary-back-extension\n",
      "2021-09-12 10:46:55,858 INFO Request is queued\n"
     ]
    },
    {
     "name": "stdout",
     "output_type": "stream",
     "text": [
      "1974\n",
      "month =  05\n"
     ]
    },
    {
     "name": "stderr",
     "output_type": "stream",
     "text": [
      "2021-09-12 10:46:56,936 INFO Request is running\n",
      "2021-09-12 10:51:14,628 INFO Request is completed\n",
      "2021-09-12 10:51:14,629 INFO Downloading https://download-0000.copernicus-climate.eu/cache-compute-0000/cache/data6/adaptor.mars.internal-1631458124.3544881-22580-18-a9565b87-3564-48ef-8e26-90651c505d72.nc to /data/artemis/observations/ERA5/Winds_1974-05.nc (2.9G)\n",
      "2021-09-12 11:00:03,201 INFO Download rate 5.6M/s    \n",
      "2021-09-12 11:00:03,569 INFO Welcome to the CDS\n",
      "2021-09-12 11:00:03,569 INFO Sending request to https://cds.climate.copernicus.eu/api/v2/resources/reanalysis-era5-single-levels-preliminary-back-extension\n",
      "2021-09-12 11:00:03,649 INFO Request is queued\n"
     ]
    },
    {
     "name": "stdout",
     "output_type": "stream",
     "text": [
      "1974\n",
      "month =  06\n"
     ]
    },
    {
     "name": "stderr",
     "output_type": "stream",
     "text": [
      "2021-09-12 11:00:04,731 INFO Request is running\n",
      "2021-09-12 11:02:55,649 INFO Request is completed\n",
      "2021-09-12 11:02:55,651 INFO Downloading https://download-0003.copernicus-climate.eu/cache-compute-0003/cache/data7/adaptor.mars.internal-1631458901.2768896-7911-11-14d92477-24f5-46f8-8b4b-004024195c00.nc to /data/artemis/observations/ERA5/Winds_1974-06.nc (2.8G)\n",
      "2021-09-12 11:09:21,048 INFO Download rate 7.4M/s    \n",
      "2021-09-12 11:09:21,419 INFO Welcome to the CDS\n",
      "2021-09-12 11:09:21,420 INFO Sending request to https://cds.climate.copernicus.eu/api/v2/resources/reanalysis-era5-single-levels-preliminary-back-extension\n",
      "2021-09-12 11:09:21,499 INFO Request is queued\n"
     ]
    },
    {
     "name": "stdout",
     "output_type": "stream",
     "text": [
      "1974\n",
      "month =  07\n"
     ]
    },
    {
     "name": "stderr",
     "output_type": "stream",
     "text": [
      "2021-09-12 11:09:22,574 INFO Request is running\n",
      "2021-09-12 11:13:40,307 INFO Request is completed\n",
      "2021-09-12 11:13:40,309 INFO Downloading https://download-0014.copernicus-climate.eu/cache-compute-0014/cache/data0/adaptor.mars.internal-1631459464.860069-4696-15-0046b8d0-f08f-4fe2-a331-50e46fd3cb36.nc to /data/artemis/observations/ERA5/Winds_1974-07.nc (2.9G)\n",
      "2021-09-12 11:19:21,961 INFO Download rate 8.6M/s    \n",
      "2021-09-12 11:19:22,331 INFO Welcome to the CDS\n",
      "2021-09-12 11:19:22,331 INFO Sending request to https://cds.climate.copernicus.eu/api/v2/resources/reanalysis-era5-single-levels-preliminary-back-extension\n",
      "2021-09-12 11:19:22,410 INFO Request is queued\n"
     ]
    },
    {
     "name": "stdout",
     "output_type": "stream",
     "text": [
      "1974\n",
      "month =  08\n"
     ]
    },
    {
     "name": "stderr",
     "output_type": "stream",
     "text": [
      "2021-09-12 11:19:23,486 INFO Request is running\n",
      "2021-09-12 11:23:41,280 INFO Request is completed\n",
      "2021-09-12 11:23:41,281 INFO Downloading https://download-0002.copernicus-climate.eu/cache-compute-0002/cache/data2/adaptor.mars.internal-1631460067.668549-17837-20-0f47e2f0-8fa3-4e4d-b6f0-e6877585786c.nc to /data/artemis/observations/ERA5/Winds_1974-08.nc (2.9G)\n",
      "2021-09-12 11:29:04,146 INFO Download rate 9.1M/s    \n",
      "2021-09-12 11:29:04,515 INFO Welcome to the CDS\n",
      "2021-09-12 11:29:04,515 INFO Sending request to https://cds.climate.copernicus.eu/api/v2/resources/reanalysis-era5-single-levels-preliminary-back-extension\n",
      "2021-09-12 11:29:04,596 INFO Request is queued\n"
     ]
    },
    {
     "name": "stdout",
     "output_type": "stream",
     "text": [
      "1974\n",
      "month =  09\n"
     ]
    },
    {
     "name": "stderr",
     "output_type": "stream",
     "text": [
      "2021-09-12 11:29:05,676 INFO Request is running\n",
      "2021-09-12 11:31:56,520 INFO Request is completed\n",
      "2021-09-12 11:31:56,521 INFO Downloading https://download-0004.copernicus-climate.eu/cache-compute-0004/cache/data9/adaptor.mars.internal-1631460642.1505172-10428-18-059d40e3-d405-4420-89fc-c70d5b2e2c66.nc to /data/artemis/observations/ERA5/Winds_1974-09.nc (2.8G)\n",
      "2021-09-12 11:37:29,925 INFO Download rate 8.6M/s    \n",
      "2021-09-12 11:37:30,299 INFO Welcome to the CDS\n",
      "2021-09-12 11:37:30,300 INFO Sending request to https://cds.climate.copernicus.eu/api/v2/resources/reanalysis-era5-single-levels-preliminary-back-extension\n",
      "2021-09-12 11:37:30,378 INFO Request is queued\n"
     ]
    },
    {
     "name": "stdout",
     "output_type": "stream",
     "text": [
      "1974\n",
      "month =  10\n"
     ]
    },
    {
     "name": "stderr",
     "output_type": "stream",
     "text": [
      "2021-09-12 11:37:31,457 INFO Request is running\n",
      "2021-09-12 11:41:49,183 INFO Request is completed\n",
      "2021-09-12 11:41:49,184 INFO Downloading https://download-0007.copernicus-climate.eu/cache-compute-0007/cache/data5/adaptor.mars.internal-1631461161.2794642-15539-10-f4e3a11a-d120-4080-8ccc-dae0633cb743.nc to /data/artemis/observations/ERA5/Winds_1974-10.nc (2.9G)\n",
      "2021-09-12 11:50:00,783 INFO Download rate 6M/s      \n",
      "2021-09-12 11:50:01,152 INFO Welcome to the CDS\n",
      "2021-09-12 11:50:01,153 INFO Sending request to https://cds.climate.copernicus.eu/api/v2/resources/reanalysis-era5-single-levels-preliminary-back-extension\n",
      "2021-09-12 11:50:01,234 INFO Request is queued\n"
     ]
    },
    {
     "name": "stdout",
     "output_type": "stream",
     "text": [
      "1974\n",
      "month =  11\n"
     ]
    },
    {
     "name": "stderr",
     "output_type": "stream",
     "text": [
      "2021-09-12 11:50:02,311 INFO Request is running\n",
      "2021-09-12 11:54:20,010 INFO Request is completed\n",
      "2021-09-12 11:54:20,011 INFO Downloading https://download-0003.copernicus-climate.eu/cache-compute-0003/cache/data6/adaptor.mars.internal-1631461900.25785-1969-12-ddd47d10-501f-4712-a088-75fc2ab83957.nc to /data/artemis/observations/ERA5/Winds_1974-11.nc (2.8G)\n",
      "2021-09-12 12:01:39,930 INFO Download rate 6.5M/s    \n",
      "2021-09-12 12:01:40,299 INFO Welcome to the CDS\n",
      "2021-09-12 12:01:40,300 INFO Sending request to https://cds.climate.copernicus.eu/api/v2/resources/reanalysis-era5-single-levels-preliminary-back-extension\n",
      "2021-09-12 12:01:40,379 INFO Request is queued\n"
     ]
    },
    {
     "name": "stdout",
     "output_type": "stream",
     "text": [
      "1974\n",
      "month =  12\n"
     ]
    },
    {
     "name": "stderr",
     "output_type": "stream",
     "text": [
      "2021-09-12 12:01:41,457 INFO Request is running\n",
      "2021-09-12 12:04:32,331 INFO Request is completed\n",
      "2021-09-12 12:04:32,332 INFO Downloading https://download-0006.copernicus-climate.eu/cache-compute-0006/cache/data5/adaptor.mars.internal-1631462600.345072-5216-7-865530d3-deea-41f1-b50e-f3e12becba66.nc to /data/artemis/observations/ERA5/Winds_1974-12.nc (2.9G)\n",
      "2021-09-12 12:12:36,856 INFO Download rate 6.1M/s    \n",
      "2021-09-12 12:12:37,225 INFO Welcome to the CDS\n",
      "2021-09-12 12:12:37,226 INFO Sending request to https://cds.climate.copernicus.eu/api/v2/resources/reanalysis-era5-single-levels-preliminary-back-extension\n",
      "2021-09-12 12:12:37,306 INFO Request is queued\n"
     ]
    },
    {
     "name": "stdout",
     "output_type": "stream",
     "text": [
      "1975\n",
      "month =  01\n"
     ]
    },
    {
     "name": "stderr",
     "output_type": "stream",
     "text": [
      "2021-09-12 12:12:38,387 INFO Request is running\n",
      "2021-09-12 12:15:29,274 INFO Request is completed\n",
      "2021-09-12 12:15:29,275 INFO Downloading https://download-0006.copernicus-climate.eu/cache-compute-0006/cache/data8/adaptor.mars.internal-1631463262.005788-10415-3-816508fa-a8f9-498f-8c02-7858ba27e21e.nc to /data/artemis/observations/ERA5/Winds_1975-01.nc (2.9G)\n",
      "2021-09-12 12:24:13,079 INFO Download rate 5.6M/s    \n",
      "2021-09-12 12:24:13,446 INFO Welcome to the CDS\n",
      "2021-09-12 12:24:13,447 INFO Sending request to https://cds.climate.copernicus.eu/api/v2/resources/reanalysis-era5-single-levels-preliminary-back-extension\n",
      "2021-09-12 12:24:13,525 INFO Request is queued\n"
     ]
    },
    {
     "name": "stdout",
     "output_type": "stream",
     "text": [
      "1975\n",
      "month =  02\n"
     ]
    },
    {
     "name": "stderr",
     "output_type": "stream",
     "text": [
      "2021-09-12 12:24:14,602 INFO Request is running\n",
      "2021-09-12 12:28:32,308 INFO Request is completed\n",
      "2021-09-12 12:28:32,309 INFO Downloading https://download-0010.copernicus-climate.eu/cache-compute-0010/cache/data5/adaptor.mars.internal-1631463949.5031238-26096-13-1e8254fc-c72b-428c-8b48-eea097426d0b.nc to /data/artemis/observations/ERA5/Winds_1975-02.nc (2.6G)\n",
      "2021-09-12 12:37:17,130 INFO Download rate 5.1M/s    \n",
      "2021-09-12 12:37:17,503 INFO Welcome to the CDS\n",
      "2021-09-12 12:37:17,503 INFO Sending request to https://cds.climate.copernicus.eu/api/v2/resources/reanalysis-era5-single-levels-preliminary-back-extension\n",
      "2021-09-12 12:37:17,583 INFO Request is queued\n"
     ]
    },
    {
     "name": "stdout",
     "output_type": "stream",
     "text": [
      "1975\n",
      "month =  03\n"
     ]
    },
    {
     "name": "stderr",
     "output_type": "stream",
     "text": [
      "2021-09-12 12:37:18,661 INFO Request is running\n",
      "2021-09-12 12:41:36,392 INFO Request is completed\n",
      "2021-09-12 12:41:36,393 INFO Downloading https://download-0014.copernicus-climate.eu/cache-compute-0014/cache/data0/adaptor.mars.internal-1631464740.7584584-18379-18-bd8553fe-0934-470e-a55f-c72ad84948b4.nc to /data/artemis/observations/ERA5/Winds_1975-03.nc (2.9G)\n",
      "2021-09-12 12:55:25,869 INFO Download rate 3.6M/s    \n",
      "2021-09-12 12:55:26,239 INFO Welcome to the CDS\n",
      "2021-09-12 12:55:26,240 INFO Sending request to https://cds.climate.copernicus.eu/api/v2/resources/reanalysis-era5-single-levels-preliminary-back-extension\n",
      "2021-09-12 12:55:26,320 INFO Request is queued\n"
     ]
    },
    {
     "name": "stdout",
     "output_type": "stream",
     "text": [
      "1975\n",
      "month =  04\n"
     ]
    },
    {
     "name": "stderr",
     "output_type": "stream",
     "text": [
      "2021-09-12 12:55:27,398 INFO Request is running\n",
      "2021-09-12 12:59:45,149 INFO Request is completed\n",
      "2021-09-12 12:59:45,150 INFO Downloading https://download-0008.copernicus-climate.eu/cache-compute-0008/cache/data3/adaptor.mars.internal-1631465831.4264898-26469-17-af57896c-2ec3-4db1-8509-af623f8e3206.nc to /data/artemis/observations/ERA5/Winds_1975-04.nc (2.8G)\n",
      "2021-09-12 13:07:38,572 INFO Download rate 6M/s      \n",
      "2021-09-12 13:07:38,940 INFO Welcome to the CDS\n",
      "2021-09-12 13:07:38,941 INFO Sending request to https://cds.climate.copernicus.eu/api/v2/resources/reanalysis-era5-single-levels-preliminary-back-extension\n",
      "2021-09-12 13:07:39,021 INFO Request is queued\n"
     ]
    },
    {
     "name": "stdout",
     "output_type": "stream",
     "text": [
      "1975\n",
      "month =  05\n"
     ]
    },
    {
     "name": "stderr",
     "output_type": "stream",
     "text": [
      "2021-09-12 13:07:40,096 INFO Request is running\n",
      "2021-09-12 13:11:57,841 INFO Request is completed\n",
      "2021-09-12 13:11:57,842 INFO Downloading https://download-0003.copernicus-climate.eu/cache-compute-0003/cache/data7/adaptor.mars.internal-1631466566.4112403-14251-10-d6868e67-c7f5-4814-9303-674a724f06b2.nc to /data/artemis/observations/ERA5/Winds_1975-05.nc (2.9G)\n",
      "2021-09-12 13:19:17,672 INFO Download rate 6.7M/s    \n",
      "2021-09-12 13:19:18,038 INFO Welcome to the CDS\n",
      "2021-09-12 13:19:18,039 INFO Sending request to https://cds.climate.copernicus.eu/api/v2/resources/reanalysis-era5-single-levels-preliminary-back-extension\n",
      "2021-09-12 13:19:18,118 INFO Request is queued\n"
     ]
    },
    {
     "name": "stdout",
     "output_type": "stream",
     "text": [
      "1975\n",
      "month =  06\n"
     ]
    },
    {
     "name": "stderr",
     "output_type": "stream",
     "text": [
      "2021-09-12 13:19:19,194 INFO Request is running\n",
      "2021-09-12 13:23:36,888 INFO Request is completed\n",
      "2021-09-12 13:23:36,889 INFO Downloading https://download-0004.copernicus-climate.eu/cache-compute-0004/cache/data4/adaptor.mars.internal-1631467255.936043-9308-13-faac4a39-c8f5-490c-9bf6-71a1eaf1731b.nc to /data/artemis/observations/ERA5/Winds_1975-06.nc (2.8G)\n",
      "2021-09-12 13:36:03,089 INFO Download rate 3.8M/s    \n",
      "2021-09-12 13:36:03,458 INFO Welcome to the CDS\n",
      "2021-09-12 13:36:03,458 INFO Sending request to https://cds.climate.copernicus.eu/api/v2/resources/reanalysis-era5-single-levels-preliminary-back-extension\n",
      "2021-09-12 13:36:03,538 INFO Request is queued\n"
     ]
    },
    {
     "name": "stdout",
     "output_type": "stream",
     "text": [
      "1975\n",
      "month =  07\n"
     ]
    },
    {
     "name": "stderr",
     "output_type": "stream",
     "text": [
      "2021-09-12 13:36:04,615 INFO Request is running\n",
      "2021-09-12 13:38:55,522 INFO Request is completed\n",
      "2021-09-12 13:38:55,523 INFO Downloading https://download-0003.copernicus-climate.eu/cache-compute-0003/cache/data2/adaptor.mars.internal-1631468266.453361-32558-4-61c87dd6-431e-41db-b3a0-ac59a2d01e5c.nc to /data/artemis/observations/ERA5/Winds_1975-07.nc (2.9G)\n",
      "2021-09-12 13:47:30,908 INFO Download rate 5.7M/s    \n",
      "2021-09-12 13:47:31,277 INFO Welcome to the CDS\n",
      "2021-09-12 13:47:31,278 INFO Sending request to https://cds.climate.copernicus.eu/api/v2/resources/reanalysis-era5-single-levels-preliminary-back-extension\n",
      "2021-09-12 13:47:31,356 INFO Request is queued\n"
     ]
    },
    {
     "name": "stdout",
     "output_type": "stream",
     "text": [
      "1975\n",
      "month =  08\n"
     ]
    },
    {
     "name": "stderr",
     "output_type": "stream",
     "text": [
      "2021-09-12 13:47:32,432 INFO Request is running\n",
      "2021-09-12 13:51:50,226 INFO Request is completed\n",
      "2021-09-12 13:51:50,228 INFO Downloading https://download-0007.copernicus-climate.eu/cache-compute-0007/cache/data7/adaptor.mars.internal-1631468968.5083804-22140-15-4ee505e0-196b-406e-8418-d58281812583.nc to /data/artemis/observations/ERA5/Winds_1975-08.nc (2.9G)\n",
      "2021-09-12 14:03:22,784 INFO Download rate 4.3M/s    \n",
      "2021-09-12 14:03:23,155 INFO Welcome to the CDS\n",
      "2021-09-12 14:03:23,155 INFO Sending request to https://cds.climate.copernicus.eu/api/v2/resources/reanalysis-era5-single-levels-preliminary-back-extension\n",
      "2021-09-12 14:03:23,238 INFO Request is queued\n"
     ]
    },
    {
     "name": "stdout",
     "output_type": "stream",
     "text": [
      "1975\n",
      "month =  09\n"
     ]
    },
    {
     "name": "stderr",
     "output_type": "stream",
     "text": [
      "2021-09-12 14:03:24,317 INFO Request is running\n",
      "2021-09-12 14:07:42,071 INFO Request is completed\n",
      "2021-09-12 14:07:42,072 INFO Downloading https://download-0010.copernicus-climate.eu/cache-compute-0010/cache/data1/adaptor.mars.internal-1631469908.196747-12665-4-df26e319-9e65-41e6-add1-440791de853c.nc to /data/artemis/observations/ERA5/Winds_1975-09.nc (2.8G)\n",
      "2021-09-12 14:16:39,806 INFO Download rate 5.3M/s    \n",
      "2021-09-12 14:16:40,175 INFO Welcome to the CDS\n",
      "2021-09-12 14:16:40,176 INFO Sending request to https://cds.climate.copernicus.eu/api/v2/resources/reanalysis-era5-single-levels-preliminary-back-extension\n",
      "2021-09-12 14:16:40,254 INFO Request is queued\n"
     ]
    },
    {
     "name": "stdout",
     "output_type": "stream",
     "text": [
      "1975\n",
      "month =  10\n"
     ]
    },
    {
     "name": "stderr",
     "output_type": "stream",
     "text": [
      "2021-09-12 14:16:41,330 INFO Request is running\n",
      "2021-09-12 14:20:59,107 INFO Request is completed\n",
      "2021-09-12 14:20:59,108 INFO Downloading https://download-0015.copernicus-climate.eu/cache-compute-0015/cache/data3/adaptor.mars.internal-1631470703.1932461-7796-1-bcfd581c-8b87-4a53-ba6f-fb344057af47.nc to /data/artemis/observations/ERA5/Winds_1975-10.nc (2.9G)\n",
      "2021-09-12 14:30:31,754 INFO Download rate 5.1M/s    \n",
      "2021-09-12 14:30:32,121 INFO Welcome to the CDS\n",
      "2021-09-12 14:30:32,122 INFO Sending request to https://cds.climate.copernicus.eu/api/v2/resources/reanalysis-era5-single-levels-preliminary-back-extension\n",
      "2021-09-12 14:30:32,200 INFO Request is queued\n"
     ]
    },
    {
     "name": "stdout",
     "output_type": "stream",
     "text": [
      "1975\n",
      "month =  11\n"
     ]
    },
    {
     "name": "stderr",
     "output_type": "stream",
     "text": [
      "2021-09-12 14:30:33,277 INFO Request is running\n",
      "2021-09-12 14:33:24,163 INFO Request is completed\n",
      "2021-09-12 14:33:24,164 INFO Downloading https://download-0000.copernicus-climate.eu/cache-compute-0000/cache/data4/adaptor.mars.internal-1631471530.9916127-22517-1-27db219c-1568-45f2-9e58-dab3aa8efd54.nc to /data/artemis/observations/ERA5/Winds_1975-11.nc (2.8G)\n",
      "2021-09-12 14:42:08,437 INFO Download rate 5.4M/s    \n",
      "2021-09-12 14:42:08,813 INFO Welcome to the CDS\n",
      "2021-09-12 14:42:08,813 INFO Sending request to https://cds.climate.copernicus.eu/api/v2/resources/reanalysis-era5-single-levels-preliminary-back-extension\n",
      "2021-09-12 14:42:08,893 INFO Request is queued\n"
     ]
    },
    {
     "name": "stdout",
     "output_type": "stream",
     "text": [
      "1975\n",
      "month =  12\n"
     ]
    },
    {
     "name": "stderr",
     "output_type": "stream",
     "text": [
      "2021-09-12 14:42:09,970 INFO Request is running\n",
      "2021-09-12 14:45:00,840 INFO Request is completed\n",
      "2021-09-12 14:45:00,841 INFO Downloading https://download-0014.copernicus-climate.eu/cache-compute-0014/cache/data8/adaptor.mars.internal-1631472232.17365-17981-14-9a77f59b-1722-44db-adbe-150a569401f4.nc to /data/artemis/observations/ERA5/Winds_1975-12.nc (2.9G)\n",
      "2021-09-12 14:54:07,405 INFO Download rate 5.4M/s    \n",
      "2021-09-12 14:54:07,774 INFO Welcome to the CDS\n",
      "2021-09-12 14:54:07,774 INFO Sending request to https://cds.climate.copernicus.eu/api/v2/resources/reanalysis-era5-single-levels-preliminary-back-extension\n",
      "2021-09-12 14:54:07,854 INFO Request is queued\n"
     ]
    },
    {
     "name": "stdout",
     "output_type": "stream",
     "text": [
      "1976\n",
      "month =  01\n"
     ]
    },
    {
     "name": "stderr",
     "output_type": "stream",
     "text": [
      "2021-09-12 14:54:08,930 INFO Request is running\n",
      "2021-09-12 14:56:59,816 INFO Request is completed\n",
      "2021-09-12 14:56:59,817 INFO Downloading https://download-0015.copernicus-climate.eu/cache-compute-0015/cache/data3/adaptor.mars.internal-1631472942.9855003-25025-7-b044c82e-9277-4bfd-afd1-e684f5830119.nc to /data/artemis/observations/ERA5/Winds_1976-01.nc (2.9G)\n",
      "2021-09-12 15:06:52,877 INFO Download rate 5M/s      \n",
      "2021-09-12 15:06:53,245 INFO Welcome to the CDS\n",
      "2021-09-12 15:06:53,246 INFO Sending request to https://cds.climate.copernicus.eu/api/v2/resources/reanalysis-era5-single-levels-preliminary-back-extension\n",
      "2021-09-12 15:06:53,328 INFO Request is queued\n"
     ]
    },
    {
     "name": "stdout",
     "output_type": "stream",
     "text": [
      "1976\n",
      "month =  02\n"
     ]
    },
    {
     "name": "stderr",
     "output_type": "stream",
     "text": [
      "2021-09-12 15:06:54,404 INFO Request is running\n",
      "2021-09-12 15:09:45,266 INFO Request is completed\n",
      "2021-09-12 15:09:45,267 INFO Downloading https://download-0006.copernicus-climate.eu/cache-compute-0006/cache/data5/adaptor.mars.internal-1631473704.0180974-7266-6-4baf030f-72c6-4798-b924-05cc87c5b411.nc to /data/artemis/observations/ERA5/Winds_1976-02.nc (2.7G)\n",
      "2021-09-12 15:17:57,709 INFO Download rate 5.6M/s    \n",
      "2021-09-12 15:17:58,078 INFO Welcome to the CDS\n",
      "2021-09-12 15:17:58,079 INFO Sending request to https://cds.climate.copernicus.eu/api/v2/resources/reanalysis-era5-single-levels-preliminary-back-extension\n",
      "2021-09-12 15:17:58,162 INFO Request is queued\n"
     ]
    },
    {
     "name": "stdout",
     "output_type": "stream",
     "text": [
      "1976\n",
      "month =  03\n"
     ]
    },
    {
     "name": "stderr",
     "output_type": "stream",
     "text": [
      "2021-09-12 15:17:59,236 INFO Request is running\n",
      "2021-09-12 15:20:50,133 INFO Request is completed\n",
      "2021-09-12 15:20:50,134 INFO Downloading https://download-0006.copernicus-climate.eu/cache-compute-0006/cache/data2/adaptor.mars.internal-1631474372.956083-10965-12-3172eaed-0b65-4d32-9486-3739e3a19280.nc to /data/artemis/observations/ERA5/Winds_1976-03.nc (2.9G)\n",
      "2021-09-12 15:31:28,564 INFO Download rate 4.6M/s    \n",
      "2021-09-12 15:31:28,936 INFO Welcome to the CDS\n",
      "2021-09-12 15:31:28,937 INFO Sending request to https://cds.climate.copernicus.eu/api/v2/resources/reanalysis-era5-single-levels-preliminary-back-extension\n",
      "2021-09-12 15:31:29,017 INFO Request is queued\n"
     ]
    },
    {
     "name": "stdout",
     "output_type": "stream",
     "text": [
      "1976\n",
      "month =  04\n"
     ]
    },
    {
     "name": "stderr",
     "output_type": "stream",
     "text": [
      "2021-09-12 15:31:30,095 INFO Request is running\n",
      "2021-09-12 15:34:21,011 INFO Request is completed\n",
      "2021-09-12 15:34:21,012 INFO Downloading https://download-0010.copernicus-climate.eu/cache-compute-0010/cache/data8/adaptor.mars.internal-1631475185.0260499-27581-17-27b9c909-2ed4-4f67-af3f-12f2ea93e508.nc to /data/artemis/observations/ERA5/Winds_1976-04.nc (2.8G)\n",
      "2021-09-12 15:55:17,466 INFO Download rate 2.3M/s    \n",
      "2021-09-12 15:55:17,839 INFO Welcome to the CDS\n",
      "2021-09-12 15:55:17,840 INFO Sending request to https://cds.climate.copernicus.eu/api/v2/resources/reanalysis-era5-single-levels-preliminary-back-extension\n",
      "2021-09-12 15:55:17,918 INFO Request is queued\n"
     ]
    },
    {
     "name": "stdout",
     "output_type": "stream",
     "text": [
      "1976\n",
      "month =  05\n"
     ]
    },
    {
     "name": "stderr",
     "output_type": "stream",
     "text": [
      "2021-09-12 15:55:18,995 INFO Request is running\n",
      "2021-09-12 15:58:09,891 INFO Request is completed\n",
      "2021-09-12 15:58:09,892 INFO Downloading https://download-0011.copernicus-climate.eu/cache-compute-0011/cache/data1/adaptor.mars.internal-1631476609.1290247-19215-7-b8911791-d190-4d84-a50a-c0b4f9cab27e.nc to /data/artemis/observations/ERA5/Winds_1976-05.nc (2.9G)\n",
      "2021-09-12 16:16:29,929 INFO Download rate 2.7M/s    \n",
      "2021-09-12 16:16:30,299 INFO Welcome to the CDS\n",
      "2021-09-12 16:16:30,300 INFO Sending request to https://cds.climate.copernicus.eu/api/v2/resources/reanalysis-era5-single-levels-preliminary-back-extension\n",
      "2021-09-12 16:16:30,382 INFO Request is queued\n"
     ]
    },
    {
     "name": "stdout",
     "output_type": "stream",
     "text": [
      "1976\n",
      "month =  06\n"
     ]
    },
    {
     "name": "stderr",
     "output_type": "stream",
     "text": [
      "2021-09-12 16:16:31,460 INFO Request is running\n",
      "2021-09-12 16:19:22,354 INFO Request is completed\n",
      "2021-09-12 16:19:22,355 INFO Downloading https://download-0003.copernicus-climate.eu/cache-compute-0003/cache/data8/adaptor.mars.internal-1631477884.8637004-26813-14-089d1ef6-57a0-4daa-bd02-6c2977b7d5e0.nc to /data/artemis/observations/ERA5/Winds_1976-06.nc (2.8G)\n",
      "2021-09-12 16:42:49,301 INFO Download rate 2M/s      \n",
      "2021-09-12 16:42:49,668 INFO Welcome to the CDS\n",
      "2021-09-12 16:42:49,669 INFO Sending request to https://cds.climate.copernicus.eu/api/v2/resources/reanalysis-era5-single-levels-preliminary-back-extension\n",
      "2021-09-12 16:42:49,776 INFO Request is queued\n"
     ]
    },
    {
     "name": "stdout",
     "output_type": "stream",
     "text": [
      "1976\n",
      "month =  07\n"
     ]
    },
    {
     "name": "stderr",
     "output_type": "stream",
     "text": [
      "2021-09-12 16:42:50,852 INFO Request is running\n",
      "2021-09-12 16:45:41,746 INFO Request is completed\n",
      "2021-09-12 16:45:41,748 INFO Downloading https://download-0004.copernicus-climate.eu/cache-compute-0004/cache/data9/adaptor.mars.internal-1631479466.0787783-23953-9-c0c0bb0a-39b8-4570-a42d-4014379dafcf.nc to /data/artemis/observations/ERA5/Winds_1976-07.nc (2.9G)\n",
      "2021-09-12 17:02:25,785 INFO Download rate 2.9M/s    \n",
      "2021-09-12 17:02:26,162 INFO Welcome to the CDS\n",
      "2021-09-12 17:02:26,163 INFO Sending request to https://cds.climate.copernicus.eu/api/v2/resources/reanalysis-era5-single-levels-preliminary-back-extension\n"
     ]
    },
    {
     "name": "stdout",
     "output_type": "stream",
     "text": [
      "1976\n",
      "month =  08\n"
     ]
    },
    {
     "name": "stderr",
     "output_type": "stream",
     "text": [
      "2021-09-12 17:02:26,518 INFO Request is queued\n",
      "2021-09-12 17:02:27,595 INFO Request is running\n",
      "2021-09-12 17:05:18,472 INFO Request is completed\n",
      "2021-09-12 17:05:18,473 INFO Downloading https://download-0006.copernicus-climate.eu/cache-compute-0006/cache/data0/adaptor.mars.internal-1631480638.864143-4318-11-6bf32ce8-4716-41f1-a9be-bf2816efe99f.nc to /data/artemis/observations/ERA5/Winds_1976-08.nc (2.9G)\n",
      "2021-09-12 17:20:01,369 INFO Download rate 3.3M/s    \n",
      "2021-09-12 17:20:01,740 INFO Welcome to the CDS\n",
      "2021-09-12 17:20:01,741 INFO Sending request to https://cds.climate.copernicus.eu/api/v2/resources/reanalysis-era5-single-levels-preliminary-back-extension\n"
     ]
    },
    {
     "name": "stdout",
     "output_type": "stream",
     "text": [
      "1976\n",
      "month =  09\n"
     ]
    },
    {
     "name": "stderr",
     "output_type": "stream",
     "text": [
      "2021-09-12 17:20:01,875 INFO Request is queued\n",
      "2021-09-12 17:20:02,952 INFO Request is running\n",
      "2021-09-12 17:22:54,028 INFO Request is completed\n",
      "2021-09-12 17:22:54,029 INFO Downloading https://download-0010.copernicus-climate.eu/cache-compute-0010/cache/data5/adaptor.mars.internal-1631481700.4921432-25088-9-ca1d720d-7fd0-43e8-8315-a877224d7c36.nc to /data/artemis/observations/ERA5/Winds_1976-09.nc (2.8G)\n",
      "2021-09-12 17:32:54,605 INFO Download rate 4.7M/s    \n",
      "2021-09-12 17:32:54,972 INFO Welcome to the CDS\n",
      "2021-09-12 17:32:54,973 INFO Sending request to https://cds.climate.copernicus.eu/api/v2/resources/reanalysis-era5-single-levels-preliminary-back-extension\n",
      "2021-09-12 17:32:55,053 INFO Request is queued\n"
     ]
    },
    {
     "name": "stdout",
     "output_type": "stream",
     "text": [
      "1976\n",
      "month =  10\n"
     ]
    },
    {
     "name": "stderr",
     "output_type": "stream",
     "text": [
      "2021-09-12 17:32:56,129 INFO Request is running\n",
      "2021-09-12 17:37:13,904 INFO Request is completed\n",
      "2021-09-12 17:37:13,905 INFO Downloading https://download-0012.copernicus-climate.eu/cache-compute-0012/cache/data5/adaptor.mars.internal-1631482477.2685823-9738-14-4d52663d-0cc5-4ce8-abe6-4dccb2e709f4.nc to /data/artemis/observations/ERA5/Winds_1976-10.nc (2.9G)\n",
      "2021-09-12 17:48:01,933 INFO Download rate 4.5M/s    \n",
      "2021-09-12 17:48:02,301 INFO Welcome to the CDS\n",
      "2021-09-12 17:48:02,302 INFO Sending request to https://cds.climate.copernicus.eu/api/v2/resources/reanalysis-era5-single-levels-preliminary-back-extension\n",
      "2021-09-12 17:48:02,382 INFO Request is queued\n"
     ]
    },
    {
     "name": "stdout",
     "output_type": "stream",
     "text": [
      "1976\n",
      "month =  11\n"
     ]
    },
    {
     "name": "stderr",
     "output_type": "stream",
     "text": [
      "2021-09-12 17:48:03,457 INFO Request is running\n",
      "2021-09-12 17:50:54,352 INFO Request is completed\n",
      "2021-09-12 17:50:54,353 INFO Downloading https://download-0006.copernicus-climate.eu/cache-compute-0006/cache/data3/adaptor.mars.internal-1631483380.0903394-11604-19-06ec11b8-9393-42dc-8a3d-b2df06c6f0c3.nc to /data/artemis/observations/ERA5/Winds_1976-11.nc (2.8G)\n",
      "2021-09-12 18:01:24,121 INFO Download rate 4.5M/s    \n",
      "2021-09-12 18:01:24,492 INFO Welcome to the CDS\n",
      "2021-09-12 18:01:24,492 INFO Sending request to https://cds.climate.copernicus.eu/api/v2/resources/reanalysis-era5-single-levels-preliminary-back-extension\n",
      "2021-09-12 18:01:24,572 INFO Request is queued\n"
     ]
    },
    {
     "name": "stdout",
     "output_type": "stream",
     "text": [
      "1976\n",
      "month =  12\n"
     ]
    },
    {
     "name": "stderr",
     "output_type": "stream",
     "text": [
      "2021-09-12 18:01:25,650 INFO Request is running\n",
      "2021-09-12 18:05:43,420 INFO Request is completed\n",
      "2021-09-12 18:05:43,422 INFO Downloading https://download-0009.copernicus-climate.eu/cache-compute-0009/cache/data9/adaptor.mars.internal-1631484178.813228-9478-9-0a68f568-76c9-4398-a48a-217eb6c137df.nc to /data/artemis/observations/ERA5/Winds_1976-12.nc (2.9G)\n",
      "2021-09-12 18:15:09,358 INFO Download rate 5.2M/s    \n",
      "2021-09-12 18:15:09,725 INFO Welcome to the CDS\n",
      "2021-09-12 18:15:09,725 INFO Sending request to https://cds.climate.copernicus.eu/api/v2/resources/reanalysis-era5-single-levels-preliminary-back-extension\n",
      "2021-09-12 18:15:09,809 INFO Request is queued\n"
     ]
    },
    {
     "name": "stdout",
     "output_type": "stream",
     "text": [
      "1977\n",
      "month =  01\n"
     ]
    },
    {
     "name": "stderr",
     "output_type": "stream",
     "text": [
      "2021-09-12 18:15:10,886 INFO Request is running\n",
      "2021-09-12 18:18:01,793 INFO Request is completed\n",
      "2021-09-12 18:18:01,794 INFO Downloading https://download-0004.copernicus-climate.eu/cache-compute-0004/cache/data4/adaptor.mars.internal-1631485002.7143762-6952-14-2dfda7af-b4c4-4fe0-8e27-e95aa521fd2a.nc to /data/artemis/observations/ERA5/Winds_1977-01.nc (2.9G)\n",
      "2021-09-12 18:26:20,126 INFO Download rate 5.9M/s    \n",
      "2021-09-12 18:26:20,496 INFO Welcome to the CDS\n",
      "2021-09-12 18:26:20,496 INFO Sending request to https://cds.climate.copernicus.eu/api/v2/resources/reanalysis-era5-single-levels-preliminary-back-extension\n",
      "2021-09-12 18:26:20,575 INFO Request is queued\n"
     ]
    },
    {
     "name": "stdout",
     "output_type": "stream",
     "text": [
      "1977\n",
      "month =  02\n"
     ]
    },
    {
     "name": "stderr",
     "output_type": "stream",
     "text": [
      "2021-09-12 18:26:21,652 INFO Request is running\n",
      "2021-09-12 18:29:12,533 INFO Request is completed\n",
      "2021-09-12 18:29:12,534 INFO Downloading https://download-0012.copernicus-climate.eu/cache-compute-0012/cache/data7/adaptor.mars.internal-1631485675.4086652-8201-9-3619e683-57a4-4021-8fc3-e5a30e70e47a.nc to /data/artemis/observations/ERA5/Winds_1977-02.nc (2.6G)\n",
      "2021-09-12 18:36:07,569 INFO Download rate 6.4M/s    \n",
      "2021-09-12 18:36:07,940 INFO Welcome to the CDS\n",
      "2021-09-12 18:36:07,941 INFO Sending request to https://cds.climate.copernicus.eu/api/v2/resources/reanalysis-era5-single-levels-preliminary-back-extension\n",
      "2021-09-12 18:36:08,020 INFO Request is queued\n"
     ]
    },
    {
     "name": "stdout",
     "output_type": "stream",
     "text": [
      "1977\n",
      "month =  03\n"
     ]
    },
    {
     "name": "stderr",
     "output_type": "stream",
     "text": [
      "2021-09-12 18:36:09,095 INFO Request is running\n",
      "2021-09-12 18:40:26,874 INFO Request is completed\n",
      "2021-09-12 18:40:26,875 INFO Downloading https://download-0009.copernicus-climate.eu/cache-compute-0009/cache/data2/adaptor.mars.internal-1631486269.5383437-26801-15-fe603dd9-73ee-498d-9a98-967da1dfa564.nc to /data/artemis/observations/ERA5/Winds_1977-03.nc (2.9G)\n",
      "2021-09-12 18:48:01,263 INFO Download rate 6.5M/s    \n",
      "2021-09-12 18:48:01,631 INFO Welcome to the CDS\n",
      "2021-09-12 18:48:01,631 INFO Sending request to https://cds.climate.copernicus.eu/api/v2/resources/reanalysis-era5-single-levels-preliminary-back-extension\n",
      "2021-09-12 18:48:01,710 INFO Request is queued\n"
     ]
    },
    {
     "name": "stdout",
     "output_type": "stream",
     "text": [
      "1977\n",
      "month =  04\n"
     ]
    },
    {
     "name": "stderr",
     "output_type": "stream",
     "text": [
      "2021-09-12 18:48:02,787 INFO Request is running\n",
      "2021-09-12 18:52:20,534 INFO Request is completed\n",
      "2021-09-12 18:52:20,535 INFO Downloading https://download-0013.copernicus-climate.eu/cache-compute-0013/cache/data5/adaptor.mars.internal-1631486977.3882666-13136-6-f66df4bb-95fa-4e40-8d4d-d427952acecc.nc to /data/artemis/observations/ERA5/Winds_1977-04.nc (2.8G)\n",
      "2021-09-12 18:59:08,071 INFO Download rate 7M/s      \n",
      "2021-09-12 18:59:08,441 INFO Welcome to the CDS\n",
      "2021-09-12 18:59:08,442 INFO Sending request to https://cds.climate.copernicus.eu/api/v2/resources/reanalysis-era5-single-levels-preliminary-back-extension\n",
      "2021-09-12 18:59:08,520 INFO Request is queued\n"
     ]
    },
    {
     "name": "stdout",
     "output_type": "stream",
     "text": [
      "1977\n",
      "month =  05\n"
     ]
    },
    {
     "name": "stderr",
     "output_type": "stream",
     "text": [
      "2021-09-12 18:59:09,595 INFO Request is running\n",
      "2021-09-12 19:03:27,306 INFO Request is completed\n",
      "2021-09-12 19:03:27,307 INFO Downloading https://download-0008.copernicus-climate.eu/cache-compute-0008/cache/data9/adaptor.mars.internal-1631487650.8127742-1126-5-f24a2bba-8fce-46e1-8de2-dd40cc42432c.nc to /data/artemis/observations/ERA5/Winds_1977-05.nc (2.9G)\n",
      "2021-09-12 19:10:58,767 INFO Download rate 6.5M/s    \n",
      "2021-09-12 19:10:59,140 INFO Welcome to the CDS\n",
      "2021-09-12 19:10:59,141 INFO Sending request to https://cds.climate.copernicus.eu/api/v2/resources/reanalysis-era5-single-levels-preliminary-back-extension\n",
      "2021-09-12 19:10:59,220 INFO Request is queued\n"
     ]
    },
    {
     "name": "stdout",
     "output_type": "stream",
     "text": [
      "1977\n",
      "month =  06\n"
     ]
    },
    {
     "name": "stderr",
     "output_type": "stream",
     "text": [
      "2021-09-12 19:11:00,299 INFO Request is running\n",
      "2021-09-12 19:15:18,009 INFO Request is completed\n",
      "2021-09-12 19:15:18,010 INFO Downloading https://download-0008.copernicus-climate.eu/cache-compute-0008/cache/data3/adaptor.mars.internal-1631488364.8125231-7138-6-ba19a2f8-abfb-446c-90bf-2eeded11fa92.nc to /data/artemis/observations/ERA5/Winds_1977-06.nc (2.8G)\n",
      "2021-09-12 19:21:05,601 INFO Download rate 8.2M/s    \n",
      "2021-09-12 19:21:05,971 INFO Welcome to the CDS\n",
      "2021-09-12 19:21:05,972 INFO Sending request to https://cds.climate.copernicus.eu/api/v2/resources/reanalysis-era5-single-levels-preliminary-back-extension\n",
      "2021-09-12 19:21:06,050 INFO Request is queued\n"
     ]
    },
    {
     "name": "stdout",
     "output_type": "stream",
     "text": [
      "1977\n",
      "month =  07\n"
     ]
    },
    {
     "name": "stderr",
     "output_type": "stream",
     "text": [
      "2021-09-12 19:21:07,127 INFO Request is running\n",
      "2021-09-12 19:23:58,049 INFO Request is completed\n",
      "2021-09-12 19:23:58,050 INFO Downloading https://download-0009.copernicus-climate.eu/cache-compute-0009/cache/data0/adaptor.mars.internal-1631488966.8783898-20382-5-1b3925d0-1c72-418e-a5e1-daa9fbf9d0df.nc to /data/artemis/observations/ERA5/Winds_1977-07.nc (2.9G)\n",
      "2021-09-12 19:31:33,533 INFO Download rate 6.5M/s    \n",
      "2021-09-12 19:31:33,899 INFO Welcome to the CDS\n",
      "2021-09-12 19:31:33,900 INFO Sending request to https://cds.climate.copernicus.eu/api/v2/resources/reanalysis-era5-single-levels-preliminary-back-extension\n",
      "2021-09-12 19:31:33,978 INFO Request is queued\n"
     ]
    },
    {
     "name": "stdout",
     "output_type": "stream",
     "text": [
      "1977\n",
      "month =  08\n"
     ]
    },
    {
     "name": "stderr",
     "output_type": "stream",
     "text": [
      "2021-09-12 19:31:35,054 INFO Request is running\n",
      "2021-09-12 19:35:52,833 INFO Request is completed\n",
      "2021-09-12 19:35:52,834 INFO Downloading https://download-0004.copernicus-climate.eu/cache-compute-0004/cache/data8/adaptor.mars.internal-1631489595.5540736-24099-7-1cb4d5ce-4186-4fc3-9cb6-073c014c484c.nc to /data/artemis/observations/ERA5/Winds_1977-08.nc (2.9G)\n",
      "2021-09-12 19:43:17,730 INFO Download rate 6.6M/s    \n",
      "2021-09-12 19:43:18,100 INFO Welcome to the CDS\n",
      "2021-09-12 19:43:18,101 INFO Sending request to https://cds.climate.copernicus.eu/api/v2/resources/reanalysis-era5-single-levels-preliminary-back-extension\n",
      "2021-09-12 19:43:18,182 INFO Request is queued\n"
     ]
    },
    {
     "name": "stdout",
     "output_type": "stream",
     "text": [
      "1977\n",
      "month =  09\n"
     ]
    },
    {
     "name": "stderr",
     "output_type": "stream",
     "text": [
      "2021-09-12 19:43:19,259 INFO Request is running\n",
      "2021-09-12 19:47:37,067 INFO Request is completed\n",
      "2021-09-12 19:47:37,068 INFO Downloading https://download-0015.copernicus-climate.eu/cache-compute-0015/cache/data5/adaptor.mars.internal-1631490286.402356-32564-5-54f38f28-0a5d-46bc-bc09-19c26336a8d3.nc to /data/artemis/observations/ERA5/Winds_1977-09.nc (2.8G)\n",
      "2021-09-12 19:55:35,704 INFO Download rate 6M/s      \n",
      "2021-09-12 19:55:36,071 INFO Welcome to the CDS\n",
      "2021-09-12 19:55:36,072 INFO Sending request to https://cds.climate.copernicus.eu/api/v2/resources/reanalysis-era5-single-levels-preliminary-back-extension\n",
      "2021-09-12 19:55:36,194 INFO Request is queued\n"
     ]
    },
    {
     "name": "stdout",
     "output_type": "stream",
     "text": [
      "1977\n",
      "month =  10\n"
     ]
    },
    {
     "name": "stderr",
     "output_type": "stream",
     "text": [
      "2021-09-12 19:55:37,270 INFO Request is running\n",
      "2021-09-12 19:58:28,161 INFO Request is completed\n",
      "2021-09-12 19:58:28,162 INFO Downloading https://download-0003.copernicus-climate.eu/cache-compute-0003/cache/data2/adaptor.mars.internal-1631491031.7260246-7139-9-d3a3fc53-edc0-4c11-87c3-dcc91f012eb0.nc to /data/artemis/observations/ERA5/Winds_1977-10.nc (2.9G)\n",
      "2021-09-12 20:08:07,909 INFO Download rate 5.1M/s    \n",
      "2021-09-12 20:08:08,280 INFO Welcome to the CDS\n",
      "2021-09-12 20:08:08,280 INFO Sending request to https://cds.climate.copernicus.eu/api/v2/resources/reanalysis-era5-single-levels-preliminary-back-extension\n",
      "2021-09-12 20:08:08,358 INFO Request is queued\n"
     ]
    },
    {
     "name": "stdout",
     "output_type": "stream",
     "text": [
      "1977\n",
      "month =  11\n"
     ]
    },
    {
     "name": "stderr",
     "output_type": "stream",
     "text": [
      "2021-09-12 20:08:09,435 INFO Request is running\n",
      "2021-09-12 20:11:00,329 INFO Request is completed\n",
      "2021-09-12 20:11:00,330 INFO Downloading https://download-0009.copernicus-climate.eu/cache-compute-0009/cache/data2/adaptor.mars.internal-1631491780.4478147-11389-15-ffc69024-df79-40f3-902f-fafc843a00dd.nc to /data/artemis/observations/ERA5/Winds_1977-11.nc (2.8G)\n",
      "2021-09-12 20:17:49,664 INFO Download rate 7M/s      \n",
      "2021-09-12 20:17:50,036 INFO Welcome to the CDS\n",
      "2021-09-12 20:17:50,037 INFO Sending request to https://cds.climate.copernicus.eu/api/v2/resources/reanalysis-era5-single-levels-preliminary-back-extension\n",
      "2021-09-12 20:17:50,116 INFO Request is queued\n"
     ]
    },
    {
     "name": "stdout",
     "output_type": "stream",
     "text": [
      "1977\n",
      "month =  12\n"
     ]
    },
    {
     "name": "stderr",
     "output_type": "stream",
     "text": [
      "2021-09-12 20:17:51,193 INFO Request is running\n",
      "2021-09-12 20:22:08,996 INFO Request is completed\n",
      "2021-09-12 20:22:08,996 INFO Downloading https://download-0008.copernicus-climate.eu/cache-compute-0008/cache/data2/adaptor.mars.internal-1631492370.9374242-13594-6-0e6beba5-3251-498d-83f6-3db6f2d22c8c.nc to /data/artemis/observations/ERA5/Winds_1977-12.nc (2.9G)\n",
      "2021-09-12 20:27:26,564 ERROR Download incomplete, downloaded 90809870 byte(s) out of 3089815192\n",
      "2021-09-12 20:27:26,564 WARNING Sleeping 10 seconds\n",
      "2021-09-12 20:27:36,573 WARNING Resuming download at byte 90809870\n",
      "2021-09-12 20:58:35,210 INFO Download rate 1.3M/s      \n",
      "2021-09-12 20:58:35,576 INFO Welcome to the CDS\n",
      "2021-09-12 20:58:35,577 INFO Sending request to https://cds.climate.copernicus.eu/api/v2/resources/reanalysis-era5-single-levels-preliminary-back-extension\n",
      "2021-09-12 20:58:35,659 INFO Request is queued\n"
     ]
    },
    {
     "name": "stdout",
     "output_type": "stream",
     "text": [
      "1978\n",
      "month =  01\n"
     ]
    },
    {
     "name": "stderr",
     "output_type": "stream",
     "text": [
      "2021-09-12 20:58:36,736 INFO Request is running\n",
      "2021-09-12 21:01:27,633 INFO Request is completed\n",
      "2021-09-12 21:01:27,634 INFO Downloading https://download-0006.copernicus-climate.eu/cache-compute-0006/cache/data7/adaptor.mars.internal-1631494817.7896066-7505-5-95a58cb6-121c-491c-a42f-ab376e14772b.nc to /data/artemis/observations/ERA5/Winds_1978-01.nc (2.9G)\n",
      "2021-09-12 21:11:13,966 INFO Download rate 5M/s      \n",
      "2021-09-12 21:11:14,334 INFO Welcome to the CDS\n",
      "2021-09-12 21:11:14,334 INFO Sending request to https://cds.climate.copernicus.eu/api/v2/resources/reanalysis-era5-single-levels-preliminary-back-extension\n",
      "2021-09-12 21:11:14,413 INFO Request is queued\n"
     ]
    },
    {
     "name": "stdout",
     "output_type": "stream",
     "text": [
      "1978\n",
      "month =  02\n"
     ]
    },
    {
     "name": "stderr",
     "output_type": "stream",
     "text": [
      "2021-09-12 21:11:15,489 INFO Request is running\n",
      "2021-09-12 21:14:06,326 INFO Request is completed\n",
      "2021-09-12 21:14:06,327 INFO Downloading https://download-0014.copernicus-climate.eu/cache-compute-0014/cache/data0/adaptor.mars.internal-1631495563.2743444-27316-15-40020d88-6953-4c7e-b706-b504584ab489.nc to /data/artemis/observations/ERA5/Winds_1978-02.nc (2.6G)\n",
      "2021-09-12 21:18:56,964 INFO Download rate 9.2M/s    \n",
      "2021-09-12 21:18:57,346 INFO Welcome to the CDS\n",
      "2021-09-12 21:18:57,347 INFO Sending request to https://cds.climate.copernicus.eu/api/v2/resources/reanalysis-era5-single-levels-preliminary-back-extension\n",
      "2021-09-12 21:18:57,425 INFO Request is queued\n"
     ]
    },
    {
     "name": "stdout",
     "output_type": "stream",
     "text": [
      "1978\n",
      "month =  03\n"
     ]
    },
    {
     "name": "stderr",
     "output_type": "stream",
     "text": [
      "2021-09-12 21:18:58,514 INFO Request is running\n",
      "2021-09-12 21:23:16,305 INFO Request is completed\n",
      "2021-09-12 21:23:16,306 INFO Downloading https://download-0006.copernicus-climate.eu/cache-compute-0006/cache/data0/adaptor.mars.internal-1631496039.2284203-14826-11-cfda786f-1e11-4827-8d9a-f8a12f28adb3.nc to /data/artemis/observations/ERA5/Winds_1978-03.nc (2.9G)\n",
      "2021-09-12 21:30:22,061 INFO Download rate 6.9M/s    \n",
      "2021-09-12 21:30:22,427 INFO Welcome to the CDS\n",
      "2021-09-12 21:30:22,427 INFO Sending request to https://cds.climate.copernicus.eu/api/v2/resources/reanalysis-era5-single-levels-preliminary-back-extension\n",
      "2021-09-12 21:30:22,504 INFO Request is queued\n"
     ]
    },
    {
     "name": "stdout",
     "output_type": "stream",
     "text": [
      "1978\n",
      "month =  04\n"
     ]
    },
    {
     "name": "stderr",
     "output_type": "stream",
     "text": [
      "2021-09-12 21:30:23,579 INFO Request is running\n",
      "2021-09-12 21:33:14,434 INFO Request is completed\n",
      "2021-09-12 21:33:14,434 INFO Downloading https://download-0011.copernicus-climate.eu/cache-compute-0011/cache/data5/adaptor.mars.internal-1631496726.2498157-10479-15-89c68876-5677-4988-8c7f-f8055e1e2a1c.nc to /data/artemis/observations/ERA5/Winds_1978-04.nc (2.8G)\n",
      "2021-09-12 21:40:55,024 INFO Download rate 6.2M/s    \n",
      "2021-09-12 21:40:55,392 INFO Welcome to the CDS\n",
      "2021-09-12 21:40:55,392 INFO Sending request to https://cds.climate.copernicus.eu/api/v2/resources/reanalysis-era5-single-levels-preliminary-back-extension\n",
      "2021-09-12 21:40:55,472 INFO Request is queued\n"
     ]
    },
    {
     "name": "stdout",
     "output_type": "stream",
     "text": [
      "1978\n",
      "month =  05\n"
     ]
    },
    {
     "name": "stderr",
     "output_type": "stream",
     "text": [
      "2021-09-12 21:40:56,547 INFO Request is running\n",
      "2021-09-12 21:45:14,315 INFO Request is completed\n",
      "2021-09-12 21:45:14,316 INFO Downloading https://download-0002.copernicus-climate.eu/cache-compute-0002/cache/data2/adaptor.mars.internal-1631497364.1052938-30273-13-20ec8823-5965-4ed0-94e2-73e7a92fbfbe.nc to /data/artemis/observations/ERA5/Winds_1978-05.nc (2.9G)\n",
      "2021-09-12 21:51:36,294 INFO Download rate 7.7M/s    \n",
      "2021-09-12 21:51:36,663 INFO Welcome to the CDS\n",
      "2021-09-12 21:51:36,664 INFO Sending request to https://cds.climate.copernicus.eu/api/v2/resources/reanalysis-era5-single-levels-preliminary-back-extension\n",
      "2021-09-12 21:51:36,746 INFO Request is queued\n"
     ]
    },
    {
     "name": "stdout",
     "output_type": "stream",
     "text": [
      "1978\n",
      "month =  06\n"
     ]
    },
    {
     "name": "stderr",
     "output_type": "stream",
     "text": [
      "2021-09-12 21:51:37,822 INFO Request is running\n",
      "2021-09-12 21:55:55,558 INFO Request is completed\n",
      "2021-09-12 21:55:55,558 INFO Downloading https://download-0000.copernicus-climate.eu/cache-compute-0000/cache/data8/adaptor.mars.internal-1631498010.4279635-4889-2-05fc7ffa-62d1-44c5-ae02-3d4037bdd6ef.nc to /data/artemis/observations/ERA5/Winds_1978-06.nc (2.8G)\n",
      "2021-09-12 22:01:49,173 INFO Download rate 8.1M/s    \n",
      "2021-09-12 22:01:49,541 INFO Welcome to the CDS\n",
      "2021-09-12 22:01:49,542 INFO Sending request to https://cds.climate.copernicus.eu/api/v2/resources/reanalysis-era5-single-levels-preliminary-back-extension\n",
      "2021-09-12 22:01:49,620 INFO Request is queued\n"
     ]
    },
    {
     "name": "stdout",
     "output_type": "stream",
     "text": [
      "1978\n",
      "month =  07\n"
     ]
    },
    {
     "name": "stderr",
     "output_type": "stream",
     "text": [
      "2021-09-12 22:01:50,698 INFO Request is running\n",
      "2021-09-12 22:08:08,808 INFO Request is completed\n",
      "2021-09-12 22:08:08,809 INFO Downloading https://download-0007.copernicus-climate.eu/cache-compute-0007/cache/data2/adaptor.mars.internal-1631498653.5838406-29808-11-1986addf-7bdf-40ff-87b3-a3d32131631c.nc to /data/artemis/observations/ERA5/Winds_1978-07.nc (2.9G)\n",
      "2021-09-12 22:12:24,850 INFO Download rate 11.5M/s   \n",
      "2021-09-12 22:12:25,218 INFO Welcome to the CDS\n",
      "2021-09-12 22:12:25,219 INFO Sending request to https://cds.climate.copernicus.eu/api/v2/resources/reanalysis-era5-single-levels-preliminary-back-extension\n",
      "2021-09-12 22:12:25,333 INFO Request is queued\n"
     ]
    },
    {
     "name": "stdout",
     "output_type": "stream",
     "text": [
      "1978\n",
      "month =  08\n"
     ]
    },
    {
     "name": "stderr",
     "output_type": "stream",
     "text": [
      "2021-09-12 22:12:26,410 INFO Request is running\n",
      "2021-09-12 22:16:44,114 INFO Request is completed\n",
      "2021-09-12 22:16:44,115 INFO Downloading https://download-0000.copernicus-climate.eu/cache-compute-0000/cache/data3/adaptor.mars.internal-1631499254.0464094-16776-3-bab7fe0c-ab0a-4871-a9f2-5b19ddcd8f30.nc to /data/artemis/observations/ERA5/Winds_1978-08.nc (2.9G)\n",
      "2021-09-12 22:23:47,570 INFO Download rate 7M/s      \n",
      "2021-09-12 22:23:47,943 INFO Welcome to the CDS\n",
      "2021-09-12 22:23:47,944 INFO Sending request to https://cds.climate.copernicus.eu/api/v2/resources/reanalysis-era5-single-levels-preliminary-back-extension\n",
      "2021-09-12 22:23:48,024 INFO Request is queued\n"
     ]
    },
    {
     "name": "stdout",
     "output_type": "stream",
     "text": [
      "1978\n",
      "month =  09\n"
     ]
    },
    {
     "name": "stderr",
     "output_type": "stream",
     "text": [
      "2021-09-12 22:23:49,099 INFO Request is running\n",
      "2021-09-12 22:28:06,858 INFO Request is completed\n",
      "2021-09-12 22:28:06,859 INFO Downloading https://download-0009.copernicus-climate.eu/cache-compute-0009/cache/data5/adaptor.mars.internal-1631499938.8251739-22443-7-72e0721b-de4c-439c-a121-118cf5589fd5.nc to /data/artemis/observations/ERA5/Winds_1978-09.nc (2.8G)\n",
      "2021-09-12 22:35:15,633 INFO Download rate 6.7M/s    \n",
      "2021-09-12 22:35:16,000 INFO Welcome to the CDS\n",
      "2021-09-12 22:35:16,001 INFO Sending request to https://cds.climate.copernicus.eu/api/v2/resources/reanalysis-era5-single-levels-preliminary-back-extension\n",
      "2021-09-12 22:35:16,080 INFO Request is queued\n"
     ]
    },
    {
     "name": "stdout",
     "output_type": "stream",
     "text": [
      "1978\n",
      "month =  10\n"
     ]
    },
    {
     "name": "stderr",
     "output_type": "stream",
     "text": [
      "2021-09-12 22:35:17,157 INFO Request is running\n",
      "2021-09-12 22:39:34,948 INFO Request is completed\n",
      "2021-09-12 22:39:34,949 INFO Downloading https://download-0000.copernicus-climate.eu/cache-compute-0000/cache/data3/adaptor.mars.internal-1631500627.2210653-27723-3-7fc61bc7-b390-4a42-a5af-23663a92dc40.nc to /data/artemis/observations/ERA5/Winds_1978-10.nc (2.9G)\n",
      "2021-09-12 22:44:49,145 INFO Download rate 9.4M/s    \n",
      "2021-09-12 22:44:49,514 INFO Welcome to the CDS\n",
      "2021-09-12 22:44:49,514 INFO Sending request to https://cds.climate.copernicus.eu/api/v2/resources/reanalysis-era5-single-levels-preliminary-back-extension\n",
      "2021-09-12 22:44:49,594 INFO Request is queued\n"
     ]
    },
    {
     "name": "stdout",
     "output_type": "stream",
     "text": [
      "1978\n",
      "month =  11\n"
     ]
    },
    {
     "name": "stderr",
     "output_type": "stream",
     "text": [
      "2021-09-12 22:44:50,671 INFO Request is running\n",
      "2021-09-12 22:49:08,401 INFO Request is completed\n",
      "2021-09-12 22:49:08,402 INFO Downloading https://download-0015.copernicus-climate.eu/cache-compute-0015/cache/data5/adaptor.mars.internal-1631501201.539697-27647-12-bd0df1b8-e2e6-497e-b7da-ad682ef5cf37.nc to /data/artemis/observations/ERA5/Winds_1978-11.nc (2.8G)\n",
      "2021-09-12 22:54:24,641 INFO Download rate 9M/s      \n",
      "2021-09-12 22:54:25,010 INFO Welcome to the CDS\n",
      "2021-09-12 22:54:25,010 INFO Sending request to https://cds.climate.copernicus.eu/api/v2/resources/reanalysis-era5-single-levels-preliminary-back-extension\n",
      "2021-09-12 22:54:25,113 INFO Request is queued\n"
     ]
    },
    {
     "name": "stdout",
     "output_type": "stream",
     "text": [
      "1978\n",
      "month =  12\n"
     ]
    },
    {
     "name": "stderr",
     "output_type": "stream",
     "text": [
      "2021-09-12 22:54:26,189 INFO Request is running\n",
      "2021-09-12 23:00:44,274 INFO Request is completed\n",
      "2021-09-12 23:00:44,275 INFO Downloading https://download-0000.copernicus-climate.eu/cache-compute-0000/cache/data3/adaptor.mars.internal-1631501780.1085064-6147-5-e6b5de26-006f-4e3e-aa68-4299b1b00fc3.nc to /data/artemis/observations/ERA5/Winds_1978-12.nc (2.9G)\n",
      "2021-09-12 23:08:02,572 INFO Download rate 6.7M/s    \n"
     ]
    }
   ],
   "source": [
    "for year in ['1968','1969','1970','1971','1972','1973','1974','1975','1976','1977','1978']:\n",
    "    \n",
    "    for month in ['01','02','03','04','05','06','07','08','09','10','11','12']:\n",
    "    \n",
    "        print(year)\n",
    "        print(\"month = \",month)\n",
    "    \n",
    "        c = cdsapi.Client()\n",
    "\n",
    "        c.retrieve(\n",
    "            'reanalysis-era5-single-levels-preliminary-back-extension',\n",
    "            {\n",
    "                'product_type': 'reanalysis',\n",
    "                'variable': [\n",
    "                    '10m_u_component_of_wind', '10m_v_component_of_wind',\n",
    "                ],\n",
    "                'year': [\n",
    "                    year\n",
    "                ],\n",
    "                'month': [\n",
    "                    month\n",
    "                ],\n",
    "                'day': [\n",
    "                    '01', '02', '03',\n",
    "                    '04', '05', '06',\n",
    "                    '07', '08', '09',\n",
    "                    '10', '11', '12',\n",
    "                    '13', '14', '15',\n",
    "                    '16', '17', '18',\n",
    "                    '19', '20', '21',\n",
    "                    '22', '23', '24',\n",
    "                    '25', '26', '27',\n",
    "                    '28', '29', '30',\n",
    "                    '31',\n",
    "                ],\n",
    "                'time': [\n",
    "                    '00:00', '01:00', '02:00',\n",
    "                    '03:00', '04:00', '05:00',\n",
    "                    '06:00', '07:00', '08:00',\n",
    "                    '09:00', '10:00', '11:00',\n",
    "                    '12:00', '13:00', '14:00',\n",
    "                    '15:00', '16:00', '17:00',\n",
    "                    '18:00', '19:00', '20:00',\n",
    "                    '21:00', '22:00', '23:00',\n",
    "                ],\n",
    "                'format': 'netcdf',\n",
    "            },\n",
    "            f'/data/artemis/observations/ERA5/Winds_{year}-{month}.nc')"
   ]
  },
  {
   "cell_type": "code",
   "execution_count": null,
   "metadata": {},
   "outputs": [],
   "source": []
  }
 ],
 "metadata": {
  "kernelspec": {
   "display_name": "EOF Test2",
   "language": "python",
   "name": "dev2"
  },
  "language_info": {
   "codemirror_mode": {
    "name": "ipython",
    "version": 3
   },
   "file_extension": ".py",
   "mimetype": "text/x-python",
   "name": "python",
   "nbconvert_exporter": "python",
   "pygments_lexer": "ipython3",
   "version": "3.6.7"
  }
 },
 "nbformat": 4,
 "nbformat_minor": 4
}
