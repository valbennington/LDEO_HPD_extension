{
 "cells": [
  {
   "cell_type": "markdown",
   "metadata": {},
   "source": [
    "# Process : GlobalView - zonal\n",
    "_process GlobalView xCO2 data_\n",
    "\n",
    "- **Original**: `/local/data/artemis/observations/globalview/originals`\n",
    "- **Processed**: `/local/data/artemis/observations/globalview/processed/`\n",
    "- **Variable**: xCO2\n",
    "- **Temporal**: Monthly, 198201 - 201712\n",
    "- **Spatial**: 1x1 degree, interpolated from native grid\n",
    "\n",
    "This script processes the GLOBALVIEW xCO2 data. \n",
    "This is zonally averaged data. \n",
    "\n",
    "Last update : 21 January 2022 Val Bennington"
   ]
  },
  {
   "cell_type": "code",
   "execution_count": 2,
   "metadata": {},
   "outputs": [],
   "source": [
    "import xarray as xr\n",
    "import numpy as np\n",
    "import pandas as pd\n",
    "import matplotlib.pyplot as plt\n",
    "from datetime import date\n",
    "\n",
    "# Future versions of pandas will require you to explicitly register matplotlib converters\n",
    "from pandas.plotting import register_matplotlib_converters\n",
    "register_matplotlib_converters()"
   ]
  },
  {
   "cell_type": "code",
   "execution_count": 1,
   "metadata": {},
   "outputs": [],
   "source": [
    "def process_globalview():\n",
    "    # Observations directory\n",
    "    dir_obs = '/local/data/artemis/observations'\n",
    "\n",
    "    # Surface file\n",
    "    fl = f'{dir_obs}/globalview/originals/co2_GHGreference.645082325_zonal.txt'\n",
    "\n",
    "    df = pd.read_csv(fl, sep='\\s+', skiprows=73, header=None, index_col=3)\n",
    "\n",
    "    #df.head()\n",
    "\n",
    "    # Time vector\n",
    "    df_time = pd.DataFrame({'year': df[0].values,\n",
    "                            'month': df[1].values,\n",
    "                            'day': df[2].values})\n",
    "    time = pd.to_datetime(df_time)\n",
    "\n",
    "    # xCO2 \n",
    "    xco2 = df[4]\n",
    "    xco2_uncert = df[5]\n",
    "\n",
    "    #plt.plot(time, xco2)\n",
    "\n",
    "    ## Create NetCDF File of raw data\n",
    "    #the NOAA MLB product uses ~weekly data. there are 48 equal time steps each year (~7.6 days)\n",
    "\n",
    "    ds_out = xr.Dataset(\n",
    "        {\n",
    "        'xco2':(['time'], xco2, \n",
    "                {'long_name':'mixing ratio of atmospheric CO2',\n",
    "                'units':'ppmv'}),\n",
    "        'xco2_uncertainty':(['time'], xco2_uncert, \n",
    "                {'long_name':'mixing ratio of atmospheric CO2 uncertainty',\n",
    "                'units':'ppmv'}),\n",
    "         'year' : (['time'], df[0].values,\n",
    "                  {'long_name':'years'}),\n",
    "         'month' : (['time'], df[1].values,\n",
    "                  {'long_name':'month'}),\n",
    "         'day' : (['time'], df[2].values,\n",
    "                  {'long_name':'days'})\n",
    "        },\n",
    "\n",
    "        coords={\n",
    "        'time': (['time'], time)\n",
    "        },\n",
    "        attrs={'contact':'Luke Gloege (gloege@ldeo.columbia.edu)',\n",
    "               'creation_date':f'{date.today()}',\n",
    "               'notes':'raw data was not manipulated',\n",
    "               'original_data':'https://www.esrl.noaa.gov/gmd/ccgg/mbl/'})\n",
    "\n",
    "    #ds_out.info()\n",
    "\n",
    "    ## Save native data in netcdf\n",
    "\n",
    "    #ds_out.to_netcdf(f'{dir_obs}/globalview/processed/xco2_zonal_weekly_globalview_197901-201812.nc')\n",
    "\n",
    "    #ds_out['time']\n",
    "\n",
    "    ## Sample the data monthly\n",
    "\n",
    "    # Define Dates\n",
    "    dates = pd.date_range(start='1979-01-01T00:00:00.000000000', \n",
    "                          end='2018-12-01T00:00:00.000000000',freq='MS')+ np.timedelta64(14, 'D')\n",
    "    #print(f'dates shape = {np.shape(dates)}')\n",
    "\n",
    "    ds_out_monthly = xr.Dataset(\n",
    "        {\n",
    "        'xco2':(['time'], ds_out['xco2'].resample(time='1MS').mean().values, \n",
    "                {'long_name':'mixing ratio of atmospheric CO2',\n",
    "                'units':'ppmv',\n",
    "                'notes':'monthly averages from weekly data'})\n",
    "        },\n",
    "\n",
    "        coords={\n",
    "        'time': (['time'], dates)\n",
    "        },\n",
    "        attrs={'contact':'Luke Gloege (gloege@ldeo.columbia.edu)',\n",
    "               'creation_date':f'{date.today()}',\n",
    "               'notes':'these are monthly averages from raw weekly data',\n",
    "               'original_data':'https://www.esrl.noaa.gov/gmd/ccgg/mbl/'})\n",
    "\n",
    "    #ds_out_monthly.info()\n",
    "\n",
    "    #ds_out_monthly.to_netcdf(f'{dir_obs}/globalview/processed/xco2_zonal_mon_globalview_197901-201812.nc')\n",
    "\n",
    "    ## Repeat monthly data to be 1x1\n",
    "\n",
    "    lon = np.arange(0.5,360,1)\n",
    "    lat = np.arange(-89.5,90,1)\n",
    "    ds_bc = xr.DataArray(np.zeros([len(lon),len(lat)]), coords=[('lon', lon),('lat', lat)])\n",
    "    ds_data, ds_mask = xr.broadcast(ds_out_monthly, ds_bc)\n",
    "\n",
    "    ds_data = ds_data.transpose('time', 'lat', 'lon')\n",
    "\n",
    "    return ds_data\n",
    "    #file_name = f'{dir_obs}/globalview/processed/xco2_1x1_mon_globalview_197901-201812.nc'\n",
    "    #ds_data.to_netcdf(file_name)               "
   ]
  },
  {
   "cell_type": "code",
   "execution_count": 40,
   "metadata": {},
   "outputs": [],
   "source": [
    "ds_data = process_globalview()"
   ]
  },
  {
   "cell_type": "code",
   "execution_count": null,
   "metadata": {},
   "outputs": [],
   "source": [
    "#file_name = f'{dir_obs}/globalview/processed/xco2_1x1_mon_globalview_197901-201812.nc'\n",
    "#ds_data.to_netcdf(file_name)  "
   ]
  },
  {
   "cell_type": "markdown",
   "metadata": {},
   "source": [
    "# Other snippets"
   ]
  },
  {
   "cell_type": "code",
   "execution_count": null,
   "metadata": {},
   "outputs": [],
   "source": [
    "# Surface file\n",
    "#fl = f'{dir_obs}/globalview/originals/co2_GHGreference.424818983_surface.txt'\n",
    "#df = pd.read_csv(fl, sep='\\s+', skiprows=78, header=None, index_col=0)\n",
    "#df.index.name = 'decimal-year'\n",
    "#df.head()\n",
    "#df = df.iloc[:,::2]\n",
    "#df.head()\n",
    "#df.columns = 'CO2'\n",
    "#df.index.name = 'decimal-year'\n",
    "\n",
    "#df.index.name = 'decimal-year'\n",
    "#df.head()\n",
    "#df = df.iloc[:,::2]\n",
    "#df.head()\n",
    "#df.columns = 'CO2'\n",
    "#df.index.name = 'decimal-year'"
   ]
  },
  {
   "cell_type": "code",
   "execution_count": null,
   "metadata": {},
   "outputs": [],
   "source": [
    "#ds_hind = xr.open_dataset(f'{dir_hindcast}/CESM-hindcast_XCO2_1x1_198201-201512.nc')\n",
    "#plt.plot(ds_data['time'], ds_data['XCO2'][:,0,0])\n",
    "#plt.plot(ds_hind['time'], ds_hind['XCO2'][:,50,50])"
   ]
  }
 ],
 "metadata": {
  "kernelspec": {
   "display_name": "EOF Test2",
   "language": "python",
   "name": "dev2"
  },
  "language_info": {
   "codemirror_mode": {
    "name": "ipython",
    "version": 3
   },
   "file_extension": ".py",
   "mimetype": "text/x-python",
   "name": "python",
   "nbconvert_exporter": "python",
   "pygments_lexer": "ipython3",
   "version": "3.6.7"
  }
 },
 "nbformat": 4,
 "nbformat_minor": 4
}
