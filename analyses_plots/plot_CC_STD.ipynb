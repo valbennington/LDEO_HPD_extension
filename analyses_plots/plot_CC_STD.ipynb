{
 "cells": [
  {
   "cell_type": "markdown",
   "id": "0b46ebf8-8d41-47e6-ab24-2034a7211173",
   "metadata": {},
   "source": [
    "## Plot Climatology Correction Applied to Each Model in LDEO-HPD\n",
    "## Plot STD of that correction as well"
   ]
  },
  {
   "cell_type": "code",
   "execution_count": 9,
   "id": "46b00a3f-481c-4915-a650-68b76047415e",
   "metadata": {},
   "outputs": [],
   "source": [
    "# Modules\n",
    "import pandas as pd\n",
    "import numpy as np\n",
    "import xarray as xr\n",
    "%run _Val_Mapping.ipynb\n",
    "import glob\n",
    "import os\n",
    "%matplotlib inline\n",
    "%config InlineBackend.figure_format = 'pdf'\n",
    "%config InlineBackend.print_figure_kwargs = {'dpi':300}"
   ]
  },
  {
   "cell_type": "code",
   "execution_count": 10,
   "id": "2ff0d0de-8c49-4ec9-a20f-86b9ce40aa6b",
   "metadata": {},
   "outputs": [],
   "source": [
    "root_dir = \"/data/artemis/workspace/vbennington/LDEO_HPD/models/XGB/GCB_2021\"  # directory output will be written to  \n",
    "recon_output_dir = f\"{root_dir}/reconstructions\" # reconstructions saved here\n",
    "\n",
    "#models = [ 'cesm_spco2_1x1_A','csiro_spco2_1x1_A','fesom_spco2_1x1_A','mpi_spco2_1x1_A','cnrm_spco2_1x1_A','ipsl_spco2_1x1_A',\n",
    "#          'planktom_spco2_1x1_A','noresm_spco2_1x1_A','princeton_spco2_1x1_A']\n",
    "models = [ 'cesm_sfco2_1x1_A','fesom2_sfco2_1x1_A','mpi_sfco2_1x1_A','cnrm_sfco2_1x1_A','ipsl_sfco2_1x1_A',\n",
    "          'planktom_sfco2_1x1_A','noresm_sfco2_1x1_A','princeton_sfco2_1x1_A']\n",
    "#\n",
    "#-----------------------------------------------------------------------------------------\n",
    "#-----------------------------------------------------------------------------------------\n",
    "# Climatology of Correction in this file:\n",
    "#(f'{recon_output_dir}/pCO2_cc2000-2019_1x1_recon_1959-2019.nc') \n",
    "\n",
    "# Full corrections in this file (model output):\n",
    "#(f\"{recon_output_dir}/{mod}_recon_198201-201912.nc\")"
   ]
  },
  {
   "cell_type": "code",
   "execution_count": 11,
   "id": "ac1b8f62-da5d-4b0c-9c85-565b661a3176",
   "metadata": {},
   "outputs": [
    {
     "name": "stdout",
     "output_type": "stream",
     "text": [
      "<xarray.Dataset>\n",
      "Dimensions:     (lat: 180, lon: 360, model: 8, month: 12, time: 744)\n",
      "Coordinates:\n",
      "  * model       (model) object 'cesm_sfco2_1x1_A' ... 'princeton_sfco2_1x1_A'\n",
      "  * month       (month) int64 1 2 3 4 5 6 7 8 9 10 11 12\n",
      "  * time        (time) datetime64[ns] 1959-01-15 1959-02-15 ... 2020-12-15\n",
      "  * lat         (lat) float64 -89.5 -88.5 -87.5 -86.5 ... 86.5 87.5 88.5 89.5\n",
      "  * lon         (lon) float64 -179.5 -178.5 -177.5 -176.5 ... 177.5 178.5 179.5\n",
      "Data variables:\n",
      "    pCO2        (model, time, lat, lon) float64 nan nan nan nan ... nan nan nan\n",
      "    pCO2cc      (model, time, lat, lon) float64 nan nan nan nan ... nan nan nan\n",
      "    correction  (model, month, lat, lon) float64 nan nan nan nan ... nan nan nan\n",
      "Attributes:\n",
      "    title:         LDEO-HPD Clim Correct 2000-2020\n",
      "    history:       XGBoost results and Clim Corrections by Val Bennington\n",
      "    institution:   Lamont Doherty Earth Observatory at Columbia\n",
      "    references:    /home/vbennington/LDEO_HPD/model_output_processing/recon_p...\n",
      "    date_created:  2022-03-04 20:39:45.923507\n"
     ]
    }
   ],
   "source": [
    "# Get seasonal climatologies of each model #\n",
    "clim = xr.load_dataset(f\"{recon_output_dir}/pCO2_cc2000-2020_1x1_recon_1959-2020.nc\")\n",
    "print(clim)"
   ]
  },
  {
   "cell_type": "code",
   "execution_count": 12,
   "id": "7354b19e-a097-48ce-b2cb-fa86eb85f2b0",
   "metadata": {},
   "outputs": [],
   "source": [
    "clim['DJF'] = clim[f'correction'].sel(month=[12,1,2]).mean(\"month\")\n",
    "clim['MAM'] = clim[f'correction'].sel(month=[3,4,5]).mean(\"month\")\n",
    "clim['JJA'] = clim[f'correction'].sel(month=[6,7,8]).mean(\"month\")\n",
    "clim['SON'] = clim[f'correction'].sel(month=[9,10,11]).mean(\"month\")"
   ]
  },
  {
   "cell_type": "markdown",
   "id": "501adfd6-c9d9-48da-b115-ba07090e98a4",
   "metadata": {},
   "source": [
    "# Uncomment to USE"
   ]
  },
  {
   "cell_type": "code",
   "execution_count": 6,
   "id": "780cbc56-3ebb-43af-8d3a-a2954c4675fa",
   "metadata": {},
   "outputs": [],
   "source": [
    "# Let's plot up the Climatology of the Error (That we use for prior to 1982):\n",
    "# _clim_error\n",
    "# Do by season, so we don't have 12 months to plot\n",
    "\n",
    "region='world'\n",
    "cmap = cm.cm.balance\n",
    "plot_style = 'seaborn-talk'\n",
    "\n",
    "#fig = plt.figure(figsize=(12,30))\n",
    "#fig_shape=(len(models),4)\n",
    "vrange = [-100, 100, 50]\n",
    "    \n",
    "\n",
    "#with plt.style.context(plot_style):\n",
    "#    dia = SpatialMap2(nrows_ncols=fig_shape, fig=fig, cbar_location='bottom', cbar_orientation='horizontal')\n",
    "#    i = 0\n",
    "#    for mod in models:\n",
    "#        for season in ['DJF','MAM','JJA','SON']:\n",
    "#            data2 = clim[f'{season}'].sel(model=f\"{mod}\")\n",
    "#            #data2 = xr_add_cyclic_point(data2, cyclic_coord='lon')    \n",
    "#            sub = dia.add_plot(data=data2, vrange=vrange[0:3], cmap=cmap, ax=i)\n",
    "#            if mod == models[0]:\n",
    "#                dia.set_title(f\"{season}\",i,fontsize=14) \n",
    "#            i+=1\n",
    "#        \n",
    "#    col = dia.add_colorbar(sub)\n",
    "#    dia.set_cbar_xlabel(col,f\"$\\mu$atm\",fontsize=12)\n",
    "#fig.savefig(f\"{recon_output_dir}/allmodels_climcorrection_seasons.eps\")\n",
    "#plt.show()"
   ]
  },
  {
   "cell_type": "code",
   "execution_count": 13,
   "id": "976e59a7-ee28-4969-83e3-f738ece87c7e",
   "metadata": {},
   "outputs": [],
   "source": [
    "# Let's plot each model separately, so we can select some for publication\n",
    "#########################################################################\n",
    "cmap = cm.cm.balance\n",
    "plot_style = 'seaborn-talk'\n",
    "\n",
    "vrange = [-100, 100, 50]\n",
    "  \n",
    "#with plt.style.context(plot_style):\n",
    "    \n",
    "#    for mod in models:\n",
    "#        fig = plt.figure(figsize=(12,5))\n",
    "#        fig_shape=(1,4)\n",
    "#        dia = SpatialMap2(nrows_ncols=fig_shape, fig=fig, cbar_location='bottom', cbar_orientation='horizontal') # new plot each model\n",
    "#        i = 0 # new subplot start each model\n",
    "#        for season in ['DJF','MAM','JJA','SON']:\n",
    "#            data2 = clim[f'{season}'].sel(model=f\"{mod}\")\n",
    "#            sub = dia.add_plot(data=data2, vrange=vrange[0:3], cmap=cmap, ax=i)\n",
    "#            dia.set_title(f\"{season}\",i,fontsize=12)\n",
    "#            i+=1\n",
    "#        col = dia.add_colorbar(sub)\n",
    "#        dia.set_cbar_xlabel(col,f\"$\\mu$atm\",fontsize=12)\n",
    "#        # Save each model figure separately:\n",
    "#        fig.savefig(f\"{recon_output_dir}/{mod}_correction_seasons.eps\")\n",
    "#        plt.show()"
   ]
  },
  {
   "cell_type": "code",
   "execution_count": 14,
   "id": "ba8c769f-b275-4191-a272-150545a9ff62",
   "metadata": {},
   "outputs": [],
   "source": [
    "region='world'\n",
    "plot_style = 'seaborn-talk'\n",
    "fig_shape=(1,4)\n",
    "vrange = [-100, 100, 51] \n",
    "\n",
    "#for mod in models:\n",
    "      \n",
    "#    ds = xr.open_dataset(f\"{recon_output_dir}/{mod}_recon_198201-202012.nc\")\n",
    "#    tmp = ds[f\"error_{mod}\"].groupby(\"time.month\").std(\"time\").transpose(\"month\",\"ylat\",\"xlon\")\n",
    "#    DJF = tmp.sel(month=[12,1,2]).mean(\"month\")\n",
    "#    MAM = tmp.sel(month=[3,4,5]).mean(\"month\")\n",
    "#    JJA = tmp.sel(month=[6,7,8]).mean(\"month\")\n",
    "#    SON = tmp.sel(month=[9,10,11]).mean(\"month\")\n",
    "    \n",
    "#    fig = plt.figure(figsize=(12,5))\n",
    "#    cmap = cm.cm.thermal\n",
    "#    with plt.style.context(plot_style):\n",
    "#        dia = SpatialMap2(nrows_ncols=fig_shape, fig=fig, cbar_location='bottom', cbar_orientation='horizontal')\n",
    "#        i = 0\n",
    "#        for season in ['DJF','MAM','JJA','SON']:\n",
    "#            if season==\"DJF\":\n",
    "#                data2=DJF\n",
    "#            if season==\"MAM\":\n",
    "#                data2=MAM\n",
    "#            if season==\"JJA\":\n",
    "#                data2=JJA\n",
    "#            if season==\"SON\":\n",
    "#                data2=SON\n",
    "#            sub = dia.add_plot(data=data2, vrange=[0,25,26], cmap=cmap, ax=i)\n",
    "#            dia.set_title(f\"{season}\",i,fontsize=14)\n",
    "#            i+=1   \n",
    "#        col = dia.add_colorbar(sub)\n",
    "#        dia.set_cbar_xlabel(col,f\"$\\mu$atm\",fontsize=12)\n",
    "#        fig.savefig(f\"{recon_output_dir}/{mod}_correction_std_seasons.eps\")\n",
    "#        plt.show()"
   ]
  },
  {
   "cell_type": "code",
   "execution_count": null,
   "id": "3f408d7a-1730-419e-8499-36c4e2feef77",
   "metadata": {},
   "outputs": [],
   "source": []
  }
 ],
 "metadata": {
  "kernelspec": {
   "display_name": "EOF Test2",
   "language": "python",
   "name": "dev2"
  },
  "language_info": {
   "codemirror_mode": {
    "name": "ipython",
    "version": 3
   },
   "file_extension": ".py",
   "mimetype": "text/x-python",
   "name": "python",
   "nbconvert_exporter": "python",
   "pygments_lexer": "ipython3",
   "version": "3.6.7"
  }
 },
 "nbformat": 4,
 "nbformat_minor": 5
}
