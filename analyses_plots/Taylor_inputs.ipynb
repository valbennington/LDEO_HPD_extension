{
 "cells": [
  {
   "cell_type": "markdown",
   "metadata": {},
   "source": [
    "## Stats for Taylor Diagrams\n",
    "## pCO2 for corrected models"
   ]
  },
  {
   "cell_type": "code",
   "execution_count": 1,
   "metadata": {},
   "outputs": [],
   "source": [
    "import os\n",
    "import datetime\n",
    "from pathlib import Path\n",
    "from collections import defaultdict\n",
    "import scipy\n",
    "import random\n",
    "import numpy as np\n",
    "import xarray as xr\n",
    "import pandas as pd\n",
    "import joblib\n",
    "import pickle\n",
    "import xesmf as xe\n",
    "import glob\n",
    "\n",
    "import seaborn as sns\n",
    "import cmocean as cm            # really nice colorbars\n",
    "import matplotlib.pyplot as plt\n",
    "from sklearn.linear_model import LinearRegression\n",
    "from scipy import stats"
   ]
  },
  {
   "cell_type": "code",
   "execution_count": 2,
   "metadata": {},
   "outputs": [],
   "source": [
    "start_yr = 1985\n",
    "end_yr = 2020\n",
    "# =========================================\n",
    "# For accessing directories\n",
    "# =========================================\n",
    "root_dir = \"/data/artemis/workspace/vbennington/LDEO_HPD/models/XGB/GCB_2021\"  # directory output will be written to  \n",
    "recon_output_dir = f\"{root_dir}/reconstructions\" # reconstructions saved here"
   ]
  },
  {
   "cell_type": "code",
   "execution_count": 3,
   "metadata": {},
   "outputs": [],
   "source": [
    "models = [ 'cesm_sfco2_1x1_A','fesom2_sfco2_1x1_A','mpi_sfco2_1x1_A','cnrm_sfco2_1x1_A','ipsl_sfco2_1x1_A',\n",
    "          'planktom_sfco2_1x1_A','noresm_sfco2_1x1_A','princeton_sfco2_1x1_A']\n",
    "correcs = ['1998-2020','2000-2020','1982-2020']"
   ]
  },
  {
   "cell_type": "code",
   "execution_count": 4,
   "metadata": {},
   "outputs": [],
   "source": [
    "# Set up dataframe for climatology-corrected #\n",
    "################################################################\n",
    "df_1998_2020 = pd.DataFrame() # create empty data frame\n",
    "df_1998_2020['stats']= [\"R_BATS\",\"STD_BATS\",\"RMSE_BATS\",\"R_HOT\",\"STD_HOT\",\"RMSE_HOT\",\n",
    "              \"R_SOCCOM\",\"STD_SOCCOM\",\"RMSE_SOCCOM\", \"R_LDEO\",\"STD_LDEO\",\"RMSE_LDEO\", \"R_GLODAP\",\"STD_GLODAP\",\"RMSE_GLODAP\"]\n",
    "\n",
    "df_1982_2020 = pd.DataFrame() # create empty data frame\n",
    "df_1982_2020['stats']= [\"R_BATS\",\"STD_BATS\",\"RMSE_BATS\",\"R_HOT\",\"STD_HOT\",\"RMSE_HOT\",\n",
    "              \"R_SOCCOM\",\"STD_SOCCOM\",\"RMSE_SOCCOM\", \"R_LDEO\",\"STD_LDEO\",\"RMSE_LDEO\", \"R_GLODAP\",\"STD_GLODAP\",\"RMSE_GLODAP\"]\n",
    "\n",
    "df_2000_2020 = pd.DataFrame() # create empty data frame\n",
    "df_2000_2020['stats']= [\"R_BATS\",\"STD_BATS\",\"RMSE_BATS\",\"R_HOT\",\"STD_HOT\",\"RMSE_HOT\",\n",
    "              \"R_SOCCOM\",\"STD_SOCCOM\",\"RMSE_SOCCOM\", \"R_LDEO\",\"STD_LDEO\",\"RMSE_LDEO\", \"R_GLODAP\",\"STD_GLODAP\",\"RMSE_GLODAP\"]\n",
    "\n",
    "df_ens = pd.DataFrame() # create empty data frame\n",
    "df_ens['stats']= [\"R_BATS\",\"STD_BATS\",\"RMSE_BATS\",\"R_HOT\",\"STD_HOT\",\"RMSE_HOT\",\n",
    "              \"R_SOCCOM\",\"STD_SOCCOM\",\"RMSE_SOCCOM\", \"R_LDEO\",\"STD_LDEO\",\"RMSE_LDEO\", \"R_GLODAP\",\"STD_GLODAP\",\"RMSE_GLODAP\"]\n",
    "\n",
    "df_models = pd.DataFrame() # create empty data frame\n",
    "df_models['stats']= [\"R_BATS\",\"STD_BATS\",\"RMSE_BATS\",\"R_HOT\",\"STD_HOT\",\"RMSE_HOT\",\n",
    "              \"R_SOCCOM\",\"STD_SOCCOM\",\"RMSE_SOCCOM\", \"R_LDEO\",\"STD_LDEO\",\"RMSE_LDEO\", \"R_GLODAP\",\"STD_GLODAP\",\"RMSE_GLODAP\"]"
   ]
  },
  {
   "cell_type": "code",
   "execution_count": 5,
   "metadata": {},
   "outputs": [],
   "source": [
    "cdf = ['1998_2020','2000_2020','1982_2020']"
   ]
  },
  {
   "cell_type": "code",
   "execution_count": 12,
   "metadata": {},
   "outputs": [
    {
     "name": "stdout",
     "output_type": "stream",
     "text": [
      "1998-2020\n",
      "cesm_sfco2_1x1_A\n"
     ]
    },
    {
     "name": "stderr",
     "output_type": "stream",
     "text": [
      "/home/vbennington/.conda/envs/dev2/lib/python3.6/site-packages/ipykernel_launcher.py:29: RuntimeWarning: invalid value encountered in less\n",
      "/home/vbennington/.conda/envs/dev2/lib/python3.6/site-packages/ipykernel_launcher.py:29: RuntimeWarning: invalid value encountered in greater\n"
     ]
    },
    {
     "name": "stdout",
     "output_type": "stream",
     "text": [
      "Create weight file: bilinear_180x360_180x360.nc\n",
      "Overwrite existing file: bilinear_180x360_180x360.nc \n",
      " You can set reuse_weights=True to save computing time.\n",
      "fesom2_sfco2_1x1_A\n"
     ]
    },
    {
     "name": "stderr",
     "output_type": "stream",
     "text": [
      "/home/vbennington/.conda/envs/dev2/lib/python3.6/site-packages/ipykernel_launcher.py:29: RuntimeWarning: invalid value encountered in less\n",
      "/home/vbennington/.conda/envs/dev2/lib/python3.6/site-packages/ipykernel_launcher.py:29: RuntimeWarning: invalid value encountered in greater\n"
     ]
    },
    {
     "name": "stdout",
     "output_type": "stream",
     "text": [
      "Overwrite existing file: bilinear_180x360_180x360.nc \n",
      " You can set reuse_weights=True to save computing time.\n",
      "Overwrite existing file: bilinear_180x360_180x360.nc \n",
      " You can set reuse_weights=True to save computing time.\n",
      "mpi_sfco2_1x1_A\n"
     ]
    },
    {
     "name": "stderr",
     "output_type": "stream",
     "text": [
      "/home/vbennington/.conda/envs/dev2/lib/python3.6/site-packages/ipykernel_launcher.py:29: RuntimeWarning: invalid value encountered in less\n",
      "/home/vbennington/.conda/envs/dev2/lib/python3.6/site-packages/ipykernel_launcher.py:29: RuntimeWarning: invalid value encountered in greater\n"
     ]
    },
    {
     "name": "stdout",
     "output_type": "stream",
     "text": [
      "Overwrite existing file: bilinear_180x360_180x360.nc \n",
      " You can set reuse_weights=True to save computing time.\n",
      "Overwrite existing file: bilinear_180x360_180x360.nc \n",
      " You can set reuse_weights=True to save computing time.\n",
      "cnrm_sfco2_1x1_A\n"
     ]
    },
    {
     "name": "stderr",
     "output_type": "stream",
     "text": [
      "/home/vbennington/.conda/envs/dev2/lib/python3.6/site-packages/ipykernel_launcher.py:29: RuntimeWarning: invalid value encountered in less\n",
      "/home/vbennington/.conda/envs/dev2/lib/python3.6/site-packages/ipykernel_launcher.py:29: RuntimeWarning: invalid value encountered in greater\n"
     ]
    },
    {
     "name": "stdout",
     "output_type": "stream",
     "text": [
      "Overwrite existing file: bilinear_180x360_180x360.nc \n",
      " You can set reuse_weights=True to save computing time.\n",
      "Overwrite existing file: bilinear_180x360_180x360.nc \n",
      " You can set reuse_weights=True to save computing time.\n",
      "ipsl_sfco2_1x1_A\n"
     ]
    },
    {
     "name": "stderr",
     "output_type": "stream",
     "text": [
      "/home/vbennington/.conda/envs/dev2/lib/python3.6/site-packages/ipykernel_launcher.py:29: RuntimeWarning: invalid value encountered in less\n",
      "/home/vbennington/.conda/envs/dev2/lib/python3.6/site-packages/ipykernel_launcher.py:29: RuntimeWarning: invalid value encountered in greater\n"
     ]
    },
    {
     "name": "stdout",
     "output_type": "stream",
     "text": [
      "Overwrite existing file: bilinear_180x360_180x360.nc \n",
      " You can set reuse_weights=True to save computing time.\n",
      "Overwrite existing file: bilinear_180x360_180x360.nc \n",
      " You can set reuse_weights=True to save computing time.\n",
      "planktom_sfco2_1x1_A\n"
     ]
    },
    {
     "name": "stderr",
     "output_type": "stream",
     "text": [
      "/home/vbennington/.conda/envs/dev2/lib/python3.6/site-packages/ipykernel_launcher.py:29: RuntimeWarning: invalid value encountered in less\n",
      "/home/vbennington/.conda/envs/dev2/lib/python3.6/site-packages/ipykernel_launcher.py:29: RuntimeWarning: invalid value encountered in greater\n"
     ]
    },
    {
     "name": "stdout",
     "output_type": "stream",
     "text": [
      "Overwrite existing file: bilinear_180x360_180x360.nc \n",
      " You can set reuse_weights=True to save computing time.\n",
      "Overwrite existing file: bilinear_180x360_180x360.nc \n",
      " You can set reuse_weights=True to save computing time.\n",
      "noresm_sfco2_1x1_A\n"
     ]
    },
    {
     "name": "stderr",
     "output_type": "stream",
     "text": [
      "/home/vbennington/.conda/envs/dev2/lib/python3.6/site-packages/ipykernel_launcher.py:29: RuntimeWarning: invalid value encountered in less\n",
      "/home/vbennington/.conda/envs/dev2/lib/python3.6/site-packages/ipykernel_launcher.py:29: RuntimeWarning: invalid value encountered in greater\n"
     ]
    },
    {
     "name": "stdout",
     "output_type": "stream",
     "text": [
      "Overwrite existing file: bilinear_180x360_180x360.nc \n",
      " You can set reuse_weights=True to save computing time.\n",
      "Overwrite existing file: bilinear_180x360_180x360.nc \n",
      " You can set reuse_weights=True to save computing time.\n",
      "princeton_sfco2_1x1_A\n"
     ]
    },
    {
     "name": "stderr",
     "output_type": "stream",
     "text": [
      "/home/vbennington/.conda/envs/dev2/lib/python3.6/site-packages/ipykernel_launcher.py:29: RuntimeWarning: invalid value encountered in less\n",
      "/home/vbennington/.conda/envs/dev2/lib/python3.6/site-packages/ipykernel_launcher.py:29: RuntimeWarning: invalid value encountered in greater\n"
     ]
    },
    {
     "name": "stdout",
     "output_type": "stream",
     "text": [
      "Overwrite existing file: bilinear_180x360_180x360.nc \n",
      " You can set reuse_weights=True to save computing time.\n",
      "Overwrite existing file: bilinear_180x360_180x360.nc \n",
      " You can set reuse_weights=True to save computing time.\n",
      "2000-2020\n",
      "cesm_sfco2_1x1_A\n"
     ]
    },
    {
     "name": "stderr",
     "output_type": "stream",
     "text": [
      "/home/vbennington/.conda/envs/dev2/lib/python3.6/site-packages/ipykernel_launcher.py:29: RuntimeWarning: invalid value encountered in less\n",
      "/home/vbennington/.conda/envs/dev2/lib/python3.6/site-packages/ipykernel_launcher.py:29: RuntimeWarning: invalid value encountered in greater\n"
     ]
    },
    {
     "name": "stdout",
     "output_type": "stream",
     "text": [
      "Overwrite existing file: bilinear_180x360_180x360.nc \n",
      " You can set reuse_weights=True to save computing time.\n",
      "Overwrite existing file: bilinear_180x360_180x360.nc \n",
      " You can set reuse_weights=True to save computing time.\n",
      "fesom2_sfco2_1x1_A\n"
     ]
    },
    {
     "name": "stderr",
     "output_type": "stream",
     "text": [
      "/home/vbennington/.conda/envs/dev2/lib/python3.6/site-packages/ipykernel_launcher.py:29: RuntimeWarning: invalid value encountered in less\n",
      "/home/vbennington/.conda/envs/dev2/lib/python3.6/site-packages/ipykernel_launcher.py:29: RuntimeWarning: invalid value encountered in greater\n"
     ]
    },
    {
     "name": "stdout",
     "output_type": "stream",
     "text": [
      "Overwrite existing file: bilinear_180x360_180x360.nc \n",
      " You can set reuse_weights=True to save computing time.\n",
      "Overwrite existing file: bilinear_180x360_180x360.nc \n",
      " You can set reuse_weights=True to save computing time.\n",
      "mpi_sfco2_1x1_A\n"
     ]
    },
    {
     "name": "stderr",
     "output_type": "stream",
     "text": [
      "/home/vbennington/.conda/envs/dev2/lib/python3.6/site-packages/ipykernel_launcher.py:29: RuntimeWarning: invalid value encountered in less\n",
      "/home/vbennington/.conda/envs/dev2/lib/python3.6/site-packages/ipykernel_launcher.py:29: RuntimeWarning: invalid value encountered in greater\n"
     ]
    },
    {
     "name": "stdout",
     "output_type": "stream",
     "text": [
      "Overwrite existing file: bilinear_180x360_180x360.nc \n",
      " You can set reuse_weights=True to save computing time.\n",
      "Overwrite existing file: bilinear_180x360_180x360.nc \n",
      " You can set reuse_weights=True to save computing time.\n",
      "cnrm_sfco2_1x1_A\n"
     ]
    },
    {
     "name": "stderr",
     "output_type": "stream",
     "text": [
      "/home/vbennington/.conda/envs/dev2/lib/python3.6/site-packages/ipykernel_launcher.py:29: RuntimeWarning: invalid value encountered in less\n",
      "/home/vbennington/.conda/envs/dev2/lib/python3.6/site-packages/ipykernel_launcher.py:29: RuntimeWarning: invalid value encountered in greater\n"
     ]
    },
    {
     "name": "stdout",
     "output_type": "stream",
     "text": [
      "Overwrite existing file: bilinear_180x360_180x360.nc \n",
      " You can set reuse_weights=True to save computing time.\n",
      "Overwrite existing file: bilinear_180x360_180x360.nc \n",
      " You can set reuse_weights=True to save computing time.\n",
      "ipsl_sfco2_1x1_A\n"
     ]
    },
    {
     "name": "stderr",
     "output_type": "stream",
     "text": [
      "/home/vbennington/.conda/envs/dev2/lib/python3.6/site-packages/ipykernel_launcher.py:29: RuntimeWarning: invalid value encountered in less\n",
      "/home/vbennington/.conda/envs/dev2/lib/python3.6/site-packages/ipykernel_launcher.py:29: RuntimeWarning: invalid value encountered in greater\n"
     ]
    },
    {
     "name": "stdout",
     "output_type": "stream",
     "text": [
      "Overwrite existing file: bilinear_180x360_180x360.nc \n",
      " You can set reuse_weights=True to save computing time.\n",
      "Overwrite existing file: bilinear_180x360_180x360.nc \n",
      " You can set reuse_weights=True to save computing time.\n",
      "planktom_sfco2_1x1_A\n"
     ]
    },
    {
     "name": "stderr",
     "output_type": "stream",
     "text": [
      "/home/vbennington/.conda/envs/dev2/lib/python3.6/site-packages/ipykernel_launcher.py:29: RuntimeWarning: invalid value encountered in less\n",
      "/home/vbennington/.conda/envs/dev2/lib/python3.6/site-packages/ipykernel_launcher.py:29: RuntimeWarning: invalid value encountered in greater\n"
     ]
    },
    {
     "name": "stdout",
     "output_type": "stream",
     "text": [
      "Overwrite existing file: bilinear_180x360_180x360.nc \n",
      " You can set reuse_weights=True to save computing time.\n",
      "Overwrite existing file: bilinear_180x360_180x360.nc \n",
      " You can set reuse_weights=True to save computing time.\n",
      "noresm_sfco2_1x1_A\n"
     ]
    },
    {
     "name": "stderr",
     "output_type": "stream",
     "text": [
      "/home/vbennington/.conda/envs/dev2/lib/python3.6/site-packages/ipykernel_launcher.py:29: RuntimeWarning: invalid value encountered in less\n",
      "/home/vbennington/.conda/envs/dev2/lib/python3.6/site-packages/ipykernel_launcher.py:29: RuntimeWarning: invalid value encountered in greater\n"
     ]
    },
    {
     "name": "stdout",
     "output_type": "stream",
     "text": [
      "Overwrite existing file: bilinear_180x360_180x360.nc \n",
      " You can set reuse_weights=True to save computing time.\n",
      "Overwrite existing file: bilinear_180x360_180x360.nc \n",
      " You can set reuse_weights=True to save computing time.\n",
      "princeton_sfco2_1x1_A\n"
     ]
    },
    {
     "name": "stderr",
     "output_type": "stream",
     "text": [
      "/home/vbennington/.conda/envs/dev2/lib/python3.6/site-packages/ipykernel_launcher.py:29: RuntimeWarning: invalid value encountered in less\n",
      "/home/vbennington/.conda/envs/dev2/lib/python3.6/site-packages/ipykernel_launcher.py:29: RuntimeWarning: invalid value encountered in greater\n"
     ]
    },
    {
     "name": "stdout",
     "output_type": "stream",
     "text": [
      "Overwrite existing file: bilinear_180x360_180x360.nc \n",
      " You can set reuse_weights=True to save computing time.\n",
      "Overwrite existing file: bilinear_180x360_180x360.nc \n",
      " You can set reuse_weights=True to save computing time.\n",
      "1982-2020\n",
      "cesm_sfco2_1x1_A\n"
     ]
    },
    {
     "name": "stderr",
     "output_type": "stream",
     "text": [
      "/home/vbennington/.conda/envs/dev2/lib/python3.6/site-packages/ipykernel_launcher.py:29: RuntimeWarning: invalid value encountered in less\n",
      "/home/vbennington/.conda/envs/dev2/lib/python3.6/site-packages/ipykernel_launcher.py:29: RuntimeWarning: invalid value encountered in greater\n"
     ]
    },
    {
     "name": "stdout",
     "output_type": "stream",
     "text": [
      "Overwrite existing file: bilinear_180x360_180x360.nc \n",
      " You can set reuse_weights=True to save computing time.\n",
      "Overwrite existing file: bilinear_180x360_180x360.nc \n",
      " You can set reuse_weights=True to save computing time.\n",
      "fesom2_sfco2_1x1_A\n"
     ]
    },
    {
     "name": "stderr",
     "output_type": "stream",
     "text": [
      "/home/vbennington/.conda/envs/dev2/lib/python3.6/site-packages/ipykernel_launcher.py:29: RuntimeWarning: invalid value encountered in less\n",
      "/home/vbennington/.conda/envs/dev2/lib/python3.6/site-packages/ipykernel_launcher.py:29: RuntimeWarning: invalid value encountered in greater\n"
     ]
    },
    {
     "name": "stdout",
     "output_type": "stream",
     "text": [
      "Overwrite existing file: bilinear_180x360_180x360.nc \n",
      " You can set reuse_weights=True to save computing time.\n",
      "Overwrite existing file: bilinear_180x360_180x360.nc \n",
      " You can set reuse_weights=True to save computing time.\n",
      "mpi_sfco2_1x1_A\n"
     ]
    },
    {
     "name": "stderr",
     "output_type": "stream",
     "text": [
      "/home/vbennington/.conda/envs/dev2/lib/python3.6/site-packages/ipykernel_launcher.py:29: RuntimeWarning: invalid value encountered in less\n",
      "/home/vbennington/.conda/envs/dev2/lib/python3.6/site-packages/ipykernel_launcher.py:29: RuntimeWarning: invalid value encountered in greater\n"
     ]
    },
    {
     "name": "stdout",
     "output_type": "stream",
     "text": [
      "Overwrite existing file: bilinear_180x360_180x360.nc \n",
      " You can set reuse_weights=True to save computing time.\n",
      "Overwrite existing file: bilinear_180x360_180x360.nc \n",
      " You can set reuse_weights=True to save computing time.\n",
      "cnrm_sfco2_1x1_A\n"
     ]
    },
    {
     "name": "stderr",
     "output_type": "stream",
     "text": [
      "/home/vbennington/.conda/envs/dev2/lib/python3.6/site-packages/ipykernel_launcher.py:29: RuntimeWarning: invalid value encountered in less\n",
      "/home/vbennington/.conda/envs/dev2/lib/python3.6/site-packages/ipykernel_launcher.py:29: RuntimeWarning: invalid value encountered in greater\n"
     ]
    },
    {
     "name": "stdout",
     "output_type": "stream",
     "text": [
      "Overwrite existing file: bilinear_180x360_180x360.nc \n",
      " You can set reuse_weights=True to save computing time.\n",
      "Overwrite existing file: bilinear_180x360_180x360.nc \n",
      " You can set reuse_weights=True to save computing time.\n",
      "ipsl_sfco2_1x1_A\n"
     ]
    },
    {
     "name": "stderr",
     "output_type": "stream",
     "text": [
      "/home/vbennington/.conda/envs/dev2/lib/python3.6/site-packages/ipykernel_launcher.py:29: RuntimeWarning: invalid value encountered in less\n",
      "/home/vbennington/.conda/envs/dev2/lib/python3.6/site-packages/ipykernel_launcher.py:29: RuntimeWarning: invalid value encountered in greater\n"
     ]
    },
    {
     "name": "stdout",
     "output_type": "stream",
     "text": [
      "Overwrite existing file: bilinear_180x360_180x360.nc \n",
      " You can set reuse_weights=True to save computing time.\n",
      "Overwrite existing file: bilinear_180x360_180x360.nc \n",
      " You can set reuse_weights=True to save computing time.\n",
      "planktom_sfco2_1x1_A\n"
     ]
    },
    {
     "name": "stderr",
     "output_type": "stream",
     "text": [
      "/home/vbennington/.conda/envs/dev2/lib/python3.6/site-packages/ipykernel_launcher.py:29: RuntimeWarning: invalid value encountered in less\n",
      "/home/vbennington/.conda/envs/dev2/lib/python3.6/site-packages/ipykernel_launcher.py:29: RuntimeWarning: invalid value encountered in greater\n"
     ]
    },
    {
     "name": "stdout",
     "output_type": "stream",
     "text": [
      "Overwrite existing file: bilinear_180x360_180x360.nc \n",
      " You can set reuse_weights=True to save computing time.\n",
      "Overwrite existing file: bilinear_180x360_180x360.nc \n",
      " You can set reuse_weights=True to save computing time.\n",
      "noresm_sfco2_1x1_A\n"
     ]
    },
    {
     "name": "stderr",
     "output_type": "stream",
     "text": [
      "/home/vbennington/.conda/envs/dev2/lib/python3.6/site-packages/ipykernel_launcher.py:29: RuntimeWarning: invalid value encountered in less\n",
      "/home/vbennington/.conda/envs/dev2/lib/python3.6/site-packages/ipykernel_launcher.py:29: RuntimeWarning: invalid value encountered in greater\n"
     ]
    },
    {
     "name": "stdout",
     "output_type": "stream",
     "text": [
      "Overwrite existing file: bilinear_180x360_180x360.nc \n",
      " You can set reuse_weights=True to save computing time.\n",
      "Overwrite existing file: bilinear_180x360_180x360.nc \n",
      " You can set reuse_weights=True to save computing time.\n",
      "princeton_sfco2_1x1_A\n"
     ]
    },
    {
     "name": "stderr",
     "output_type": "stream",
     "text": [
      "/home/vbennington/.conda/envs/dev2/lib/python3.6/site-packages/ipykernel_launcher.py:29: RuntimeWarning: invalid value encountered in less\n",
      "/home/vbennington/.conda/envs/dev2/lib/python3.6/site-packages/ipykernel_launcher.py:29: RuntimeWarning: invalid value encountered in greater\n"
     ]
    },
    {
     "name": "stdout",
     "output_type": "stream",
     "text": [
      "Overwrite existing file: bilinear_180x360_180x360.nc \n",
      " You can set reuse_weights=True to save computing time.\n",
      "Overwrite existing file: bilinear_180x360_180x360.nc \n",
      " You can set reuse_weights=True to save computing time.\n"
     ]
    },
    {
     "data": {
      "text/html": [
       "<div>\n",
       "<style scoped>\n",
       "    .dataframe tbody tr th:only-of-type {\n",
       "        vertical-align: middle;\n",
       "    }\n",
       "\n",
       "    .dataframe tbody tr th {\n",
       "        vertical-align: top;\n",
       "    }\n",
       "\n",
       "    .dataframe thead th {\n",
       "        text-align: right;\n",
       "    }\n",
       "</style>\n",
       "<table border=\"1\" class=\"dataframe\">\n",
       "  <thead>\n",
       "    <tr style=\"text-align: right;\">\n",
       "      <th></th>\n",
       "      <th>stats</th>\n",
       "      <th>cesm_sfco2_1x1_A</th>\n",
       "      <th>fesom2_sfco2_1x1_A</th>\n",
       "      <th>mpi_sfco2_1x1_A</th>\n",
       "      <th>cnrm_sfco2_1x1_A</th>\n",
       "      <th>ipsl_sfco2_1x1_A</th>\n",
       "      <th>planktom_sfco2_1x1_A</th>\n",
       "      <th>noresm_sfco2_1x1_A</th>\n",
       "      <th>princeton_sfco2_1x1_A</th>\n",
       "    </tr>\n",
       "  </thead>\n",
       "  <tbody>\n",
       "    <tr>\n",
       "      <th>0</th>\n",
       "      <td>R_BATS</td>\n",
       "      <td>0.943319</td>\n",
       "      <td>0.939783</td>\n",
       "      <td>0.926579</td>\n",
       "      <td>0.932002</td>\n",
       "      <td>0.943402</td>\n",
       "      <td>0.941251</td>\n",
       "      <td>0.942755</td>\n",
       "      <td>0.930877</td>\n",
       "    </tr>\n",
       "    <tr>\n",
       "      <th>1</th>\n",
       "      <td>STD_BATS</td>\n",
       "      <td>31.317127</td>\n",
       "      <td>31.708062</td>\n",
       "      <td>33.364849</td>\n",
       "      <td>31.203496</td>\n",
       "      <td>30.975092</td>\n",
       "      <td>31.756264</td>\n",
       "      <td>30.381791</td>\n",
       "      <td>32.505086</td>\n",
       "    </tr>\n",
       "    <tr>\n",
       "      <th>2</th>\n",
       "      <td>RMSE_BATS</td>\n",
       "      <td>12.062760</td>\n",
       "      <td>12.385086</td>\n",
       "      <td>13.628133</td>\n",
       "      <td>13.080910</td>\n",
       "      <td>12.094552</td>\n",
       "      <td>12.160932</td>\n",
       "      <td>12.296391</td>\n",
       "      <td>13.149251</td>\n",
       "    </tr>\n",
       "    <tr>\n",
       "      <th>3</th>\n",
       "      <td>R_HOT</td>\n",
       "      <td>0.922580</td>\n",
       "      <td>0.917805</td>\n",
       "      <td>0.889872</td>\n",
       "      <td>0.907450</td>\n",
       "      <td>0.923572</td>\n",
       "      <td>0.918147</td>\n",
       "      <td>0.920879</td>\n",
       "      <td>0.926893</td>\n",
       "    </tr>\n",
       "    <tr>\n",
       "      <th>4</th>\n",
       "      <td>STD_HOT</td>\n",
       "      <td>18.453731</td>\n",
       "      <td>19.295748</td>\n",
       "      <td>23.986608</td>\n",
       "      <td>18.388379</td>\n",
       "      <td>18.444599</td>\n",
       "      <td>19.187600</td>\n",
       "      <td>22.369665</td>\n",
       "      <td>18.262956</td>\n",
       "    </tr>\n",
       "  </tbody>\n",
       "</table>\n",
       "</div>"
      ],
      "text/plain": [
       "       stats  cesm_sfco2_1x1_A  fesom2_sfco2_1x1_A  mpi_sfco2_1x1_A  \\\n",
       "0     R_BATS          0.943319            0.939783         0.926579   \n",
       "1   STD_BATS         31.317127           31.708062        33.364849   \n",
       "2  RMSE_BATS         12.062760           12.385086        13.628133   \n",
       "3      R_HOT          0.922580            0.917805         0.889872   \n",
       "4    STD_HOT         18.453731           19.295748        23.986608   \n",
       "\n",
       "   cnrm_sfco2_1x1_A  ipsl_sfco2_1x1_A  planktom_sfco2_1x1_A  \\\n",
       "0          0.932002          0.943402              0.941251   \n",
       "1         31.203496         30.975092             31.756264   \n",
       "2         13.080910         12.094552             12.160932   \n",
       "3          0.907450          0.923572              0.918147   \n",
       "4         18.388379         18.444599             19.187600   \n",
       "\n",
       "   noresm_sfco2_1x1_A  princeton_sfco2_1x1_A  \n",
       "0            0.942755               0.930877  \n",
       "1           30.381791              32.505086  \n",
       "2           12.296391              13.149251  \n",
       "3            0.920879               0.926893  \n",
       "4           22.369665              18.262956  "
      ]
     },
     "execution_count": 12,
     "metadata": {},
     "output_type": "execute_result"
    }
   ],
   "source": [
    "# We have 3 different climatology-corrected files (using climatology of different periods):\n",
    "for correction in correcs:\n",
    "    print(correction)\n",
    "    # Load netcdf\n",
    "    ds = xr.load_dataset(f\"{recon_output_dir}/pCO2_cc{correction}_1x1_recon_1959-2020.nc\")\n",
    "    for mod in models:\n",
    "        print(mod)\n",
    "        R_BATS, STD_BATS, RMSE_BATS, obs = BATS_stats(ds,mod,'pCO2cc',start_yr=start_yr,end_yr=end_yr)\n",
    "        R_HOT, STD_HOT, RMSE_HOT, obs = HOT_stats(ds,mod,'pCO2cc',start_yr=start_yr,end_yr=end_yr) # handle starts/ends in routines\n",
    "        R_SOCCOM, STD_SOCCOM, RMSE_SOCCOM, obs = SOCCOM_stats(ds,mod,'pCO2cc',start_yr=start_yr,end_yr=end_yr)\n",
    "        R_LDEO, STD_LDEO, RMSE_LDEO, obs = LDEO_stats(ds,mod,'pCO2cc',start_yr=start_yr,end_yr=end_yr)\n",
    "        R_GLODAP, STD_GLODAP, RMSE_GLODAP, obs = GLODAP_stats(ds,mod,'pCO2cc',start_yr=start_yr,end_yr=end_yr)\n",
    "\n",
    "        # Write to DataFrame:\n",
    "        if correction == \"1998-2020\":\n",
    "            df_1998_2020[f'{mod}']=[R_BATS,STD_BATS,RMSE_BATS,R_HOT,STD_HOT,RMSE_HOT,R_SOCCOM,STD_SOCCOM,RMSE_SOCCOM, \n",
    "                     R_LDEO,STD_LDEO,RMSE_LDEO, R_GLODAP,STD_GLODAP,RMSE_GLODAP]\n",
    "        elif correction == \"2000-2020\":\n",
    "            df_2000_2020[f'{mod}']=[R_BATS,STD_BATS,RMSE_BATS,R_HOT,STD_HOT,RMSE_HOT,R_SOCCOM,STD_SOCCOM,RMSE_SOCCOM, \n",
    "                     R_LDEO,STD_LDEO,RMSE_LDEO, R_GLODAP,STD_GLODAP,RMSE_GLODAP]\n",
    "        elif correction == \"1982-2020\":\n",
    "            df_1982_2020[f'{mod}']=[R_BATS,STD_BATS,RMSE_BATS,R_HOT,STD_HOT,RMSE_HOT,R_SOCCOM,STD_SOCCOM,RMSE_SOCCOM, \n",
    "                     R_LDEO,STD_LDEO,RMSE_LDEO, R_GLODAP,STD_GLODAP,RMSE_GLODAP]\n",
    "df_1998_2020.head()"
   ]
  },
  {
   "cell_type": "code",
   "execution_count": 13,
   "metadata": {},
   "outputs": [
    {
     "data": {
      "text/html": [
       "<div>\n",
       "<style scoped>\n",
       "    .dataframe tbody tr th:only-of-type {\n",
       "        vertical-align: middle;\n",
       "    }\n",
       "\n",
       "    .dataframe tbody tr th {\n",
       "        vertical-align: top;\n",
       "    }\n",
       "\n",
       "    .dataframe thead th {\n",
       "        text-align: right;\n",
       "    }\n",
       "</style>\n",
       "<table border=\"1\" class=\"dataframe\">\n",
       "  <thead>\n",
       "    <tr style=\"text-align: right;\">\n",
       "      <th></th>\n",
       "      <th>stats</th>\n",
       "      <th>cesm_sfco2_1x1_A</th>\n",
       "      <th>fesom2_sfco2_1x1_A</th>\n",
       "      <th>mpi_sfco2_1x1_A</th>\n",
       "      <th>cnrm_sfco2_1x1_A</th>\n",
       "      <th>ipsl_sfco2_1x1_A</th>\n",
       "      <th>planktom_sfco2_1x1_A</th>\n",
       "      <th>noresm_sfco2_1x1_A</th>\n",
       "      <th>princeton_sfco2_1x1_A</th>\n",
       "    </tr>\n",
       "  </thead>\n",
       "  <tbody>\n",
       "    <tr>\n",
       "      <th>0</th>\n",
       "      <td>R_BATS</td>\n",
       "      <td>0.943319</td>\n",
       "      <td>0.939783</td>\n",
       "      <td>0.926579</td>\n",
       "      <td>0.932002</td>\n",
       "      <td>0.943402</td>\n",
       "      <td>0.941251</td>\n",
       "      <td>0.942755</td>\n",
       "      <td>0.930877</td>\n",
       "    </tr>\n",
       "    <tr>\n",
       "      <th>1</th>\n",
       "      <td>STD_BATS</td>\n",
       "      <td>31.317127</td>\n",
       "      <td>31.708062</td>\n",
       "      <td>33.364849</td>\n",
       "      <td>31.203496</td>\n",
       "      <td>30.975092</td>\n",
       "      <td>31.756264</td>\n",
       "      <td>30.381791</td>\n",
       "      <td>32.505086</td>\n",
       "    </tr>\n",
       "    <tr>\n",
       "      <th>2</th>\n",
       "      <td>RMSE_BATS</td>\n",
       "      <td>12.062760</td>\n",
       "      <td>12.385086</td>\n",
       "      <td>13.628133</td>\n",
       "      <td>13.080910</td>\n",
       "      <td>12.094552</td>\n",
       "      <td>12.160932</td>\n",
       "      <td>12.296391</td>\n",
       "      <td>13.149251</td>\n",
       "    </tr>\n",
       "    <tr>\n",
       "      <th>3</th>\n",
       "      <td>R_HOT</td>\n",
       "      <td>0.922580</td>\n",
       "      <td>0.917805</td>\n",
       "      <td>0.889872</td>\n",
       "      <td>0.907450</td>\n",
       "      <td>0.923572</td>\n",
       "      <td>0.918147</td>\n",
       "      <td>0.920879</td>\n",
       "      <td>0.926893</td>\n",
       "    </tr>\n",
       "    <tr>\n",
       "      <th>4</th>\n",
       "      <td>STD_HOT</td>\n",
       "      <td>18.453731</td>\n",
       "      <td>19.295748</td>\n",
       "      <td>23.986608</td>\n",
       "      <td>18.388379</td>\n",
       "      <td>18.444599</td>\n",
       "      <td>19.187600</td>\n",
       "      <td>22.369665</td>\n",
       "      <td>18.262956</td>\n",
       "    </tr>\n",
       "    <tr>\n",
       "      <th>5</th>\n",
       "      <td>RMSE_HOT</td>\n",
       "      <td>8.459858</td>\n",
       "      <td>8.408274</td>\n",
       "      <td>11.297976</td>\n",
       "      <td>8.606548</td>\n",
       "      <td>8.212656</td>\n",
       "      <td>9.109678</td>\n",
       "      <td>9.153042</td>\n",
       "      <td>7.425889</td>\n",
       "    </tr>\n",
       "    <tr>\n",
       "      <th>6</th>\n",
       "      <td>R_SOCCOM</td>\n",
       "      <td>0.508045</td>\n",
       "      <td>0.467740</td>\n",
       "      <td>0.402506</td>\n",
       "      <td>0.518316</td>\n",
       "      <td>0.494008</td>\n",
       "      <td>0.451347</td>\n",
       "      <td>0.483273</td>\n",
       "      <td>0.532900</td>\n",
       "    </tr>\n",
       "    <tr>\n",
       "      <th>7</th>\n",
       "      <td>STD_SOCCOM</td>\n",
       "      <td>19.563756</td>\n",
       "      <td>20.038467</td>\n",
       "      <td>25.177510</td>\n",
       "      <td>18.462427</td>\n",
       "      <td>19.077136</td>\n",
       "      <td>18.675550</td>\n",
       "      <td>19.536488</td>\n",
       "      <td>20.772598</td>\n",
       "    </tr>\n",
       "    <tr>\n",
       "      <th>8</th>\n",
       "      <td>RMSE_SOCCOM</td>\n",
       "      <td>32.021291</td>\n",
       "      <td>32.975270</td>\n",
       "      <td>35.635763</td>\n",
       "      <td>31.691589</td>\n",
       "      <td>32.362804</td>\n",
       "      <td>33.266459</td>\n",
       "      <td>32.428392</td>\n",
       "      <td>31.545895</td>\n",
       "    </tr>\n",
       "    <tr>\n",
       "      <th>9</th>\n",
       "      <td>R_LDEO</td>\n",
       "      <td>0.834071</td>\n",
       "      <td>0.824081</td>\n",
       "      <td>0.789125</td>\n",
       "      <td>0.826774</td>\n",
       "      <td>0.834223</td>\n",
       "      <td>0.803776</td>\n",
       "      <td>0.818572</td>\n",
       "      <td>0.833082</td>\n",
       "    </tr>\n",
       "    <tr>\n",
       "      <th>10</th>\n",
       "      <td>STD_LDEO</td>\n",
       "      <td>33.015651</td>\n",
       "      <td>33.463387</td>\n",
       "      <td>34.135600</td>\n",
       "      <td>33.319460</td>\n",
       "      <td>32.885439</td>\n",
       "      <td>33.759927</td>\n",
       "      <td>33.013757</td>\n",
       "      <td>33.058283</td>\n",
       "    </tr>\n",
       "    <tr>\n",
       "      <th>11</th>\n",
       "      <td>RMSE_LDEO</td>\n",
       "      <td>20.735595</td>\n",
       "      <td>21.369716</td>\n",
       "      <td>23.342438</td>\n",
       "      <td>21.208096</td>\n",
       "      <td>20.729443</td>\n",
       "      <td>22.498767</td>\n",
       "      <td>21.661533</td>\n",
       "      <td>20.786964</td>\n",
       "    </tr>\n",
       "    <tr>\n",
       "      <th>12</th>\n",
       "      <td>R_GLODAP</td>\n",
       "      <td>0.824986</td>\n",
       "      <td>0.816993</td>\n",
       "      <td>0.778369</td>\n",
       "      <td>0.828565</td>\n",
       "      <td>0.823815</td>\n",
       "      <td>0.799689</td>\n",
       "      <td>0.799856</td>\n",
       "      <td>0.829831</td>\n",
       "    </tr>\n",
       "    <tr>\n",
       "      <th>13</th>\n",
       "      <td>STD_GLODAP</td>\n",
       "      <td>31.865538</td>\n",
       "      <td>32.185192</td>\n",
       "      <td>31.668422</td>\n",
       "      <td>32.497818</td>\n",
       "      <td>31.328186</td>\n",
       "      <td>34.435942</td>\n",
       "      <td>31.724015</td>\n",
       "      <td>33.051925</td>\n",
       "    </tr>\n",
       "    <tr>\n",
       "      <th>14</th>\n",
       "      <td>RMSE_GLODAP</td>\n",
       "      <td>20.616986</td>\n",
       "      <td>21.136196</td>\n",
       "      <td>22.959459</td>\n",
       "      <td>20.524474</td>\n",
       "      <td>20.668750</td>\n",
       "      <td>22.628259</td>\n",
       "      <td>21.875521</td>\n",
       "      <td>20.328088</td>\n",
       "    </tr>\n",
       "  </tbody>\n",
       "</table>\n",
       "</div>"
      ],
      "text/plain": [
       "          stats  cesm_sfco2_1x1_A  fesom2_sfco2_1x1_A  mpi_sfco2_1x1_A  \\\n",
       "0        R_BATS          0.943319            0.939783         0.926579   \n",
       "1      STD_BATS         31.317127           31.708062        33.364849   \n",
       "2     RMSE_BATS         12.062760           12.385086        13.628133   \n",
       "3         R_HOT          0.922580            0.917805         0.889872   \n",
       "4       STD_HOT         18.453731           19.295748        23.986608   \n",
       "5      RMSE_HOT          8.459858            8.408274        11.297976   \n",
       "6      R_SOCCOM          0.508045            0.467740         0.402506   \n",
       "7    STD_SOCCOM         19.563756           20.038467        25.177510   \n",
       "8   RMSE_SOCCOM         32.021291           32.975270        35.635763   \n",
       "9        R_LDEO          0.834071            0.824081         0.789125   \n",
       "10     STD_LDEO         33.015651           33.463387        34.135600   \n",
       "11    RMSE_LDEO         20.735595           21.369716        23.342438   \n",
       "12     R_GLODAP          0.824986            0.816993         0.778369   \n",
       "13   STD_GLODAP         31.865538           32.185192        31.668422   \n",
       "14  RMSE_GLODAP         20.616986           21.136196        22.959459   \n",
       "\n",
       "    cnrm_sfco2_1x1_A  ipsl_sfco2_1x1_A  planktom_sfco2_1x1_A  \\\n",
       "0           0.932002          0.943402              0.941251   \n",
       "1          31.203496         30.975092             31.756264   \n",
       "2          13.080910         12.094552             12.160932   \n",
       "3           0.907450          0.923572              0.918147   \n",
       "4          18.388379         18.444599             19.187600   \n",
       "5           8.606548          8.212656              9.109678   \n",
       "6           0.518316          0.494008              0.451347   \n",
       "7          18.462427         19.077136             18.675550   \n",
       "8          31.691589         32.362804             33.266459   \n",
       "9           0.826774          0.834223              0.803776   \n",
       "10         33.319460         32.885439             33.759927   \n",
       "11         21.208096         20.729443             22.498767   \n",
       "12          0.828565          0.823815              0.799689   \n",
       "13         32.497818         31.328186             34.435942   \n",
       "14         20.524474         20.668750             22.628259   \n",
       "\n",
       "    noresm_sfco2_1x1_A  princeton_sfco2_1x1_A  \n",
       "0             0.942755               0.930877  \n",
       "1            30.381791              32.505086  \n",
       "2            12.296391              13.149251  \n",
       "3             0.920879               0.926893  \n",
       "4            22.369665              18.262956  \n",
       "5             9.153042               7.425889  \n",
       "6             0.483273               0.532900  \n",
       "7            19.536488              20.772598  \n",
       "8            32.428392              31.545895  \n",
       "9             0.818572               0.833082  \n",
       "10           33.013757              33.058283  \n",
       "11           21.661533              20.786964  \n",
       "12            0.799856               0.829831  \n",
       "13           31.724015              33.051925  \n",
       "14           21.875521              20.328088  "
      ]
     },
     "execution_count": 13,
     "metadata": {},
     "output_type": "execute_result"
    }
   ],
   "source": [
    "df_1998_2020.head(20)"
   ]
  },
  {
   "cell_type": "code",
   "execution_count": 14,
   "metadata": {},
   "outputs": [],
   "source": [
    "# Write out Files #\n",
    "df_1998_2020.to_csv(f'{recon_output_dir}/Taylor_stats_pCO2cc_allmodels_1998-2020_{start_yr}-{end_yr}.csv',index=False)\n",
    "df_1982_2020.to_csv(f'{recon_output_dir}/Taylor_stats_pCO2cc_allmodels_1982-2020_{start_yr}-{end_yr}.csv',index=False)\n",
    "df_2000_2020.to_csv(f'{recon_output_dir}/Taylor_stats_pCO2cc_allmodels_2000-2020_{start_yr}-{end_yr}.csv',index=False)"
   ]
  },
  {
   "cell_type": "code",
   "execution_count": 15,
   "metadata": {},
   "outputs": [],
   "source": [
    "# Now, do for raw models:\n",
    "# Get model output from prior to 1982:\n",
    "# Now we need the GCB models pCO2:\n",
    "dm = xr.open_dataset('/data/artemis/simulations/GCB/2021models/gcb_load_A_2021_models.nc',decode_times=False)\n",
    "dm = dm.rename({'X':'lon','Y':'lat','T':'time'})\n",
    "dm['lon'] = list(map(lambda x: x-360 if x>180 else x, dm['lon'].values))\n",
    "dm = dm.sortby('lon')\n",
    "dm['time']=pd.date_range(start=f'1958-01T00:00:00.000000000',end=f'2020-12T00:00:00.000000000',freq='MS') + np.timedelta64(14, 'D')\n",
    "# IPSL is corrected:\n",
    "#di = xr.open_dataset('/data/artemis/simulations/GCB/2020models/IPSL_corrected.nc',decode_times=False)\n",
    "#di = di.rename({'months':'time'})\n",
    "#di['lon'] = list(map(lambda x: x-360 if x>180 else x, di['lon'].values))\n",
    "#di = di.sortby('lon')\n",
    "#di['time']=pd.date_range(start=f'1958-01T00:00:00.000000000',end=f'2019-12T00:00:00.000000000',freq='MS') + np.timedelta64(14, 'D')\n",
    "#dm['ipsl_spco2_1x1_A'] = di['IPSL_pco2_corrected'].transpose(\"time\",\"lat\",'lon')\n",
    "#del di"
   ]
  },
  {
   "cell_type": "code",
   "execution_count": 16,
   "metadata": {},
   "outputs": [
    {
     "name": "stdout",
     "output_type": "stream",
     "text": [
      "<xarray.Dataset>\n",
      "Dimensions:                (lat: 180, lon: 360, time: 756)\n",
      "Coordinates:\n",
      "  * lon                    (lon) float64 -179.5 -178.5 -177.5 ... 178.5 179.5\n",
      "  * lat                    (lat) float64 -89.5 -88.5 -87.5 ... 87.5 88.5 89.5\n",
      "  * time                   (time) datetime64[ns] 1958-01-15 ... 2020-12-15\n",
      "Data variables:\n",
      "    area                   (lat, lon) float64 ...\n",
      "    cesm_fgco2_1x1_A       (time, lat, lon) float64 ...\n",
      "    cesm_sfco2_1x1_A       (time, lat, lon) float64 ...\n",
      "    fesom2_fgco2_1x1_A     (time, lat, lon) float64 ...\n",
      "    fesom2_sfco2_1x1_A     (time, lat, lon) float64 ...\n",
      "    cnrm_fgco2_1x1_A       (time, lat, lon) float64 ...\n",
      "    cnrm_sfco2_1x1_A       (time, lat, lon) float64 ...\n",
      "    ipsl_fgco2_1x1_A       (time, lat, lon) float64 ...\n",
      "    ipsl_sfco2_1x1_A       (time, lat, lon) float64 ...\n",
      "    planktom_fgco2_1x1_A   (time, lat, lon) float64 ...\n",
      "    planktom_sfco2_1x1_A   (time, lat, lon) float64 ...\n",
      "    noresm_fgco2_1x1_A     (time, lat, lon) float64 ...\n",
      "    noresm_sfco2_1x1_A     (time, lat, lon) float64 ...\n",
      "    princeton_fgco2_1x1_A  (time, lat, lon) float64 ...\n",
      "    princeton_sfco2_1x1_A  (time, lat, lon) float64 ...\n",
      "    mpi_fgco2_1x1_A        (time, lat, lon) float64 ...\n",
      "    mpi_sfco2_1x1_A        (time, lat, lon) float64 ...\n",
      "Attributes:\n",
      "    description:  Global Carbon Budget 2021 Ocean Models. Model simulation A:...\n",
      "    history:      Created Thu Feb 17 16:53:32 2022\n",
      "    build_user:   jhauck\n",
      "    source:       Included: ['CESM-ETH', 'FESOM2-REcoM', 'CNRM', 'IPSL', 'Pla...\n",
      "    _FillValue:   999999\n"
     ]
    }
   ],
   "source": [
    "print(dm)"
   ]
  },
  {
   "cell_type": "code",
   "execution_count": 17,
   "metadata": {},
   "outputs": [
    {
     "name": "stdout",
     "output_type": "stream",
     "text": [
      "cesm_sfco2_1x1_A\n"
     ]
    },
    {
     "name": "stderr",
     "output_type": "stream",
     "text": [
      "/home/vbennington/.conda/envs/dev2/lib/python3.6/site-packages/ipykernel_launcher.py:29: RuntimeWarning: invalid value encountered in less\n",
      "/home/vbennington/.conda/envs/dev2/lib/python3.6/site-packages/ipykernel_launcher.py:29: RuntimeWarning: invalid value encountered in greater\n"
     ]
    },
    {
     "name": "stdout",
     "output_type": "stream",
     "text": [
      "Overwrite existing file: bilinear_180x360_180x360.nc \n",
      " You can set reuse_weights=True to save computing time.\n"
     ]
    },
    {
     "name": "stderr",
     "output_type": "stream",
     "text": [
      "/home/vbennington/.conda/envs/dev2/lib/python3.6/site-packages/xesmf/smm.py:73: UserWarning: Input array is not C_CONTIGUOUS. Will affect performance.\n",
      "  warnings.warn(\"Input array is not C_CONTIGUOUS. \"\n"
     ]
    },
    {
     "name": "stdout",
     "output_type": "stream",
     "text": [
      "Overwrite existing file: bilinear_180x360_180x360.nc \n",
      " You can set reuse_weights=True to save computing time.\n"
     ]
    },
    {
     "name": "stderr",
     "output_type": "stream",
     "text": [
      "/home/vbennington/.conda/envs/dev2/lib/python3.6/site-packages/xesmf/smm.py:73: UserWarning: Input array is not C_CONTIGUOUS. Will affect performance.\n",
      "  warnings.warn(\"Input array is not C_CONTIGUOUS. \"\n"
     ]
    },
    {
     "name": "stdout",
     "output_type": "stream",
     "text": [
      "fesom2_sfco2_1x1_A\n"
     ]
    },
    {
     "name": "stderr",
     "output_type": "stream",
     "text": [
      "/home/vbennington/.conda/envs/dev2/lib/python3.6/site-packages/ipykernel_launcher.py:29: RuntimeWarning: invalid value encountered in less\n",
      "/home/vbennington/.conda/envs/dev2/lib/python3.6/site-packages/ipykernel_launcher.py:29: RuntimeWarning: invalid value encountered in greater\n"
     ]
    },
    {
     "name": "stdout",
     "output_type": "stream",
     "text": [
      "Overwrite existing file: bilinear_180x360_180x360.nc \n",
      " You can set reuse_weights=True to save computing time.\n"
     ]
    },
    {
     "name": "stderr",
     "output_type": "stream",
     "text": [
      "/home/vbennington/.conda/envs/dev2/lib/python3.6/site-packages/xesmf/smm.py:73: UserWarning: Input array is not C_CONTIGUOUS. Will affect performance.\n",
      "  warnings.warn(\"Input array is not C_CONTIGUOUS. \"\n"
     ]
    },
    {
     "name": "stdout",
     "output_type": "stream",
     "text": [
      "Overwrite existing file: bilinear_180x360_180x360.nc \n",
      " You can set reuse_weights=True to save computing time.\n"
     ]
    },
    {
     "name": "stderr",
     "output_type": "stream",
     "text": [
      "/home/vbennington/.conda/envs/dev2/lib/python3.6/site-packages/xesmf/smm.py:73: UserWarning: Input array is not C_CONTIGUOUS. Will affect performance.\n",
      "  warnings.warn(\"Input array is not C_CONTIGUOUS. \"\n"
     ]
    },
    {
     "name": "stdout",
     "output_type": "stream",
     "text": [
      "mpi_sfco2_1x1_A\n"
     ]
    },
    {
     "name": "stderr",
     "output_type": "stream",
     "text": [
      "/home/vbennington/.conda/envs/dev2/lib/python3.6/site-packages/ipykernel_launcher.py:29: RuntimeWarning: invalid value encountered in less\n",
      "/home/vbennington/.conda/envs/dev2/lib/python3.6/site-packages/ipykernel_launcher.py:29: RuntimeWarning: invalid value encountered in greater\n"
     ]
    },
    {
     "name": "stdout",
     "output_type": "stream",
     "text": [
      "Overwrite existing file: bilinear_180x360_180x360.nc \n",
      " You can set reuse_weights=True to save computing time.\n"
     ]
    },
    {
     "name": "stderr",
     "output_type": "stream",
     "text": [
      "/home/vbennington/.conda/envs/dev2/lib/python3.6/site-packages/xesmf/smm.py:73: UserWarning: Input array is not C_CONTIGUOUS. Will affect performance.\n",
      "  warnings.warn(\"Input array is not C_CONTIGUOUS. \"\n"
     ]
    },
    {
     "name": "stdout",
     "output_type": "stream",
     "text": [
      "Overwrite existing file: bilinear_180x360_180x360.nc \n",
      " You can set reuse_weights=True to save computing time.\n"
     ]
    },
    {
     "name": "stderr",
     "output_type": "stream",
     "text": [
      "/home/vbennington/.conda/envs/dev2/lib/python3.6/site-packages/xesmf/smm.py:73: UserWarning: Input array is not C_CONTIGUOUS. Will affect performance.\n",
      "  warnings.warn(\"Input array is not C_CONTIGUOUS. \"\n"
     ]
    },
    {
     "name": "stdout",
     "output_type": "stream",
     "text": [
      "cnrm_sfco2_1x1_A\n"
     ]
    },
    {
     "name": "stderr",
     "output_type": "stream",
     "text": [
      "/home/vbennington/.conda/envs/dev2/lib/python3.6/site-packages/ipykernel_launcher.py:29: RuntimeWarning: invalid value encountered in less\n",
      "/home/vbennington/.conda/envs/dev2/lib/python3.6/site-packages/ipykernel_launcher.py:29: RuntimeWarning: invalid value encountered in greater\n"
     ]
    },
    {
     "name": "stdout",
     "output_type": "stream",
     "text": [
      "Overwrite existing file: bilinear_180x360_180x360.nc \n",
      " You can set reuse_weights=True to save computing time.\n"
     ]
    },
    {
     "name": "stderr",
     "output_type": "stream",
     "text": [
      "/home/vbennington/.conda/envs/dev2/lib/python3.6/site-packages/xesmf/smm.py:73: UserWarning: Input array is not C_CONTIGUOUS. Will affect performance.\n",
      "  warnings.warn(\"Input array is not C_CONTIGUOUS. \"\n"
     ]
    },
    {
     "name": "stdout",
     "output_type": "stream",
     "text": [
      "Overwrite existing file: bilinear_180x360_180x360.nc \n",
      " You can set reuse_weights=True to save computing time.\n"
     ]
    },
    {
     "name": "stderr",
     "output_type": "stream",
     "text": [
      "/home/vbennington/.conda/envs/dev2/lib/python3.6/site-packages/xesmf/smm.py:73: UserWarning: Input array is not C_CONTIGUOUS. Will affect performance.\n",
      "  warnings.warn(\"Input array is not C_CONTIGUOUS. \"\n"
     ]
    },
    {
     "name": "stdout",
     "output_type": "stream",
     "text": [
      "ipsl_sfco2_1x1_A\n"
     ]
    },
    {
     "name": "stderr",
     "output_type": "stream",
     "text": [
      "/home/vbennington/.conda/envs/dev2/lib/python3.6/site-packages/ipykernel_launcher.py:29: RuntimeWarning: invalid value encountered in less\n",
      "/home/vbennington/.conda/envs/dev2/lib/python3.6/site-packages/ipykernel_launcher.py:29: RuntimeWarning: invalid value encountered in greater\n"
     ]
    },
    {
     "name": "stdout",
     "output_type": "stream",
     "text": [
      "Overwrite existing file: bilinear_180x360_180x360.nc \n",
      " You can set reuse_weights=True to save computing time.\n"
     ]
    },
    {
     "name": "stderr",
     "output_type": "stream",
     "text": [
      "/home/vbennington/.conda/envs/dev2/lib/python3.6/site-packages/xesmf/smm.py:73: UserWarning: Input array is not C_CONTIGUOUS. Will affect performance.\n",
      "  warnings.warn(\"Input array is not C_CONTIGUOUS. \"\n"
     ]
    },
    {
     "name": "stdout",
     "output_type": "stream",
     "text": [
      "Overwrite existing file: bilinear_180x360_180x360.nc \n",
      " You can set reuse_weights=True to save computing time.\n"
     ]
    },
    {
     "name": "stderr",
     "output_type": "stream",
     "text": [
      "/home/vbennington/.conda/envs/dev2/lib/python3.6/site-packages/xesmf/smm.py:73: UserWarning: Input array is not C_CONTIGUOUS. Will affect performance.\n",
      "  warnings.warn(\"Input array is not C_CONTIGUOUS. \"\n"
     ]
    },
    {
     "name": "stdout",
     "output_type": "stream",
     "text": [
      "planktom_sfco2_1x1_A\n"
     ]
    },
    {
     "name": "stderr",
     "output_type": "stream",
     "text": [
      "/home/vbennington/.conda/envs/dev2/lib/python3.6/site-packages/ipykernel_launcher.py:29: RuntimeWarning: invalid value encountered in less\n",
      "/home/vbennington/.conda/envs/dev2/lib/python3.6/site-packages/ipykernel_launcher.py:29: RuntimeWarning: invalid value encountered in greater\n"
     ]
    },
    {
     "name": "stdout",
     "output_type": "stream",
     "text": [
      "Overwrite existing file: bilinear_180x360_180x360.nc \n",
      " You can set reuse_weights=True to save computing time.\n"
     ]
    },
    {
     "name": "stderr",
     "output_type": "stream",
     "text": [
      "/home/vbennington/.conda/envs/dev2/lib/python3.6/site-packages/xesmf/smm.py:73: UserWarning: Input array is not C_CONTIGUOUS. Will affect performance.\n",
      "  warnings.warn(\"Input array is not C_CONTIGUOUS. \"\n"
     ]
    },
    {
     "name": "stdout",
     "output_type": "stream",
     "text": [
      "Overwrite existing file: bilinear_180x360_180x360.nc \n",
      " You can set reuse_weights=True to save computing time.\n"
     ]
    },
    {
     "name": "stderr",
     "output_type": "stream",
     "text": [
      "/home/vbennington/.conda/envs/dev2/lib/python3.6/site-packages/xesmf/smm.py:73: UserWarning: Input array is not C_CONTIGUOUS. Will affect performance.\n",
      "  warnings.warn(\"Input array is not C_CONTIGUOUS. \"\n"
     ]
    },
    {
     "name": "stdout",
     "output_type": "stream",
     "text": [
      "noresm_sfco2_1x1_A\n"
     ]
    },
    {
     "name": "stderr",
     "output_type": "stream",
     "text": [
      "/home/vbennington/.conda/envs/dev2/lib/python3.6/site-packages/ipykernel_launcher.py:29: RuntimeWarning: invalid value encountered in less\n",
      "/home/vbennington/.conda/envs/dev2/lib/python3.6/site-packages/ipykernel_launcher.py:29: RuntimeWarning: invalid value encountered in greater\n"
     ]
    },
    {
     "name": "stdout",
     "output_type": "stream",
     "text": [
      "Overwrite existing file: bilinear_180x360_180x360.nc \n",
      " You can set reuse_weights=True to save computing time.\n"
     ]
    },
    {
     "name": "stderr",
     "output_type": "stream",
     "text": [
      "/home/vbennington/.conda/envs/dev2/lib/python3.6/site-packages/xesmf/smm.py:73: UserWarning: Input array is not C_CONTIGUOUS. Will affect performance.\n",
      "  warnings.warn(\"Input array is not C_CONTIGUOUS. \"\n"
     ]
    },
    {
     "name": "stdout",
     "output_type": "stream",
     "text": [
      "Overwrite existing file: bilinear_180x360_180x360.nc \n",
      " You can set reuse_weights=True to save computing time.\n"
     ]
    },
    {
     "name": "stderr",
     "output_type": "stream",
     "text": [
      "/home/vbennington/.conda/envs/dev2/lib/python3.6/site-packages/xesmf/smm.py:73: UserWarning: Input array is not C_CONTIGUOUS. Will affect performance.\n",
      "  warnings.warn(\"Input array is not C_CONTIGUOUS. \"\n"
     ]
    },
    {
     "name": "stdout",
     "output_type": "stream",
     "text": [
      "princeton_sfco2_1x1_A\n"
     ]
    },
    {
     "name": "stderr",
     "output_type": "stream",
     "text": [
      "/home/vbennington/.conda/envs/dev2/lib/python3.6/site-packages/ipykernel_launcher.py:29: RuntimeWarning: invalid value encountered in less\n",
      "/home/vbennington/.conda/envs/dev2/lib/python3.6/site-packages/ipykernel_launcher.py:29: RuntimeWarning: invalid value encountered in greater\n"
     ]
    },
    {
     "name": "stdout",
     "output_type": "stream",
     "text": [
      "Overwrite existing file: bilinear_180x360_180x360.nc \n",
      " You can set reuse_weights=True to save computing time.\n"
     ]
    },
    {
     "name": "stderr",
     "output_type": "stream",
     "text": [
      "/home/vbennington/.conda/envs/dev2/lib/python3.6/site-packages/xesmf/smm.py:73: UserWarning: Input array is not C_CONTIGUOUS. Will affect performance.\n",
      "  warnings.warn(\"Input array is not C_CONTIGUOUS. \"\n"
     ]
    },
    {
     "name": "stdout",
     "output_type": "stream",
     "text": [
      "Overwrite existing file: bilinear_180x360_180x360.nc \n",
      " You can set reuse_weights=True to save computing time.\n"
     ]
    },
    {
     "name": "stderr",
     "output_type": "stream",
     "text": [
      "/home/vbennington/.conda/envs/dev2/lib/python3.6/site-packages/xesmf/smm.py:73: UserWarning: Input array is not C_CONTIGUOUS. Will affect performance.\n",
      "  warnings.warn(\"Input array is not C_CONTIGUOUS. \"\n"
     ]
    },
    {
     "data": {
      "text/html": [
       "<div>\n",
       "<style scoped>\n",
       "    .dataframe tbody tr th:only-of-type {\n",
       "        vertical-align: middle;\n",
       "    }\n",
       "\n",
       "    .dataframe tbody tr th {\n",
       "        vertical-align: top;\n",
       "    }\n",
       "\n",
       "    .dataframe thead th {\n",
       "        text-align: right;\n",
       "    }\n",
       "</style>\n",
       "<table border=\"1\" class=\"dataframe\">\n",
       "  <thead>\n",
       "    <tr style=\"text-align: right;\">\n",
       "      <th></th>\n",
       "      <th>stats</th>\n",
       "      <th>cesm_sfco2_1x1_A</th>\n",
       "      <th>fesom2_sfco2_1x1_A</th>\n",
       "      <th>mpi_sfco2_1x1_A</th>\n",
       "      <th>cnrm_sfco2_1x1_A</th>\n",
       "      <th>ipsl_sfco2_1x1_A</th>\n",
       "      <th>planktom_sfco2_1x1_A</th>\n",
       "      <th>noresm_sfco2_1x1_A</th>\n",
       "      <th>princeton_sfco2_1x1_A</th>\n",
       "    </tr>\n",
       "  </thead>\n",
       "  <tbody>\n",
       "    <tr>\n",
       "      <th>0</th>\n",
       "      <td>R_BATS</td>\n",
       "      <td>0.929565</td>\n",
       "      <td>0.939886</td>\n",
       "      <td>0.923171</td>\n",
       "      <td>0.908742</td>\n",
       "      <td>0.935126</td>\n",
       "      <td>0.937070</td>\n",
       "      <td>0.862586</td>\n",
       "      <td>0.933324</td>\n",
       "    </tr>\n",
       "    <tr>\n",
       "      <th>1</th>\n",
       "      <td>STD_BATS</td>\n",
       "      <td>39.952802</td>\n",
       "      <td>40.709577</td>\n",
       "      <td>46.125806</td>\n",
       "      <td>35.835002</td>\n",
       "      <td>35.386238</td>\n",
       "      <td>36.868450</td>\n",
       "      <td>28.139510</td>\n",
       "      <td>41.297353</td>\n",
       "    </tr>\n",
       "    <tr>\n",
       "      <th>2</th>\n",
       "      <td>RMSE_BATS</td>\n",
       "      <td>15.201039</td>\n",
       "      <td>15.931462</td>\n",
       "      <td>24.961138</td>\n",
       "      <td>19.873786</td>\n",
       "      <td>17.263100</td>\n",
       "      <td>13.435975</td>\n",
       "      <td>18.611279</td>\n",
       "      <td>15.160893</td>\n",
       "    </tr>\n",
       "    <tr>\n",
       "      <th>3</th>\n",
       "      <td>R_HOT</td>\n",
       "      <td>0.925989</td>\n",
       "      <td>0.924131</td>\n",
       "      <td>0.896702</td>\n",
       "      <td>0.886442</td>\n",
       "      <td>0.919742</td>\n",
       "      <td>0.919850</td>\n",
       "      <td>0.916067</td>\n",
       "      <td>0.924461</td>\n",
       "    </tr>\n",
       "    <tr>\n",
       "      <th>4</th>\n",
       "      <td>STD_HOT</td>\n",
       "      <td>20.082740</td>\n",
       "      <td>20.056567</td>\n",
       "      <td>24.928569</td>\n",
       "      <td>19.256582</td>\n",
       "      <td>20.496880</td>\n",
       "      <td>18.601017</td>\n",
       "      <td>22.451326</td>\n",
       "      <td>20.397445</td>\n",
       "    </tr>\n",
       "    <tr>\n",
       "      <th>5</th>\n",
       "      <td>RMSE_HOT</td>\n",
       "      <td>7.695605</td>\n",
       "      <td>7.841069</td>\n",
       "      <td>20.864546</td>\n",
       "      <td>15.733327</td>\n",
       "      <td>8.530190</td>\n",
       "      <td>19.713430</td>\n",
       "      <td>28.132643</td>\n",
       "      <td>12.930235</td>\n",
       "    </tr>\n",
       "    <tr>\n",
       "      <th>6</th>\n",
       "      <td>R_SOCCOM</td>\n",
       "      <td>0.397877</td>\n",
       "      <td>0.169151</td>\n",
       "      <td>0.231357</td>\n",
       "      <td>0.150604</td>\n",
       "      <td>0.220471</td>\n",
       "      <td>-0.057357</td>\n",
       "      <td>0.171748</td>\n",
       "      <td>0.377914</td>\n",
       "    </tr>\n",
       "    <tr>\n",
       "      <th>7</th>\n",
       "      <td>STD_SOCCOM</td>\n",
       "      <td>21.786211</td>\n",
       "      <td>28.366417</td>\n",
       "      <td>35.875386</td>\n",
       "      <td>19.762817</td>\n",
       "      <td>21.258006</td>\n",
       "      <td>21.440540</td>\n",
       "      <td>22.512306</td>\n",
       "      <td>27.017274</td>\n",
       "    </tr>\n",
       "    <tr>\n",
       "      <th>8</th>\n",
       "      <td>RMSE_SOCCOM</td>\n",
       "      <td>35.702975</td>\n",
       "      <td>43.697170</td>\n",
       "      <td>45.274858</td>\n",
       "      <td>39.385943</td>\n",
       "      <td>38.429844</td>\n",
       "      <td>44.112806</td>\n",
       "      <td>40.077380</td>\n",
       "      <td>38.434020</td>\n",
       "    </tr>\n",
       "    <tr>\n",
       "      <th>9</th>\n",
       "      <td>R_LDEO</td>\n",
       "      <td>0.611889</td>\n",
       "      <td>0.520822</td>\n",
       "      <td>0.533134</td>\n",
       "      <td>0.564289</td>\n",
       "      <td>0.598805</td>\n",
       "      <td>0.480677</td>\n",
       "      <td>0.548732</td>\n",
       "      <td>0.637786</td>\n",
       "    </tr>\n",
       "    <tr>\n",
       "      <th>10</th>\n",
       "      <td>STD_LDEO</td>\n",
       "      <td>39.231946</td>\n",
       "      <td>44.312531</td>\n",
       "      <td>42.063538</td>\n",
       "      <td>36.839494</td>\n",
       "      <td>38.032447</td>\n",
       "      <td>34.590179</td>\n",
       "      <td>34.147732</td>\n",
       "      <td>39.418622</td>\n",
       "    </tr>\n",
       "    <tr>\n",
       "      <th>11</th>\n",
       "      <td>RMSE_LDEO</td>\n",
       "      <td>34.778764</td>\n",
       "      <td>42.723114</td>\n",
       "      <td>39.407218</td>\n",
       "      <td>36.746472</td>\n",
       "      <td>35.810945</td>\n",
       "      <td>37.921051</td>\n",
       "      <td>36.347254</td>\n",
       "      <td>33.848498</td>\n",
       "    </tr>\n",
       "    <tr>\n",
       "      <th>12</th>\n",
       "      <td>R_GLODAP</td>\n",
       "      <td>0.572192</td>\n",
       "      <td>0.538928</td>\n",
       "      <td>0.597733</td>\n",
       "      <td>0.538201</td>\n",
       "      <td>0.594680</td>\n",
       "      <td>0.473526</td>\n",
       "      <td>0.537875</td>\n",
       "      <td>0.668402</td>\n",
       "    </tr>\n",
       "    <tr>\n",
       "      <th>13</th>\n",
       "      <td>STD_GLODAP</td>\n",
       "      <td>34.923121</td>\n",
       "      <td>50.885766</td>\n",
       "      <td>40.789924</td>\n",
       "      <td>37.364092</td>\n",
       "      <td>39.781955</td>\n",
       "      <td>35.919854</td>\n",
       "      <td>32.167841</td>\n",
       "      <td>48.410527</td>\n",
       "    </tr>\n",
       "    <tr>\n",
       "      <th>14</th>\n",
       "      <td>RMSE_GLODAP</td>\n",
       "      <td>36.030732</td>\n",
       "      <td>46.670204</td>\n",
       "      <td>37.263778</td>\n",
       "      <td>39.844414</td>\n",
       "      <td>38.080573</td>\n",
       "      <td>40.384897</td>\n",
       "      <td>40.025787</td>\n",
       "      <td>37.383802</td>\n",
       "    </tr>\n",
       "  </tbody>\n",
       "</table>\n",
       "</div>"
      ],
      "text/plain": [
       "          stats  cesm_sfco2_1x1_A  fesom2_sfco2_1x1_A  mpi_sfco2_1x1_A  \\\n",
       "0        R_BATS          0.929565            0.939886         0.923171   \n",
       "1      STD_BATS         39.952802           40.709577        46.125806   \n",
       "2     RMSE_BATS         15.201039           15.931462        24.961138   \n",
       "3         R_HOT          0.925989            0.924131         0.896702   \n",
       "4       STD_HOT         20.082740           20.056567        24.928569   \n",
       "5      RMSE_HOT          7.695605            7.841069        20.864546   \n",
       "6      R_SOCCOM          0.397877            0.169151         0.231357   \n",
       "7    STD_SOCCOM         21.786211           28.366417        35.875386   \n",
       "8   RMSE_SOCCOM         35.702975           43.697170        45.274858   \n",
       "9        R_LDEO          0.611889            0.520822         0.533134   \n",
       "10     STD_LDEO         39.231946           44.312531        42.063538   \n",
       "11    RMSE_LDEO         34.778764           42.723114        39.407218   \n",
       "12     R_GLODAP          0.572192            0.538928         0.597733   \n",
       "13   STD_GLODAP         34.923121           50.885766        40.789924   \n",
       "14  RMSE_GLODAP         36.030732           46.670204        37.263778   \n",
       "\n",
       "    cnrm_sfco2_1x1_A  ipsl_sfco2_1x1_A  planktom_sfco2_1x1_A  \\\n",
       "0           0.908742          0.935126              0.937070   \n",
       "1          35.835002         35.386238             36.868450   \n",
       "2          19.873786         17.263100             13.435975   \n",
       "3           0.886442          0.919742              0.919850   \n",
       "4          19.256582         20.496880             18.601017   \n",
       "5          15.733327          8.530190             19.713430   \n",
       "6           0.150604          0.220471             -0.057357   \n",
       "7          19.762817         21.258006             21.440540   \n",
       "8          39.385943         38.429844             44.112806   \n",
       "9           0.564289          0.598805              0.480677   \n",
       "10         36.839494         38.032447             34.590179   \n",
       "11         36.746472         35.810945             37.921051   \n",
       "12          0.538201          0.594680              0.473526   \n",
       "13         37.364092         39.781955             35.919854   \n",
       "14         39.844414         38.080573             40.384897   \n",
       "\n",
       "    noresm_sfco2_1x1_A  princeton_sfco2_1x1_A  \n",
       "0             0.862586               0.933324  \n",
       "1            28.139510              41.297353  \n",
       "2            18.611279              15.160893  \n",
       "3             0.916067               0.924461  \n",
       "4            22.451326              20.397445  \n",
       "5            28.132643              12.930235  \n",
       "6             0.171748               0.377914  \n",
       "7            22.512306              27.017274  \n",
       "8            40.077380              38.434020  \n",
       "9             0.548732               0.637786  \n",
       "10           34.147732              39.418622  \n",
       "11           36.347254              33.848498  \n",
       "12            0.537875               0.668402  \n",
       "13           32.167841              48.410527  \n",
       "14           40.025787              37.383802  "
      ]
     },
     "execution_count": 17,
     "metadata": {},
     "output_type": "execute_result"
    }
   ],
   "source": [
    "# We have 8 models in dm (uncorrected model pCO2)\n",
    "##################################################\n",
    "for mod in models:\n",
    "    print(mod)\n",
    "    # Load netcdf\n",
    "    R_BATS, STD_BATS, RMSE_BATS, obs = BATS_stats(dm,mod,mod,start_yr=start_yr,end_yr=end_yr)\n",
    "    R_HOT, STD_HOT, RMSE_HOT, obs = HOT_stats(dm,mod,mod,start_yr=start_yr,end_yr=end_yr) # handle starts/ends in routines\n",
    "    R_SOCCOM, STD_SOCCOM, RMSE_SOCCOM, obs = SOCCOM_stats(dm,mod,mod,start_yr=start_yr,end_yr=end_yr)\n",
    "    R_LDEO, STD_LDEO, RMSE_LDEO, obs = LDEO_stats(dm,mod,mod,start_yr=start_yr,end_yr=end_yr)\n",
    "    R_GLODAP, STD_GLODAP, RMSE_GLODAP, obs = GLODAP_stats(dm,mod,mod,start_yr=start_yr,end_yr=end_yr)\n",
    "\n",
    "    df_models[f'{mod}']=[R_BATS,STD_BATS,RMSE_BATS,R_HOT,STD_HOT,RMSE_HOT,R_SOCCOM,STD_SOCCOM,RMSE_SOCCOM, \n",
    "                     R_LDEO,STD_LDEO,RMSE_LDEO, R_GLODAP,STD_GLODAP,RMSE_GLODAP]\n",
    "df_models.head(15)"
   ]
  },
  {
   "cell_type": "code",
   "execution_count": 18,
   "metadata": {},
   "outputs": [],
   "source": [
    "# Write out Files #\n",
    "df_models.to_csv(f'{recon_output_dir}/Taylor_stats_pCO2_allmodels_{start_yr}-{end_yr}.csv',index=False)"
   ]
  },
  {
   "cell_type": "code",
   "execution_count": 19,
   "metadata": {},
   "outputs": [],
   "source": [
    "correction = \"2000-2020\""
   ]
  },
  {
   "cell_type": "code",
   "execution_count": 20,
   "metadata": {},
   "outputs": [
    {
     "name": "stdout",
     "output_type": "stream",
     "text": [
      "2000-2020\n"
     ]
    },
    {
     "name": "stderr",
     "output_type": "stream",
     "text": [
      "/home/vbennington/.conda/envs/dev2/lib/python3.6/site-packages/ipykernel_launcher.py:29: RuntimeWarning: invalid value encountered in less\n",
      "/home/vbennington/.conda/envs/dev2/lib/python3.6/site-packages/ipykernel_launcher.py:29: RuntimeWarning: invalid value encountered in greater\n"
     ]
    },
    {
     "name": "stdout",
     "output_type": "stream",
     "text": [
      "Overwrite existing file: bilinear_180x360_180x360.nc \n",
      " You can set reuse_weights=True to save computing time.\n",
      "Overwrite existing file: bilinear_180x360_180x360.nc \n",
      " You can set reuse_weights=True to save computing time.\n"
     ]
    },
    {
     "data": {
      "text/html": [
       "<div>\n",
       "<style scoped>\n",
       "    .dataframe tbody tr th:only-of-type {\n",
       "        vertical-align: middle;\n",
       "    }\n",
       "\n",
       "    .dataframe tbody tr th {\n",
       "        vertical-align: top;\n",
       "    }\n",
       "\n",
       "    .dataframe thead th {\n",
       "        text-align: right;\n",
       "    }\n",
       "</style>\n",
       "<table border=\"1\" class=\"dataframe\">\n",
       "  <thead>\n",
       "    <tr style=\"text-align: right;\">\n",
       "      <th></th>\n",
       "      <th>stats</th>\n",
       "      <th>HPD</th>\n",
       "      <th>observed</th>\n",
       "    </tr>\n",
       "  </thead>\n",
       "  <tbody>\n",
       "    <tr>\n",
       "      <th>0</th>\n",
       "      <td>R_BATS</td>\n",
       "      <td>0.945207</td>\n",
       "      <td>1.000000</td>\n",
       "    </tr>\n",
       "    <tr>\n",
       "      <th>1</th>\n",
       "      <td>STD_BATS</td>\n",
       "      <td>30.963623</td>\n",
       "      <td>35.604917</td>\n",
       "    </tr>\n",
       "    <tr>\n",
       "      <th>2</th>\n",
       "      <td>RMSE_BATS</td>\n",
       "      <td>11.931436</td>\n",
       "      <td>0.000000</td>\n",
       "    </tr>\n",
       "    <tr>\n",
       "      <th>3</th>\n",
       "      <td>R_HOT</td>\n",
       "      <td>0.930037</td>\n",
       "      <td>1.000000</td>\n",
       "    </tr>\n",
       "    <tr>\n",
       "      <th>4</th>\n",
       "      <td>STD_HOT</td>\n",
       "      <td>20.007301</td>\n",
       "      <td>19.401837</td>\n",
       "    </tr>\n",
       "    <tr>\n",
       "      <th>5</th>\n",
       "      <td>RMSE_HOT</td>\n",
       "      <td>7.866122</td>\n",
       "      <td>0.000000</td>\n",
       "    </tr>\n",
       "    <tr>\n",
       "      <th>6</th>\n",
       "      <td>R_SOCCOM</td>\n",
       "      <td>0.556732</td>\n",
       "      <td>1.000000</td>\n",
       "    </tr>\n",
       "    <tr>\n",
       "      <th>7</th>\n",
       "      <td>STD_SOCCOM</td>\n",
       "      <td>19.866852</td>\n",
       "      <td>36.740302</td>\n",
       "    </tr>\n",
       "    <tr>\n",
       "      <th>8</th>\n",
       "      <td>RMSE_SOCCOM</td>\n",
       "      <td>31.321699</td>\n",
       "      <td>0.000000</td>\n",
       "    </tr>\n",
       "    <tr>\n",
       "      <th>9</th>\n",
       "      <td>R_LDEO</td>\n",
       "      <td>0.906959</td>\n",
       "      <td>1.000000</td>\n",
       "    </tr>\n",
       "    <tr>\n",
       "      <th>10</th>\n",
       "      <td>STD_LDEO</td>\n",
       "      <td>33.412417</td>\n",
       "      <td>37.053456</td>\n",
       "    </tr>\n",
       "    <tr>\n",
       "      <th>11</th>\n",
       "      <td>RMSE_LDEO</td>\n",
       "      <td>15.923725</td>\n",
       "      <td>0.000000</td>\n",
       "    </tr>\n",
       "    <tr>\n",
       "      <th>12</th>\n",
       "      <td>R_GLODAP</td>\n",
       "      <td>0.875010</td>\n",
       "      <td>1.000000</td>\n",
       "    </tr>\n",
       "    <tr>\n",
       "      <th>13</th>\n",
       "      <td>STD_GLODAP</td>\n",
       "      <td>32.005362</td>\n",
       "      <td>36.010655</td>\n",
       "    </tr>\n",
       "    <tr>\n",
       "      <th>14</th>\n",
       "      <td>RMSE_GLODAP</td>\n",
       "      <td>17.718797</td>\n",
       "      <td>0.000000</td>\n",
       "    </tr>\n",
       "  </tbody>\n",
       "</table>\n",
       "</div>"
      ],
      "text/plain": [
       "          stats        HPD   observed\n",
       "0        R_BATS   0.945207   1.000000\n",
       "1      STD_BATS  30.963623  35.604917\n",
       "2     RMSE_BATS  11.931436   0.000000\n",
       "3         R_HOT   0.930037   1.000000\n",
       "4       STD_HOT  20.007301  19.401837\n",
       "5      RMSE_HOT   7.866122   0.000000\n",
       "6      R_SOCCOM   0.556732   1.000000\n",
       "7    STD_SOCCOM  19.866852  36.740302\n",
       "8   RMSE_SOCCOM  31.321699   0.000000\n",
       "9        R_LDEO   0.906959   1.000000\n",
       "10     STD_LDEO  33.412417  37.053456\n",
       "11    RMSE_LDEO  15.923725   0.000000\n",
       "12     R_GLODAP   0.875010   1.000000\n",
       "13   STD_GLODAP  32.005362  36.010655\n",
       "14  RMSE_GLODAP  17.718797   0.000000"
      ]
     },
     "execution_count": 20,
     "metadata": {},
     "output_type": "execute_result"
    }
   ],
   "source": [
    "# We have 1 final product:\n",
    "# Doesn't matter which file we open, as correction in all files the same after 1981\n",
    "print(correction)\n",
    "# Load netcdf\n",
    "ds = xr.load_dataset(f\"{recon_output_dir}/pCO2_cc{correction}_1x1_recon_1959-2020.nc\")\n",
    "ds['ens'] = ds.pCO2.mean(\"model\") # use HPD, not climatology correction for entire period\n",
    "R_BATS, STD_BATS, RMSE_BATS, b_obs = BATS_stats(ds,'ens','ens',start_yr=start_yr,end_yr=end_yr)\n",
    "R_HOT, STD_HOT, RMSE_HOT, h_obs = HOT_stats(ds,'ens','ens',start_yr=start_yr,end_yr=end_yr) # handle starts/ends in routines\n",
    "R_SOCCOM, STD_SOCCOM, RMSE_SOCCOM, s_obs = SOCCOM_stats(ds,'ens','ens',start_yr=start_yr,end_yr=end_yr)\n",
    "R_LDEO, STD_LDEO, RMSE_LDEO, l_obs = LDEO_stats(ds,'ens','ens',start_yr=start_yr,end_yr=end_yr)\n",
    "R_GLODAP, STD_GLODAP, RMSE_GLODAP, g_obs = GLODAP_stats(ds,'ens','ens',start_yr=start_yr,end_yr=end_yr)\n",
    "\n",
    "df_ens['HPD']=[R_BATS,STD_BATS,RMSE_BATS,R_HOT,STD_HOT,RMSE_HOT,R_SOCCOM,STD_SOCCOM,RMSE_SOCCOM, \n",
    "                     R_LDEO,STD_LDEO,RMSE_LDEO, R_GLODAP,STD_GLODAP,RMSE_GLODAP]\n",
    "\n",
    "df_ens['observed']=[1,b_obs,0,1,h_obs,0,1,s_obs,0,1,l_obs,0,1,g_obs,0]\n",
    "\n",
    "df_ens.head(15)"
   ]
  },
  {
   "cell_type": "code",
   "execution_count": 21,
   "metadata": {},
   "outputs": [
    {
     "name": "stdout",
     "output_type": "stream",
     "text": [
      "1998-2020\n"
     ]
    },
    {
     "name": "stderr",
     "output_type": "stream",
     "text": [
      "/home/vbennington/.conda/envs/dev2/lib/python3.6/site-packages/ipykernel_launcher.py:29: RuntimeWarning: invalid value encountered in less\n",
      "/home/vbennington/.conda/envs/dev2/lib/python3.6/site-packages/ipykernel_launcher.py:29: RuntimeWarning: invalid value encountered in greater\n"
     ]
    },
    {
     "name": "stdout",
     "output_type": "stream",
     "text": [
      "Overwrite existing file: bilinear_180x360_180x360.nc \n",
      " You can set reuse_weights=True to save computing time.\n",
      "Overwrite existing file: bilinear_180x360_180x360.nc \n",
      " You can set reuse_weights=True to save computing time.\n",
      "2000-2020\n"
     ]
    },
    {
     "name": "stderr",
     "output_type": "stream",
     "text": [
      "/home/vbennington/.conda/envs/dev2/lib/python3.6/site-packages/ipykernel_launcher.py:29: RuntimeWarning: invalid value encountered in less\n",
      "/home/vbennington/.conda/envs/dev2/lib/python3.6/site-packages/ipykernel_launcher.py:29: RuntimeWarning: invalid value encountered in greater\n"
     ]
    },
    {
     "name": "stdout",
     "output_type": "stream",
     "text": [
      "Overwrite existing file: bilinear_180x360_180x360.nc \n",
      " You can set reuse_weights=True to save computing time.\n",
      "Overwrite existing file: bilinear_180x360_180x360.nc \n",
      " You can set reuse_weights=True to save computing time.\n",
      "1982-2020\n"
     ]
    },
    {
     "name": "stderr",
     "output_type": "stream",
     "text": [
      "/home/vbennington/.conda/envs/dev2/lib/python3.6/site-packages/ipykernel_launcher.py:29: RuntimeWarning: invalid value encountered in less\n",
      "/home/vbennington/.conda/envs/dev2/lib/python3.6/site-packages/ipykernel_launcher.py:29: RuntimeWarning: invalid value encountered in greater\n"
     ]
    },
    {
     "name": "stdout",
     "output_type": "stream",
     "text": [
      "Overwrite existing file: bilinear_180x360_180x360.nc \n",
      " You can set reuse_weights=True to save computing time.\n",
      "Overwrite existing file: bilinear_180x360_180x360.nc \n",
      " You can set reuse_weights=True to save computing time.\n"
     ]
    },
    {
     "data": {
      "text/html": [
       "<div>\n",
       "<style scoped>\n",
       "    .dataframe tbody tr th:only-of-type {\n",
       "        vertical-align: middle;\n",
       "    }\n",
       "\n",
       "    .dataframe tbody tr th {\n",
       "        vertical-align: top;\n",
       "    }\n",
       "\n",
       "    .dataframe thead th {\n",
       "        text-align: right;\n",
       "    }\n",
       "</style>\n",
       "<table border=\"1\" class=\"dataframe\">\n",
       "  <thead>\n",
       "    <tr style=\"text-align: right;\">\n",
       "      <th></th>\n",
       "      <th>stats</th>\n",
       "      <th>HPD</th>\n",
       "      <th>observed</th>\n",
       "      <th>1998-2020</th>\n",
       "      <th>2000-2020</th>\n",
       "      <th>1982-2020</th>\n",
       "    </tr>\n",
       "  </thead>\n",
       "  <tbody>\n",
       "    <tr>\n",
       "      <th>0</th>\n",
       "      <td>R_BATS</td>\n",
       "      <td>0.945207</td>\n",
       "      <td>1.000000</td>\n",
       "      <td>0.944610</td>\n",
       "      <td>0.944479</td>\n",
       "      <td>0.945228</td>\n",
       "    </tr>\n",
       "    <tr>\n",
       "      <th>1</th>\n",
       "      <td>STD_BATS</td>\n",
       "      <td>30.963623</td>\n",
       "      <td>35.604917</td>\n",
       "      <td>31.408612</td>\n",
       "      <td>31.391670</td>\n",
       "      <td>31.315551</td>\n",
       "    </tr>\n",
       "    <tr>\n",
       "      <th>2</th>\n",
       "      <td>RMSE_BATS</td>\n",
       "      <td>11.931436</td>\n",
       "      <td>0.000000</td>\n",
       "      <td>11.939852</td>\n",
       "      <td>11.957880</td>\n",
       "      <td>11.863270</td>\n",
       "    </tr>\n",
       "    <tr>\n",
       "      <th>3</th>\n",
       "      <td>R_HOT</td>\n",
       "      <td>0.930037</td>\n",
       "      <td>1.000000</td>\n",
       "      <td>0.931573</td>\n",
       "      <td>0.931292</td>\n",
       "      <td>0.931401</td>\n",
       "    </tr>\n",
       "    <tr>\n",
       "      <th>4</th>\n",
       "      <td>STD_HOT</td>\n",
       "      <td>20.007301</td>\n",
       "      <td>19.401837</td>\n",
       "      <td>19.449076</td>\n",
       "      <td>19.455413</td>\n",
       "      <td>19.145376</td>\n",
       "    </tr>\n",
       "    <tr>\n",
       "      <th>5</th>\n",
       "      <td>RMSE_HOT</td>\n",
       "      <td>7.866122</td>\n",
       "      <td>0.000000</td>\n",
       "      <td>7.771595</td>\n",
       "      <td>7.836608</td>\n",
       "      <td>7.795457</td>\n",
       "    </tr>\n",
       "    <tr>\n",
       "      <th>6</th>\n",
       "      <td>R_SOCCOM</td>\n",
       "      <td>0.556732</td>\n",
       "      <td>1.000000</td>\n",
       "      <td>0.541532</td>\n",
       "      <td>0.541984</td>\n",
       "      <td>0.533917</td>\n",
       "    </tr>\n",
       "    <tr>\n",
       "      <th>7</th>\n",
       "      <td>STD_SOCCOM</td>\n",
       "      <td>19.866852</td>\n",
       "      <td>36.740302</td>\n",
       "      <td>17.870341</td>\n",
       "      <td>18.046816</td>\n",
       "      <td>17.566228</td>\n",
       "    </tr>\n",
       "    <tr>\n",
       "      <th>8</th>\n",
       "      <td>RMSE_SOCCOM</td>\n",
       "      <td>31.321699</td>\n",
       "      <td>0.000000</td>\n",
       "      <td>31.328013</td>\n",
       "      <td>31.335766</td>\n",
       "      <td>31.670893</td>\n",
       "    </tr>\n",
       "    <tr>\n",
       "      <th>9</th>\n",
       "      <td>R_LDEO</td>\n",
       "      <td>0.906959</td>\n",
       "      <td>1.000000</td>\n",
       "      <td>0.845073</td>\n",
       "      <td>0.844472</td>\n",
       "      <td>0.843724</td>\n",
       "    </tr>\n",
       "    <tr>\n",
       "      <th>10</th>\n",
       "      <td>STD_LDEO</td>\n",
       "      <td>33.412417</td>\n",
       "      <td>37.053456</td>\n",
       "      <td>32.354253</td>\n",
       "      <td>32.504050</td>\n",
       "      <td>31.353117</td>\n",
       "    </tr>\n",
       "    <tr>\n",
       "      <th>11</th>\n",
       "      <td>RMSE_LDEO</td>\n",
       "      <td>15.923725</td>\n",
       "      <td>0.000000</td>\n",
       "      <td>20.026304</td>\n",
       "      <td>20.079122</td>\n",
       "      <td>20.103745</td>\n",
       "    </tr>\n",
       "    <tr>\n",
       "      <th>12</th>\n",
       "      <td>R_GLODAP</td>\n",
       "      <td>0.875010</td>\n",
       "      <td>1.000000</td>\n",
       "      <td>0.839301</td>\n",
       "      <td>0.839205</td>\n",
       "      <td>0.842146</td>\n",
       "    </tr>\n",
       "    <tr>\n",
       "      <th>13</th>\n",
       "      <td>STD_GLODAP</td>\n",
       "      <td>32.005362</td>\n",
       "      <td>36.010655</td>\n",
       "      <td>31.326041</td>\n",
       "      <td>31.430567</td>\n",
       "      <td>30.205710</td>\n",
       "    </tr>\n",
       "    <tr>\n",
       "      <th>14</th>\n",
       "      <td>RMSE_GLODAP</td>\n",
       "      <td>17.718797</td>\n",
       "      <td>0.000000</td>\n",
       "      <td>19.761878</td>\n",
       "      <td>19.757196</td>\n",
       "      <td>19.595375</td>\n",
       "    </tr>\n",
       "  </tbody>\n",
       "</table>\n",
       "</div>"
      ],
      "text/plain": [
       "          stats        HPD   observed  1998-2020  2000-2020  1982-2020\n",
       "0        R_BATS   0.945207   1.000000   0.944610   0.944479   0.945228\n",
       "1      STD_BATS  30.963623  35.604917  31.408612  31.391670  31.315551\n",
       "2     RMSE_BATS  11.931436   0.000000  11.939852  11.957880  11.863270\n",
       "3         R_HOT   0.930037   1.000000   0.931573   0.931292   0.931401\n",
       "4       STD_HOT  20.007301  19.401837  19.449076  19.455413  19.145376\n",
       "5      RMSE_HOT   7.866122   0.000000   7.771595   7.836608   7.795457\n",
       "6      R_SOCCOM   0.556732   1.000000   0.541532   0.541984   0.533917\n",
       "7    STD_SOCCOM  19.866852  36.740302  17.870341  18.046816  17.566228\n",
       "8   RMSE_SOCCOM  31.321699   0.000000  31.328013  31.335766  31.670893\n",
       "9        R_LDEO   0.906959   1.000000   0.845073   0.844472   0.843724\n",
       "10     STD_LDEO  33.412417  37.053456  32.354253  32.504050  31.353117\n",
       "11    RMSE_LDEO  15.923725   0.000000  20.026304  20.079122  20.103745\n",
       "12     R_GLODAP   0.875010   1.000000   0.839301   0.839205   0.842146\n",
       "13   STD_GLODAP  32.005362  36.010655  31.326041  31.430567  30.205710\n",
       "14  RMSE_GLODAP  17.718797   0.000000  19.761878  19.757196  19.595375"
      ]
     },
     "execution_count": 21,
     "metadata": {},
     "output_type": "execute_result"
    }
   ],
   "source": [
    "# We have 3 different climatology-corrected files (using climatology of different periods):\n",
    "for correction in correcs:\n",
    "    print(correction)\n",
    "    # Load netcdf\n",
    "    ds = xr.load_dataset(f\"{recon_output_dir}/pCO2_cc{correction}_1x1_recon_1959-2020.nc\")\n",
    "    ds['ens'] = ds.pCO2cc.mean(\"model\")\n",
    "    R_BATS, STD_BATS, RMSE_BATS, obs = BATS_stats(ds,'ens','ens',start_yr=start_yr,end_yr=end_yr)\n",
    "    R_HOT, STD_HOT, RMSE_HOT, obs = HOT_stats(ds,'ens','ens',start_yr=start_yr,end_yr=end_yr) # handle starts/ends in routines\n",
    "    R_SOCCOM, STD_SOCCOM, RMSE_SOCCOM, obs = SOCCOM_stats(ds,'ens','ens',start_yr=start_yr,end_yr=end_yr)\n",
    "    R_LDEO, STD_LDEO, RMSE_LDEO, obs = LDEO_stats(ds,'ens','ens',start_yr=start_yr,end_yr=end_yr)\n",
    "    R_GLODAP, STD_GLODAP, RMSE_GLODAP, obs = GLODAP_stats(ds,'ens','ens',start_yr=start_yr,end_yr=end_yr)\n",
    "\n",
    "    df_ens[f'{correction}']=[R_BATS,STD_BATS,RMSE_BATS,R_HOT,STD_HOT,RMSE_HOT,R_SOCCOM,STD_SOCCOM,RMSE_SOCCOM, \n",
    "                     R_LDEO,STD_LDEO,RMSE_LDEO, R_GLODAP,STD_GLODAP,RMSE_GLODAP]\n",
    "     \n",
    "df_ens.head(15)"
   ]
  },
  {
   "cell_type": "code",
   "execution_count": 22,
   "metadata": {},
   "outputs": [],
   "source": [
    "# Write out Files #\n",
    "df_ens.to_csv(f'{recon_output_dir}/Taylor_stats_pCO2_ens_{start_yr}-{end_yr}.csv',index=False)"
   ]
  },
  {
   "cell_type": "code",
   "execution_count": 7,
   "metadata": {},
   "outputs": [],
   "source": [
    "def BATS_stats(ml_timeseries,model,recon,start_yr=1984,end_yr=2018,blat=121,blon=115):\n",
    "    \n",
    "    # determine appropriate START YEAR # \n",
    "    if start_yr < 1984:\n",
    "        start_yr = 1984\n",
    "  \n",
    "    if end_yr > 2018:\n",
    "        end_yr = 2018\n",
    "    \n",
    "    # Grab BATS observations:\n",
    "    bats1 = xr.open_dataset('/data/artemis/workspace/gloege/data/BATS/BATS.nc')\n",
    "    bats2 = xr.open_dataset('/data/artemis/observations/BATS/2021_data/bats_spco2_199110-201906.nc')\n",
    "    bats = xr.concat(objs=[bats1,bats2],dim='time')\n",
    "    # Remove duplicates\n",
    "    bats = bats.groupby('time').mean()\n",
    "    # Put BATS monthly averages:\n",
    "    bats_monthly = bats.spco2.to_dataframe().resample('M').mean()\n",
    "    # Extract years of interest:\n",
    "    bats_monthly = bats_monthly.loc[f'{start_yr}-1-01 00:00:00':f'{end_yr}-12-31 00:00:00']\n",
    "    # 31 50'N 64 10'W ###########     \n",
    "    \n",
    "    # Model already monthly #\n",
    "    if ((recon==\"pCO2cc\") & (model!=\"ens\")):\n",
    "        pco2_df = ml_timeseries[recon].sel(model=f\"{model}\")[:,blat,blon].squeeze().to_dataframe()\n",
    "    if model==\"ens\":\n",
    "        pco2_df = ml_timeseries[recon][:,blat,blon].squeeze().to_dataframe()\n",
    "    if ((recon!=\"pCO2cc\") & (model!=\"ens\")):\n",
    "        pco2_df = ml_timeseries[recon][:,blat,blon].squeeze().to_dataframe()\n",
    "        \n",
    "    pco2_df = pco2_df.loc[f'{start_yr}-01-01 00:00:00':f'{end_yr}-12-15 00:00:00']    \n",
    "    \n",
    "    # get time uniform:\n",
    "    bats_monthly = bats_monthly.set_index(pco2_df.index)\n",
    "        \n",
    "    # correlate where no NANs\n",
    "    fib = (~np.isnan(bats_monthly.spco2) & ~np.isnan(pco2_df[recon]))\n",
    "    R = np.corrcoef(pco2_df[recon][fib],bats_monthly['spco2'][fib])[0,1]\n",
    "    STD = np.nanstd(pco2_df[recon][fib])\n",
    "    BATS_STD = np.nanstd(bats_monthly.spco2[fib])\n",
    "    \n",
    "    #RMSE\n",
    "    RMSE = np.sqrt(np.square(bats_monthly.spco2[fib]-pco2_df[recon][fib]).sum()/(fib.sum()))\n",
    "    \n",
    "    return R, STD, RMSE, BATS_STD"
   ]
  },
  {
   "cell_type": "code",
   "execution_count": 8,
   "metadata": {},
   "outputs": [],
   "source": [
    "def HOT_stats(ml_timeseries,model,recon,start_yr=1989,end_yr=2016,hlat=112,hlon=22):\n",
    "    \n",
    "    if start_yr < 1989:\n",
    "        start_yr = 1989\n",
    "    if end_yr < start_yr:\n",
    "        print(\"Your dates are wrong for HOT; data starts in 1989\")\n",
    "    if end_yr > 2016:\n",
    "        end_yr = 2016\n",
    "    \n",
    "    # Grab observations\n",
    "    hot = xr.open_dataset('/data/artemis/workspace/gloege/data/HOT/HOT.nc')\n",
    "    hot=hot.where(hot.spco2>0)\n",
    "    \n",
    "    if ((recon==\"pCO2cc\") & (model!='ens')):\n",
    "        pco2_df = ml_timeseries[recon].sel(model=f\"{model}\")[:,hlat,hlon].squeeze().to_dataframe()\n",
    "    if model==\"ens\":\n",
    "        pco2_df = ml_timeseries[recon][:,hlat,hlon].squeeze().to_dataframe()\n",
    "    if ((recon!=\"pCO2cc\") & (model!=\"ens\")):\n",
    "        pco2_df = ml_timeseries[recon][:,hlat,hlon].squeeze().to_dataframe()\n",
    "    \n",
    "    pco2_df = pco2_df.loc[f'{start_yr}-1-01 00:00:00':f'{end_yr}-12-15 00:00:00']\n",
    "    \n",
    "    \n",
    "    # P\n",
    "    hots_monthly = hot.spco2.to_dataframe().resample('M').mean()\n",
    "    hots_monthly = hots_monthly.loc[f'{start_yr}-1-01 00:00:00':f'{end_yr}-12-31 00:00:00']\n",
    "    hots_monthly = hots_monthly.set_index(pco2_df.index)\n",
    "    # Point by point comparison #\n",
    "    ind = ((~np.isnan(hots_monthly.spco2)) & (hots_monthly.spco2 > 150) & (~np.isnan(pco2_df[recon])))\n",
    "    R = np.corrcoef(pco2_df[recon][ind],hots_monthly.spco2[ind])[0,1]\n",
    "    \n",
    "    STD = np.std(pco2_df[recon][ind])\n",
    "    HOT_STD = np.nanstd(hots_monthly.spco2[ind])\n",
    "    \n",
    "    #RMSE\n",
    "    RMSE = np.sqrt(np.square(hots_monthly.spco2[ind]-pco2_df[recon][ind]).sum()/ind.sum())\n",
    "    \n",
    "    # We want to know the correlation coef, STD of reconstruction, trendline, seasonal cycle:\n",
    "    return R, STD, RMSE, HOT_STD"
   ]
  },
  {
   "cell_type": "code",
   "execution_count": 9,
   "metadata": {},
   "outputs": [],
   "source": [
    "def SOCCOM_stats(ml_gridded,model,recon,start_yr=1982,end_yr=2019):\n",
    "    \n",
    "    start_yr = max(1985,start_yr)\n",
    "    if recon in ['csirml6','jenamls','lsceffnn2','mpisomffn','spco2']:\n",
    "        end_yr = 2018\n",
    "        \n",
    "    # grab observations and years of interest #\n",
    "    df = xr.open_dataset('/data/artemis/observations/SOCCOM/processed/SOCCOM_gridded_spco2_mon_195001-202112.nc') \n",
    "    spco2 = df.spco2[(start_yr-1950)*12:(end_yr-1949)*12,:,:]\n",
    "    time = df.time[(start_yr-1950)*12:(end_yr-1949)*12]\n",
    "    lat = df.ylat\n",
    "    lon = df.xlon\n",
    "   \n",
    "    if ((recon==\"pCO2cc\") & (model!='ens')):\n",
    "        pco2 = ml_gridded[recon].sel(model=f\"{model}\").loc[f'{start_yr}-1-01 00:00:00':f'{end_yr+1}-1-01']\n",
    "    if model==\"ens\":\n",
    "        pco2 = ml_gridded[recon].loc[f'{start_yr}-1-01 00:00:00':f'{end_yr+1}-1-01']\n",
    "    if ((recon!=\"pCO2cc\") & (model!=\"ens\")):\n",
    "        pco2 = ml_gridded[recon].loc[f'{start_yr}-1-01 00:00:00':f'{end_yr+1}-1-01']\n",
    "        \n",
    "    # Grab from model gridded reconstruction #\n",
    "    ylat = ml_gridded.lat\n",
    "    xlon = ml_gridded.lon\n",
    "    pco2_stack = pco2.stack(level=['time','lat','lon'])\n",
    "    \n",
    "    # stack the time series #\n",
    "    soccom = spco2.stack(level=['time','ylat','xlon'])\n",
    "    \n",
    "    fis = ((~np.isnan(soccom.values)) & (~np.isnan(pco2_stack.values)) & (soccom.values < 815) & (soccom.values > 150))\n",
    "    \n",
    "    R = np.corrcoef(soccom[fis],pco2_stack[fis])[0,1]\n",
    "    STD = np.std(pco2_stack[fis].values)\n",
    "    SOCCOM_STD = np.std(soccom[fis].values)\n",
    "    \n",
    "    #RMSE\n",
    "    RMSE = np.sqrt(np.square(soccom[fis].values-pco2_stack[fis].values).sum()/fis.sum())\n",
    "    \n",
    "    return R, STD, RMSE, SOCCOM_STD"
   ]
  },
  {
   "cell_type": "code",
   "execution_count": 10,
   "metadata": {},
   "outputs": [],
   "source": [
    "def LDEO_stats(ml_gridded,model,recon,start_yr=1982,end_yr=2018):\n",
    "    \n",
    "    start_yr = max(start_yr,1985)\n",
    "    if end_yr > 2018:\n",
    "        end_yr = 2018\n",
    "\n",
    "    lon = ml_gridded.lon\n",
    "    lat = ml_gridded.lat\n",
    "    mtime = ml_gridded.time\n",
    "\n",
    "    # Load the observations #\n",
    "    ldeo = xr.open_dataset('/data/artemis/observations/LDEO_database/processed/LDEOv2018_1x1_198201-201812.nc')\n",
    "    ldeo_pco2=ldeo.spco2_mean[(start_yr-1982)*12:(end_yr-1981)*12,:,:]\n",
    "    ldeo_lat=ldeo.lat\n",
    "    ldeo_lon=ldeo.lon\n",
    "    ldeo_time = ldeo.time\n",
    "    \n",
    "    # Regrid to LDEO's grid #########\n",
    "    mgrid = xr.Dataset({'lat':(['lat'],lat.values),'lon':(['lon'],lon.values)})\n",
    "    lgrid = xr.Dataset({'lat':(['lat'],ldeo_lat.values),'lon':(['lon'],ldeo_lon.values)})\n",
    "    if ((recon==\"pCO2cc\") & (model!='ens')):\n",
    "         mpco2 = xr.Dataset({recon:(['time','lat','lon'],ml_gridded[recon].sel(model=f\"{model}\")),'time':(['time'],mtime.values),'lat':(['lat'],lat.values),'lon':(['lon'],lon.values)})\n",
    "    if model==\"ens\":\n",
    "        mpco2 = xr.Dataset({recon:(['time','lat','lon'],ml_gridded[recon]),'time':(['time'],mtime.values),'lat':(['lat'],lat.values),'lon':(['lon'],lon.values)})\n",
    "    if ((recon!=\"pCO2cc\") & (model!=\"ens\")):\n",
    "        mpco2 = xr.Dataset({recon:(['time','lat','lon'],ml_gridded[recon]),'time':(['time'],mtime.values),'lat':(['lat'],lat.values),'lon':(['lon'],lon.values)})\n",
    "  \n",
    "    regridder = xe.Regridder(mpco2, lgrid, 'bilinear')\n",
    "    regridder.periodic = 'true'\n",
    "    \n",
    "    if ((model=='ens')):\n",
    "         pco2_new = regridder(ml_gridded[recon])\n",
    "    if ((recon==\"pCO2cc\") & (model!='ens')):\n",
    "        pco2_new = regridder(ml_gridded[recon].sel(model=f\"{model}\"))\n",
    "    if ((recon!=\"pCO2cc\") & (model!=\"ens\")):\n",
    "        pco2_new = regridder(ml_gridded[recon])\n",
    "        \n",
    "    ldeo_pco2 = ldeo_pco2.where(((ldeo_pco2<850) & (ldeo_pco2>150)))\n",
    "    ldeo_pco2 = ldeo_pco2.loc[f'{start_yr}-1-01 00:00:00':f'{end_yr}-12-31 00:00:00']\n",
    "    pco2_new = pco2_new.loc[f'{start_yr}-1-01 00:00:00':f'{end_yr}-12-31 00:00:00']\n",
    "    \n",
    "\n",
    "    # stack\n",
    "    lpco2 = ldeo_pco2.stack(level=['time','lat','lon'])\n",
    "    pco2_stack = pco2_new.stack(level=['time','lat','lon'])\n",
    "    \n",
    "    indx = (~np.isnan(lpco2.values) & ~np.isnan(pco2_stack.values))\n",
    "    \n",
    "    R = np.corrcoef(lpco2[indx],pco2_stack[indx])[0,1]\n",
    "    LDEO_STD = np.std(lpco2[indx].values)\n",
    "    STD = np.std(pco2_stack[indx].values)\n",
    "    #RMSE\n",
    "    RMSE = np.sqrt(np.square(lpco2[indx].values-pco2_stack[indx].values).sum()/indx.sum())\n",
    "    \n",
    "    return R, STD, RMSE, LDEO_STD"
   ]
  },
  {
   "cell_type": "code",
   "execution_count": 11,
   "metadata": {},
   "outputs": [],
   "source": [
    "def GLODAP_stats(ml_gridded,model,recon,start_yr=1982,end_yr=2018):\n",
    "    \n",
    "    # Reconstructions #\n",
    "    lon = ml_gridded.lon\n",
    "    lat = ml_gridded.lat\n",
    "    start_yr = max(start_yr,1985)\n",
    "        \n",
    "    start_yr = max(start_yr,1985)\n",
    "    end_yr = min(end_yr,2018)\n",
    "    \n",
    "    mtime = ml_gridded.time\n",
    "    \n",
    "    # Load the data #\n",
    "    glod = xr.open_dataset('/data/artemis/observations/GLODAP_v2/processed/GLODAPv2_spco2_1x1_198201-201812.nc')\n",
    "    glod_pco2=glod.spco2_mean\n",
    "    glod_lat=glod.lat\n",
    "    glod_lon=glod.lon\n",
    "    glod_time = glod.time\n",
    "    \n",
    "    # Deal with NaNs #\n",
    "    if ((recon==\"pCO2cc\") & (model!='ens')):\n",
    "        tmp = ml_gridded[recon].sel(model=f\"{model}\").where(ml_gridded[recon].sel(model=f\"{model}\") > 0)\n",
    "    if model==\"ens\":\n",
    "        tmp = ml_gridded[recon].where(ml_gridded[recon] > 0)\n",
    "    if ((recon!=\"pCO2cc\") & (model!=\"ens\")):\n",
    "        tmp = ml_gridded[recon].where(ml_gridded[recon] > 0)\n",
    "    \n",
    "    tmp = tmp.where(tmp < 850)\n",
    "    \n",
    "    # Regrid to GLODAP grid #\n",
    "    mgrid = xr.Dataset({'lat':(['lat'],lat.values),'lon':(['lon'],lon.values)})\n",
    "    ggrid = xr.Dataset({'lat':(['lat'],glod_lat.values),'lon':(['lon'],glod_lon.values)})\n",
    "    mpco2 = xr.Dataset({recon:(['time','lat','lon'],tmp.values),'time':(['time'],mtime.values),'lat':(['lat'],lat.values),'lon':(['lon'],lon.values)})\n",
    "    regridder = xe.Regridder(mpco2, ggrid, 'bilinear')\n",
    "    regridder.periodic = 'true'\n",
    "    pco2_new = regridder(tmp)\n",
    "    \n",
    "    # Extract Time #\n",
    "    glod_pco2 = glod_pco2.loc[f'{start_yr}-1-01 00:00:00':f'{end_yr}-12-31 00:00:00']\n",
    "    pco2_new = pco2_new.loc[f'{start_yr}-1-01 00:00:00':f'{end_yr}-12-31 00:00:00']\n",
    "    \n",
    "    # Stack\n",
    "    gpco2_stack = glod_pco2.stack(level=['time','lat','lon'])\n",
    "    pco2_stack = pco2_new.stack(level=['time','lat','lon'])\n",
    "    \n",
    "    # Stats\n",
    "    indx = ((~np.isnan(gpco2_stack.values)) & (~np.isnan(pco2_stack.values)))\n",
    "    R = np.corrcoef(gpco2_stack[indx],pco2_stack[indx])[0,1]\n",
    "    GLODAP_STD = np.std(gpco2_stack[indx].values)\n",
    "    STD = np.std(pco2_stack[indx].values)\n",
    "    #RMSE\n",
    "    RMSE = np.sqrt(np.square(gpco2_stack[indx].values-pco2_stack[indx].values).sum()/indx.sum())\n",
    "    \n",
    "    return R, STD, RMSE, GLODAP_STD"
   ]
  },
  {
   "cell_type": "code",
   "execution_count": null,
   "metadata": {},
   "outputs": [],
   "source": []
  }
 ],
 "metadata": {
  "kernelspec": {
   "display_name": "EOF Test2",
   "language": "python",
   "name": "dev2"
  },
  "language_info": {
   "codemirror_mode": {
    "name": "ipython",
    "version": 3
   },
   "file_extension": ".py",
   "mimetype": "text/x-python",
   "name": "python",
   "nbconvert_exporter": "python",
   "pygments_lexer": "ipython3",
   "version": "3.6.7"
  }
 },
 "nbformat": 4,
 "nbformat_minor": 4
}
